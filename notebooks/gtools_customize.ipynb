{
 "cells": [
  {
   "cell_type": "markdown",
   "metadata": {},
   "source": [
    "# Configuring the model, running g-tools and output files and infos"
   ]
  },
  {
   "cell_type": "markdown",
   "metadata": {},
   "source": [
    "This tutorial shows how to configure the model and how to run Fermipy-LAT g-tools with Fermipy.\n",
    "Many parts of this tutorial are taken directly from the documentation page of Fermipy: [fermipy.readthedocs](http://fermipy.readthedocs.io/en/latest/). \n",
    "I suggest to visit it to find further informations."
   ]
  },
  {
   "cell_type": "markdown",
   "metadata": {},
   "source": [
    "# Configuring the model"
   ]
  },
  {
   "cell_type": "markdown",
   "metadata": {},
   "source": [
    "The model can be configured with a configuration file or directly running Fermipy with your script."
   ]
  },
  {
   "cell_type": "markdown",
   "metadata": {},
   "source": [
    "The configuration file defines the data selection and analysis parameters. The configuration file has a hierarchical structure that groups parameters into dictionaries that are keyed to a section name (data, binning, etc.). "
   ]
  },
  {
   "cell_type": "markdown",
   "metadata": {},
   "source": [
    "When creating a class instance, the configuration is initialized by passing either a configuration dictionary or configuration file path to the class constructor. \n",
    "Keyword arguments can be passed to the constructor to override configuration parameters in the input dictionary. \n",
    "In the following example the config dictionary defines values for the parameters emin and emax. By passing a dictionary for the selection keyword argument, the value of emax in the keyword argument (10000) overrides the value of emax in the input dictionary."
   ]
  },
  {
   "cell_type": "raw",
   "metadata": {},
   "source": [
    "# config = {\n",
    "'selection' : { 'emin' : 100,\n",
    "                'emax' : 1000 }\n",
    "}\n",
    "\n",
    "gta = GTAnalysis(config,selection={'emax' : 10000})"
   ]
  },
  {
   "cell_type": "markdown",
   "metadata": {},
   "source": [
    "The configuration file can be created also with a yaml file.\n",
    "Below I report a sample of configuration applied for an analysis of the SMC:"
   ]
  },
  {
   "cell_type": "raw",
   "metadata": {},
   "source": [
    "data:\n",
    "  evfile : 'ft1.fits'\n",
    "  scfile : '/u/gl/mdimauro/kipac/workdir/files/SC/P8_104months_ft2.fits'\n",
    "  ltcube : '/u/gl/mdimauro/dmcat/workdir/mattia/LogNLogS_Ebins/files_bins/bin13/P8_SOURCE_zmax105_1_3_ltcube.fits'\n",
    "\n",
    "binning:\n",
    "  roiwidth   : 12.0\n",
    "  binsz      : 0.08\n",
    "  binsperdec : 8\n",
    "  coordsys   : 'GAL'\n",
    "\n",
    "selection :\n",
    "  emin : 1000\n",
    "  emax : 500000\n",
    "  tmin : 239557417\n",
    "  tmax : 512994417\n",
    "  zmax    : 105\n",
    "  evclass : 128\n",
    "  evtype  : 3\n",
    "  glon: 302.25\n",
    "  glat : -44.37\n",
    " \n",
    "gtlike:\n",
    "  edisp : True\n",
    "  irfs : 'P8R2_SOURCE_V6'\n",
    "  edisp_disable : ['isodiff','galdiff']\n",
    "\n",
    "model:\n",
    "  src_roiwidth : 12.0\n",
    "  galdiff  : '$FERMI_DIFFUSE_DIR/gll_iem_v06.fits'\n",
    "  isodiff  : '$FERMI_DIFFUSE_DIR/iso_P8R2_SOURCE_V6_v06.txt'  \n",
    "  catalogs: gll_psc_v16.fit\n",
    "\n",
    "fileio:\n",
    "  usescratch: False"
   ]
  },
  {
   "cell_type": "markdown",
   "metadata": {},
   "source": [
    "The configuration file has the same structure as the configuration dictionary such that one can read/write configurations using the load/dump methods of the yaml module:"
   ]
  },
  {
   "cell_type": "markdown",
   "metadata": {},
   "source": [
    "DATA"
   ]
  },
  {
   "cell_type": "markdown",
   "metadata": {},
   "source": [
    "The data section defines the input data files for the analysis (FT1, FT2, and livetime cube). \n",
    "evfile and scfile can either be individual files or group of files. The optional ltcube option can be used to choose a pre-generated livetime cube. \n",
    "If ltcube is null a livetime cube will be generated at runtime with gtltcube."
   ]
  },
  {
   "cell_type": "markdown",
   "metadata": {},
   "source": [
    "Below an example of the data part:"
   ]
  },
  {
   "cell_type": "raw",
   "metadata": {},
   "source": [
    "data :\n",
    "  evfile : ft1.lst\n",
    "  scfile : ft2.fits\n",
    "  ltcube : null"
   ]
  },
  {
   "cell_type": "markdown",
   "metadata": {},
   "source": [
    "The options for the data component are the following:\n",
    "* cacheft1: Cache FT1 files when performing binned analysis. If false then only the counts cube is retained.\n",
    "* evfile: Path to FT1 file or list of FT1 files.\n",
    "* ltcube: Path to livetime cube. If none a livetime cube will be generated with gtmktime.\n",
    "* scfile: Path to FT2 (spacecraft) file."
   ]
  },
  {
   "cell_type": "markdown",
   "metadata": {},
   "source": [
    "BINNING"
   ]
  },
  {
   "cell_type": "markdown",
   "metadata": {},
   "source": [
    "Options in the binning section control the spatial and spectral binning of the data. "
   ]
  },
  {
   "cell_type": "raw",
   "metadata": {},
   "source": [
    "binning:\n",
    "\n",
    "  # Binning\n",
    "  roiwidth   : 10.0\n",
    "  npix       : null\n",
    "  binsz      : 0.1 # spatial bin size in deg\n",
    "  binsperdec : 8   # nb energy bins per decade\n",
    "  projtype   : WCS"
   ]
  },
  {
   "cell_type": "markdown",
   "metadata": {},
   "source": [
    "The roiwidth is the ROI width, npix specifies the number of pixels, binsz indicates the pixel size, binsperdec is the number of energy bins per decade and projtype is the type of projection and can be WCS and HEALPIX."
   ]
  },
  {
   "cell_type": "markdown",
   "metadata": {},
   "source": [
    "Other options are: \n",
    "* coordsys: for the coordinate system Galactic or Celestial (CEL or GAL), \n",
    "* hpx_order: is the healpix order, hpx_ordering_scheme is the HEALPix Ordering Scheme, \n",
    "* proj: is the Spatial projection for WCS mode, Width of the ROI in degrees. \n",
    "* roiwidth: is the number of pixels in each spatial dimension will be set from roiwidth / binsz (rounded up)."
   ]
  },
  {
   "cell_type": "markdown",
   "metadata": {},
   "source": [
    "COMPONENTS"
   ]
  },
  {
   "cell_type": "markdown",
   "metadata": {},
   "source": [
    "The components section can be used to define analysis configurations for independent subselections of the data. Each subselection will have its own binned likelihood instance that is combined in a global likelihood function for the ROI (implemented with the SummedLikelihood class in pyLikelihood). The components section is optional and when set to null (the default) only a single likelihood component will be created with the parameters of the root analysis configuration.\n",
    "\n",
    "The component section is defined as a list of dictionaries where each element sets analysis parameters for a different subcomponent of the analysis. The component configurations follow the same structure and accept the same parameters as the root analysis configuration. Parameters not defined in a given element will default to the values set in the root analysis configuration.\n",
    "\n",
    "The following example illustrates how to define a Front/Back analysis with two components. Files associated to each component will be given a suffix according to their order in the list (e.g. file_00.fits, file_01.fits, etc.)."
   ]
  },
  {
   "cell_type": "raw",
   "metadata": {},
   "source": [
    "# Component section for Front/Back analysis\n",
    "  - { selection : { evtype : 1 } } # Front\n",
    "  - { selection : { evtype : 2 } } # Back"
   ]
  },
  {
   "cell_type": "markdown",
   "metadata": {},
   "source": [
    "The following example illustrates how to define an analysis divided in four components. Each of them has a different zmax and uses a different evtype and isotropic template."
   ]
  },
  {
   "cell_type": "raw",
   "metadata": {},
   "source": [
    "components:\n",
    "  - model: {isodiff: $FERMI_DIFFUSE_DIR/iso_P8R2_SOURCE_V6_PSF0_v06.txt}\n",
    "    selection: {evtype: 4, zmax: 80}\n",
    "    data: {ltcube: ltcube_00.fits}\n",
    "  - model: {isodiff: $FERMI_DIFFUSE_DIR/iso_P8R2_SOURCE_V6_PSF1_v06.txt}\n",
    "    selection: {evtype: 8, zmax: 85}\n",
    "    data: {ltcube: ltcube_01.fits}\n",
    "  - model: {isodiff: $FERMI_DIFFUSE_DIR/iso_P8R2_SOURCE_V6_PSF2_v06.txt}\n",
    "    selection: {evtype: 16, zmax: 95}\n",
    "    data: {ltcube: ltcube_02.fits}\n",
    "  - model: {isodiff: $FERMI_DIFFUSE_DIR/iso_P8R2_SOURCE_V6_PSF3_v06.txt}\n",
    "    selection: {evtype: 32, zmax: 100}\n",
    "    data: {ltcube: ltcube_03.fits}"
   ]
  },
  {
   "cell_type": "markdown",
   "metadata": {},
   "source": [
    "EXTENSION"
   ]
  },
  {
   "cell_type": "markdown",
   "metadata": {},
   "source": [
    "The options in extension control the default behavior of the extension method. For more information about using this method see the Extension Fitting page. The main options are the following:\n",
    "* fit_ebin: Perform a fit for the angular extension in each analysis energy bin.\n",
    "* fit_position: Perform a simultaneous fit to the source position and extension.\n",
    "* fix_shape: Fix spectral shape parameters of the source of interest. If True then only the normalization parameter will be fit.\n",
    "* free_background: Leave background parameters free when performing the fit. If True then any parameters that are currently free in the model will be fit simultaneously with the source of interest.\n",
    "* free_radius: Free normalizations of background sources within this angular distance in degrees from the source of interest. If None then no sources will be freed.\n",
    "* sqrt_ts_threshold: Threshold on sqrt(TS_ext) that will be applied when update is True. If None then nothreshold is applied.\n",
    "* width: Sequence of values in degrees for the likelihood scan over spatial extension (68% containment radius). If this argument is None then the scan points will be determined from width_min/width_max/width_nstep.\n",
    "* width_max: Maximum value in degrees for the likelihood scan over spatial extent.\n",
    "* width_min: Minimum value in degrees for the likelihood scan over spatial extent.\n",
    "* width_nstep: Number of scan points between width_min and width_max. Scan points will be spaced evenly on a logarithmic scale between width_min and width_max."
   ]
  },
  {
   "cell_type": "markdown",
   "metadata": {},
   "source": [
    "There is a notebook dedicated to this analysis."
   ]
  },
  {
   "cell_type": "markdown",
   "metadata": {},
   "source": [
    "FILEIO"
   ]
  },
  {
   "cell_type": "markdown",
   "metadata": {},
   "source": [
    "The fileio section collects options related to file bookkeeping. The outdir option sets the root directory of the analysis instance where all output files will be written. If outdir is null then the output directory will be automatically set to the directory in which the configuration file is located. Enabling the usescratch option will stage all output data files to a temporary scratch directory created under scratchdir."
   ]
  },
  {
   "cell_type": "markdown",
   "metadata": {},
   "source": [
    "Sample fileio Configuration"
   ]
  },
  {
   "cell_type": "raw",
   "metadata": {},
   "source": [
    "fileio:\n",
    "   outdir : null\n",
    "   logfile : null\n",
    "   usescratch : False\n",
    "   scratchdir  : '/scratch'"
   ]
  },
  {
   "cell_type": "markdown",
   "metadata": {},
   "source": [
    "The options for the fileio are the following:\n",
    "* logfile: Path to log file. If None then log will be written to fermipy.log.\n",
    "* outdir: Path of the output directory. If none this will default to the directory containing the configuration file.\n",
    "* outdir_regex: Stage files to the output directory that match at least one of the regular expressions in this list. This option only takes effect when usescratch is True.\n",
    "* savefits: Save intermediate FITS files.\n",
    "* scratchdir: Path to the scratch directory. If usescratch is True then a temporary working directory will be created under this directory.\n",
    "* usescratch: Run analysis in a temporary working directory under scratchdir.\n",
    "* workdir: Path to the working directory.\n",
    "* workdir_regex: Stage files to the working directory that match at least one of the regular expressions in this list. This option only takes effect when usescratch is True."
   ]
  },
  {
   "cell_type": "markdown",
   "metadata": {},
   "source": [
    "GTLIKE"
   ]
  },
  {
   "cell_type": "markdown",
   "metadata": {},
   "source": [
    "Options in the gtlike section control the setup of the likelihood analysis include the IRF name (irfs)."
   ]
  },
  {
   "cell_type": "markdown",
   "metadata": {},
   "source": [
    "A subsample of options for the gtlike section is listed below:\n",
    "* edisp: Enable the correction for energy dispersion.\n",
    "* edisp_disable: Provide a list of sources for which the edisp correction should be disabled.\n",
    "* use_external_srcmap: Use an external precomputed source map file.\n",
    "* use_scaled_srcmap: Generate source map by scaling an external srcmap file.\n",
    "* wmap: Likelihood weights map."
   ]
  },
  {
   "cell_type": "markdown",
   "metadata": {},
   "source": [
    "The Likelihood wights map is created and used in order to account for example for the uncertainty in the interstellar emission."
   ]
  },
  {
   "cell_type": "markdown",
   "metadata": {},
   "source": [
    "MODEL"
   ]
  },
  {
   "cell_type": "markdown",
   "metadata": {},
   "source": [
    "The model section collects options that control the inclusion of point-source and diffuse components in the model. galdiff and isodiff set the templates for the Galactic IEM and isotropic diffuse respectively. catalogs defines a list of catalogs that will be merged to form a master analysis catalog from which sources will be drawn. Valid entries in this list can be FITS files or XML model files. sources can be used to insert additional point-source or extended components beyond those defined in the master catalog. src_radius and src_roiwidth set the maximum distance from the ROI center at which sources in the master catalog will be included in the ROI model."
   ]
  },
  {
   "cell_type": "markdown",
   "metadata": {},
   "source": [
    "Sample for the Model section:"
   ]
  },
  {
   "cell_type": "raw",
   "metadata": {},
   "source": [
    "model :\n",
    "\n",
    "  # Diffuse components\n",
    "  galdiff  : '$FERMI_DIR/refdata/fermi/galdiffuse/gll_iem_v06.fits'\n",
    "  isodiff  : '$FERMI_DIR/refdata/fermi/galdiffuse/iso_P8R2_SOURCE_V6_v06.txt'\n",
    "\n",
    "  # List of catalogs to be used in the model.\n",
    "  catalogs :\n",
    "    - '3FGL'\n",
    "    - 'extra_sources.xml'\n",
    "\n",
    "  sources :\n",
    "    - { 'name' : 'SourceA', 'ra' : 60.0, 'dec' : 30.0, 'SpectrumType' : PowerLaw }\n",
    "    - { 'name' : 'SourceB', 'ra' : 58.0, 'dec' : 35.0, 'SpectrumType' : PowerLaw }\n",
    "\n",
    "  # Include catalog sources within this distance from the ROI center\n",
    "  src_radius  : null\n",
    "\n",
    "  # Include catalog sources within a box of width roisrc.\n",
    "  src_roiwidth : 15.0"
   ]
  },
  {
   "cell_type": "markdown",
   "metadata": {},
   "source": [
    "In the sample above the official IEM and isotropic template are used together with the 3FGL catalog given with a fits file and by an additional catalog given with an xml file following the notation of the Fermi Science Tools [fermi.fssc.spectralmodel](https://fermi.gsfc.nasa.gov/ssc/data/analysis/scitools/xml_model_defs.html#xmlModelDefinitions).\n",
    "Then two sources named as SourceA and SourceB are added."
   ]
  },
  {
   "cell_type": "markdown",
   "metadata": {},
   "source": [
    "To define two or more galactic diffuse components you can optionally define the galdiff and isodiff parameters as lists. A separate component will be generated for each element in the list with the name galdiffXX or isodiffXX where XX is an integer position in the list."
   ]
  },
  {
   "cell_type": "raw",
   "metadata": {},
   "source": [
    "model:\n",
    "  galdiff  :\n",
    "    - '$FERMI_DIFFUSE_DIR/diffuse_component0.fits'\n",
    "    - '$FERMI_DIFFUSE_DIR/diffuse_component1.fits'"
   ]
  },
  {
   "cell_type": "markdown",
   "metadata": {},
   "source": [
    "To explicitly set the name of a component you can define any element as a dictionary containing name and file fields:"
   ]
  },
  {
   "cell_type": "raw",
   "metadata": {},
   "source": [
    "model:\n",
    "  galdiff  :\n",
    "    - { 'name' : 'component0', 'file' : '$FERMI_DIFFUSE_DIR/diffuse_component0.fits' }\n",
    "    - { 'name' : 'component1', 'file' : '$FERMI_DIFFUSE_DIR/diffuse_component1.fits' }"
   ]
  },
  {
   "cell_type": "markdown",
   "metadata": {},
   "source": [
    "The list of sources for inclusion in the ROI model is set by defining a list of catalogs with the catalogs parameter. Catalog files can be in either XML or FITS format. Sources from the catalogs in this list that satisfy either the src_roiwidth or src_radius selections are added to the ROI model. If a source is defined in multiple catalogs the source definition from the last file in the catalogs list takes precedence."
   ]
  },
  {
   "cell_type": "raw",
   "metadata": {},
   "source": [
    "model:\n",
    "\n",
    "  src_radius: 5.0\n",
    "  src_roiwidth: 10.0\n",
    "  catalogs :\n",
    "    - 'gll_psc_v16.fit'\n",
    "    - 'extra_sources.xml'"
   ]
  },
  {
   "cell_type": "markdown",
   "metadata": {},
   "source": [
    "Fermipy supports four spatial models which are defined with the SpatialModel property:\n",
    "\n",
    "* PointSource : A point source (SkyDirFunction).\n",
    "* RadialGaussian : A symmetric 2D Gaussian with width parameter ‘Sigma’.\n",
    "* RadialDisk : A symmetric 2D Disk with radius ‘Radius’.\n",
    "* SpatialMap : An arbitrary 2D shape with morphology defined by a FITS template.\n",
    "\n",
    "The spatial extension of RadialDisk and RadialGaussian can be controlled with the SpatialWidth parameter which sets the 68% containment radius in degrees. Note for ST releases prior to 11-01-01, RadialDisk and RadialGaussian sources will be represented with the SpatialMap type."
   ]
  },
  {
   "cell_type": "raw",
   "metadata": {},
   "source": [
    "model:\n",
    "  sources  :\n",
    "    - { name: 'PointSource', glon : 120.0, glat : 0.0,\n",
    "     SpectrumType : 'PowerLaw', Index : 2.0, Scale : 1000, Prefactor : !!float 1e-11,\n",
    "     SpatialModel: 'PointSource' }\n",
    "    - { name: 'DiskSource', glon : 120.0, glat : 0.0,\n",
    "     SpectrumType : 'PowerLaw', Index : 2.0, Scale : 1000, Prefactor : !!float 1e-11,\n",
    "     SpatialModel: 'RadialDisk', SpatialWidth: 1.0 }\n",
    "    - { name: 'GaussSource', glon : 120.0, glat : 0.0,\n",
    "     SpectrumType : 'PowerLaw', Index : 2.0, Scale : 1000, Prefactor : !!float 1e-11,\n",
    "     SpatialModel: 'RadialGaussian', SpatialWidth: 1.0 }\n",
    "    - { name: 'MapSource', glon : 120.0, glat : 0.0,\n",
    "     SpectrumType : 'PowerLaw', Index : 2.0, Scale : 1000, Prefactor : !!float 1e-11,\n",
    "     SpatialModel: 'SpatialMap', Spatial_Filename : 'template.fits' }"
   ]
  },
  {
   "cell_type": "markdown",
   "metadata": {},
   "source": [
    "OPTIMIZER"
   ]
  },
  {
   "cell_type": "markdown",
   "metadata": {},
   "source": [
    "This section provides informations for the setup used for the optimization. The list of options are the following:\n",
    "* init_lambda: Initial value of damping parameter for step size calculation when using the NEWTON fitter. A value of zero disables damping.\n",
    "* max_iter: Maximum number of iterations for the Newtons method fitter.\n",
    "* min_fit_quality: Set the minimum fit quality.\n",
    "* optimizer: Set the optimization algorithm to use when maximizing the likelihood function.\n",
    "* retries: Set the number of times to retry the fit when the fit quality is less than min_fit_quality.\n",
    "* tol: Set the optimizer tolerance.\n",
    "* verbosity"
   ]
  },
  {
   "cell_type": "markdown",
   "metadata": {},
   "source": [
    "PLOTTING"
   ]
  },
  {
   "cell_type": "markdown",
   "metadata": {},
   "source": [
    "This section selects the options to be used to make the plots:\n",
    "* cmap: Set the colormap for 2D plots. Default magma\n",
    "* cmap_resid: Set the colormap for 2D residual plots.\n",
    "* figsize: Set the default figure size.\n",
    "* format: format of images\n",
    "* interactive: Enable interactive mode. If True then plots will be drawn after each plotting command.\n",
    "* label_ts_threshold: TS threshold for labeling sources in sky maps. If None then no sources will be labeled."
   ]
  },
  {
   "cell_type": "markdown",
   "metadata": {},
   "source": [
    "SELECTION"
   ]
  },
  {
   "cell_type": "markdown",
   "metadata": {},
   "source": [
    "The selection section collects parameters related to the data selection and target definition. The majority of the parameters in this section are arguments to gtselect and gtmktime. The ROI center can be set with the target parameter by providing the name of a source defined in one of the input catalogs (defined in the model section). Alternatively the ROI center can be defined by giving explicit sky coordinates with ra and dec or glon and glat."
   ]
  },
  {
   "cell_type": "raw",
   "metadata": {},
   "source": [
    "selection:\n",
    "\n",
    "  # gtselect parameters\n",
    "  emin    : 100\n",
    "  emax    : 100000\n",
    "  zmax    : 90\n",
    "  evclass : 128\n",
    "  evtype  : 3\n",
    "  tmin    : 239557414\n",
    "  tmax    : 428903014\n",
    "\n",
    "  # gtmktime parameters\n",
    "  filter : 'DATA_QUAL>0 && LAT_CONFIG==1'\n",
    "  roicut : 'no'\n",
    "\n",
    "  # Set the ROI center to the coordinates of this source\n",
    "  target : 'mkn421'"
   ]
  },
  {
   "cell_type": "markdown",
   "metadata": {},
   "source": [
    "A sample of options for this section are the following:\n",
    "* emax/emin: Maximum/Minimum Energy (MeV)\n",
    "* evclass: Event class selection.\n",
    "* evtype: Event type selection.\n",
    "* filter: Filter string for gtmktime selection.\n",
    "* logemax/logemin: Maximum/Minimum Energy (log10(MeV))\n",
    "* phasemax/phasemin: Maximum/Minimum pulsar phase\n",
    "* radius: Radius of data selection. If none this will be automatically set from the ROI size.\n",
    "* target: Choose an object on which to center the ROI. This option takes precendence over ra/dec or glon/glat.\n",
    "* tmax/tmin: Maximum/Minimum time (MET).\n",
    "* zmax: Maximum zenith angle."
   ]
  },
  {
   "cell_type": "markdown",
   "metadata": {},
   "source": [
    "# Running g-tools"
   ]
  },
  {
   "cell_type": "markdown",
   "metadata": {},
   "source": [
    "First of all you need to load the configuration file, create the object gta and run the tool gta.setup that implements the ST gtselect, gtmktime, gtbin, gtexpcube, gtsrcmap tools"
   ]
  },
  {
   "cell_type": "markdown",
   "metadata": {},
   "source": [
    "With the commands below we import the packages needed to run the script."
   ]
  },
  {
   "cell_type": "code",
   "execution_count": 1,
   "metadata": {},
   "outputs": [],
   "source": [
    "%matplotlib inline\n",
    "\n",
    "import os\n",
    "import numpy as np\n",
    "from fermipy.gtanalysis import GTAnalysis\n",
    "from fermipy.plotting import ROIPlotter, SEDPlotter\n",
    "import matplotlib.pyplot as plt\n",
    "import matplotlib\n",
    "from IPython.display import Image"
   ]
  },
  {
   "cell_type": "markdown",
   "metadata": {},
   "source": [
    "Then we untar the file ../data/SMC_data.tar.gz. This will copy the config.yaml and ft1 file in the notebook directory."
   ]
  },
  {
   "cell_type": "code",
   "execution_count": 4,
   "metadata": {},
   "outputs": [
    {
     "name": "stdout",
     "output_type": "stream",
     "text": [
      "  % Total    % Received % Xferd  Average Speed   Time    Time     Time  Current\n",
      "                                 Dload  Upload   Total   Spent    Left  Speed\n",
      "100 3523k  100 3523k    0     0  5274k      0 --:--:-- --:--:-- --:--:-- 5275k\n"
     ]
    }
   ],
   "source": [
    "if os.path.isfile('../data/SMC_data.tar.gz'):\n",
    "    !tar xzf ../data/SMC_data.tar.gz\n",
    "else:\n",
    "    !curl -OL https://raw.githubusercontent.com/fermiPy/fermipy-extras/master/data/SMC_data.tar.gz\n",
    "    !tar xzf SMC_data.tar.gz"
   ]
  },
  {
   "cell_type": "code",
   "execution_count": 3,
   "metadata": {},
   "outputs": [
    {
     "name": "stderr",
     "output_type": "stream",
     "text": [
      "2024-06-10 16:00:20 INFO    GTAnalysis.__init__(): \n",
      "--------------------------------------------------------------------------------\n",
      "fermipy version 1.2.2 \n",
      "ScienceTools version 2.2.0\n"
     ]
    },
    {
     "ename": "Exception",
     "evalue": "Failed to resolve file path: $FERMI_DIFFUSE_DIR/gll_iem_v06.fits",
     "output_type": "error",
     "traceback": [
      "\u001b[0;31m---------------------------------------------------------------------------\u001b[0m",
      "\u001b[0;31mException\u001b[0m                                 Traceback (most recent call last)",
      "Cell \u001b[0;32mIn[3], line 1\u001b[0m\n\u001b[0;32m----> 1\u001b[0m gta \u001b[38;5;241m=\u001b[39m \u001b[43mGTAnalysis\u001b[49m\u001b[43m(\u001b[49m\u001b[38;5;124;43m'\u001b[39;49m\u001b[38;5;124;43mconfig.yaml\u001b[39;49m\u001b[38;5;124;43m'\u001b[39;49m\u001b[43m)\u001b[49m\n\u001b[1;32m      2\u001b[0m matplotlib\u001b[38;5;241m.\u001b[39minteractive(\u001b[38;5;28;01mTrue\u001b[39;00m)\n\u001b[1;32m      3\u001b[0m gta\u001b[38;5;241m.\u001b[39msetup()\n",
      "File \u001b[0;32m~/anaconda3/envs/fermipy/lib/python3.9/site-packages/fermipy/gtanalysis.py:353\u001b[0m, in \u001b[0;36mGTAnalysis.__init__\u001b[0;34m(self, config, roi, **kwargs)\u001b[0m\n\u001b[1;32m    351\u001b[0m \u001b[38;5;66;03m# Setup the ROI definition\u001b[39;00m\n\u001b[1;32m    352\u001b[0m \u001b[38;5;28;01mif\u001b[39;00m roi \u001b[38;5;129;01mis\u001b[39;00m \u001b[38;5;28;01mNone\u001b[39;00m:\n\u001b[0;32m--> 353\u001b[0m     \u001b[38;5;28mself\u001b[39m\u001b[38;5;241m.\u001b[39m_roi \u001b[38;5;241m=\u001b[39m \u001b[43mROIModel\u001b[49m\u001b[38;5;241;43m.\u001b[39;49m\u001b[43mcreate\u001b[49m\u001b[43m(\u001b[49m\u001b[43mconfigs\u001b[49m\u001b[43m[\u001b[49m\u001b[38;5;241;43m0\u001b[39;49m\u001b[43m]\u001b[49m\u001b[43m[\u001b[49m\u001b[38;5;124;43m'\u001b[39;49m\u001b[38;5;124;43mselection\u001b[39;49m\u001b[38;5;124;43m'\u001b[39;49m\u001b[43m]\u001b[49m\u001b[43m,\u001b[49m\n\u001b[1;32m    354\u001b[0m \u001b[43m                                \u001b[49m\u001b[43mconfigs\u001b[49m\u001b[43m[\u001b[49m\u001b[38;5;241;43m0\u001b[39;49m\u001b[43m]\u001b[49m\u001b[43m[\u001b[49m\u001b[38;5;124;43m'\u001b[39;49m\u001b[38;5;124;43mmodel\u001b[39;49m\u001b[38;5;124;43m'\u001b[39;49m\u001b[43m]\u001b[49m\u001b[43m,\u001b[49m\n\u001b[1;32m    355\u001b[0m \u001b[43m                                \u001b[49m\u001b[43mfileio\u001b[49m\u001b[38;5;241;43m=\u001b[39;49m\u001b[43mconfigs\u001b[49m\u001b[43m[\u001b[49m\u001b[38;5;241;43m0\u001b[39;49m\u001b[43m]\u001b[49m\u001b[43m[\u001b[49m\u001b[38;5;124;43m'\u001b[39;49m\u001b[38;5;124;43mfileio\u001b[39;49m\u001b[38;5;124;43m'\u001b[39;49m\u001b[43m]\u001b[49m\u001b[43m,\u001b[49m\n\u001b[1;32m    356\u001b[0m \u001b[43m                                \u001b[49m\u001b[43mcoordsys\u001b[49m\u001b[38;5;241;43m=\u001b[39;49m\u001b[43mconfigs\u001b[49m\u001b[43m[\u001b[49m\u001b[38;5;241;43m0\u001b[39;49m\u001b[43m]\u001b[49m\u001b[43m[\u001b[49m\u001b[38;5;124;43m'\u001b[39;49m\u001b[38;5;124;43mbinning\u001b[39;49m\u001b[38;5;124;43m'\u001b[39;49m\u001b[43m]\u001b[49m\u001b[43m[\u001b[49m\u001b[38;5;124;43m'\u001b[39;49m\u001b[38;5;124;43mcoordsys\u001b[39;49m\u001b[38;5;124;43m'\u001b[39;49m\u001b[43m]\u001b[49m\u001b[43m)\u001b[49m\n\u001b[1;32m    357\u001b[0m \u001b[38;5;28;01melse\u001b[39;00m:\n\u001b[1;32m    358\u001b[0m     \u001b[38;5;28mself\u001b[39m\u001b[38;5;241m.\u001b[39m_roi \u001b[38;5;241m=\u001b[39m roi\n",
      "File \u001b[0;32m~/anaconda3/envs/fermipy/lib/python3.9/site-packages/fermipy/roi_model.py:1770\u001b[0m, in \u001b[0;36mROIModel.create\u001b[0;34m(cls, selection, config, **kwargs)\u001b[0m\n\u001b[1;32m   1768\u001b[0m \u001b[38;5;28;01melse\u001b[39;00m:\n\u001b[1;32m   1769\u001b[0m     target_skydir \u001b[38;5;241m=\u001b[39m wcs_utils\u001b[38;5;241m.\u001b[39mget_target_skydir(selection)\n\u001b[0;32m-> 1770\u001b[0m     \u001b[38;5;28;01mreturn\u001b[39;00m \u001b[38;5;28;43mcls\u001b[39;49m\u001b[38;5;241;43m.\u001b[39;49m\u001b[43mcreate_from_position\u001b[49m\u001b[43m(\u001b[49m\u001b[43mtarget_skydir\u001b[49m\u001b[43m,\u001b[49m\u001b[43m \u001b[49m\u001b[43mconfig\u001b[49m\u001b[43m,\u001b[49m\u001b[43m \u001b[49m\u001b[38;5;241;43m*\u001b[39;49m\u001b[38;5;241;43m*\u001b[39;49m\u001b[43mkwargs\u001b[49m\u001b[43m)\u001b[49m\n",
      "File \u001b[0;32m~/anaconda3/envs/fermipy/lib/python3.9/site-packages/fermipy/roi_model.py:1787\u001b[0m, in \u001b[0;36mROIModel.create_from_position\u001b[0;34m(cls, skydir, config, **kwargs)\u001b[0m\n\u001b[1;32m   1774\u001b[0m \u001b[38;5;250m\u001b[39m\u001b[38;5;124;03m\"\"\"Create an ROIModel instance centered on a sky direction.\u001b[39;00m\n\u001b[1;32m   1775\u001b[0m \n\u001b[1;32m   1776\u001b[0m \u001b[38;5;124;03mParameters\u001b[39;00m\n\u001b[0;32m   (...)\u001b[0m\n\u001b[1;32m   1783\u001b[0m \u001b[38;5;124;03m    Model configuration dictionary.\u001b[39;00m\n\u001b[1;32m   1784\u001b[0m \u001b[38;5;124;03m\"\"\"\u001b[39;00m\n\u001b[1;32m   1786\u001b[0m coordsys \u001b[38;5;241m=\u001b[39m kwargs\u001b[38;5;241m.\u001b[39mpop(\u001b[38;5;124m'\u001b[39m\u001b[38;5;124mcoordsys\u001b[39m\u001b[38;5;124m'\u001b[39m, \u001b[38;5;124m'\u001b[39m\u001b[38;5;124mCEL\u001b[39m\u001b[38;5;124m'\u001b[39m)\n\u001b[0;32m-> 1787\u001b[0m roi \u001b[38;5;241m=\u001b[39m \u001b[38;5;28;43mcls\u001b[39;49m\u001b[43m(\u001b[49m\u001b[43mconfig\u001b[49m\u001b[43m,\u001b[49m\u001b[43m \u001b[49m\u001b[43mskydir\u001b[49m\u001b[38;5;241;43m=\u001b[39;49m\u001b[43mskydir\u001b[49m\u001b[43m,\u001b[49m\u001b[43m \u001b[49m\u001b[43mcoordsys\u001b[49m\u001b[38;5;241;43m=\u001b[39;49m\u001b[43mcoordsys\u001b[49m\u001b[43m,\u001b[49m\u001b[43m \u001b[49m\u001b[38;5;241;43m*\u001b[39;49m\u001b[38;5;241;43m*\u001b[39;49m\u001b[43mkwargs\u001b[49m\u001b[43m)\u001b[49m\n\u001b[1;32m   1788\u001b[0m \u001b[38;5;28;01mreturn\u001b[39;00m roi\n",
      "File \u001b[0;32m~/anaconda3/envs/fermipy/lib/python3.9/site-packages/fermipy/roi_model.py:1373\u001b[0m, in \u001b[0;36mROIModel.__init__\u001b[0;34m(self, config, **kwargs)\u001b[0m\n\u001b[1;32m   1370\u001b[0m \u001b[38;5;28mself\u001b[39m\u001b[38;5;241m.\u001b[39m_src_dict \u001b[38;5;241m=\u001b[39m collections\u001b[38;5;241m.\u001b[39mdefaultdict(\u001b[38;5;28mlist\u001b[39m)\n\u001b[1;32m   1371\u001b[0m \u001b[38;5;28mself\u001b[39m\u001b[38;5;241m.\u001b[39m_src_radius \u001b[38;5;241m=\u001b[39m []\n\u001b[0;32m-> 1373\u001b[0m \u001b[38;5;28;43mself\u001b[39;49m\u001b[38;5;241;43m.\u001b[39;49m\u001b[43mload\u001b[49m\u001b[43m(\u001b[49m\u001b[43mcoordsys\u001b[49m\u001b[38;5;241;43m=\u001b[39;49m\u001b[43mcoordsys\u001b[49m\u001b[43m,\u001b[49m\u001b[43m \u001b[49m\u001b[43msrcname\u001b[49m\u001b[38;5;241;43m=\u001b[39;49m\u001b[43msrcname\u001b[49m\u001b[43m)\u001b[49m\n",
      "File \u001b[0;32m~/anaconda3/envs/fermipy/lib/python3.9/site-packages/fermipy/roi_model.py:1705\u001b[0m, in \u001b[0;36mROIModel.load\u001b[0;34m(self, **kwargs)\u001b[0m\n\u001b[1;32m   1702\u001b[0m srcname \u001b[38;5;241m=\u001b[39m kwargs\u001b[38;5;241m.\u001b[39mget(\u001b[38;5;124m'\u001b[39m\u001b[38;5;124msrcname\u001b[39m\u001b[38;5;124m'\u001b[39m, \u001b[38;5;28;01mNone\u001b[39;00m)\n\u001b[1;32m   1704\u001b[0m \u001b[38;5;28mself\u001b[39m\u001b[38;5;241m.\u001b[39mclear()\n\u001b[0;32m-> 1705\u001b[0m \u001b[38;5;28;43mself\u001b[39;49m\u001b[38;5;241;43m.\u001b[39;49m\u001b[43mload_diffuse_srcs\u001b[49m\u001b[43m(\u001b[49m\u001b[43m)\u001b[49m\n\u001b[1;32m   1707\u001b[0m \u001b[38;5;28;01mfor\u001b[39;00m c \u001b[38;5;129;01min\u001b[39;00m \u001b[38;5;28mself\u001b[39m\u001b[38;5;241m.\u001b[39mconfig[\u001b[38;5;124m'\u001b[39m\u001b[38;5;124mcatalogs\u001b[39m\u001b[38;5;124m'\u001b[39m]:\n\u001b[1;32m   1709\u001b[0m     \u001b[38;5;28;01mif\u001b[39;00m \u001b[38;5;28misinstance\u001b[39m(c, catalog\u001b[38;5;241m.\u001b[39mCatalog):\n",
      "File \u001b[0;32m~/anaconda3/envs/fermipy/lib/python3.9/site-packages/fermipy/roi_model.py:1460\u001b[0m, in \u001b[0;36mROIModel.load_diffuse_srcs\u001b[0;34m(self)\u001b[0m\n\u001b[1;32m   1458\u001b[0m \u001b[38;5;28;01mdef\u001b[39;00m \u001b[38;5;21mload_diffuse_srcs\u001b[39m(\u001b[38;5;28mself\u001b[39m):\n\u001b[0;32m-> 1460\u001b[0m     srcs \u001b[38;5;241m=\u001b[39m \u001b[38;5;28;43mself\u001b[39;49m\u001b[38;5;241;43m.\u001b[39;49m\u001b[43mcreate_diffuse_srcs\u001b[49m\u001b[43m(\u001b[49m\u001b[38;5;28;43mself\u001b[39;49m\u001b[38;5;241;43m.\u001b[39;49m\u001b[43mconfig\u001b[49m\u001b[43m)\u001b[49m\n\u001b[1;32m   1461\u001b[0m     \u001b[38;5;28;01mfor\u001b[39;00m src \u001b[38;5;129;01min\u001b[39;00m srcs:\n\u001b[1;32m   1462\u001b[0m         \u001b[38;5;28mself\u001b[39m\u001b[38;5;241m.\u001b[39mload_source(src, \u001b[38;5;28;01mFalse\u001b[39;00m, \u001b[38;5;28mself\u001b[39m\u001b[38;5;241m.\u001b[39mconfig[\u001b[38;5;124m'\u001b[39m\u001b[38;5;124mmerge_sources\u001b[39m\u001b[38;5;124m'\u001b[39m])\n",
      "File \u001b[0;32m~/anaconda3/envs/fermipy/lib/python3.9/site-packages/fermipy/roi_model.py:1468\u001b[0m, in \u001b[0;36mROIModel.create_diffuse_srcs\u001b[0;34m(self, config)\u001b[0m\n\u001b[1;32m   1466\u001b[0m srcs \u001b[38;5;241m=\u001b[39m []\n\u001b[1;32m   1467\u001b[0m srcs \u001b[38;5;241m+\u001b[39m\u001b[38;5;241m=\u001b[39m \u001b[38;5;28mself\u001b[39m\u001b[38;5;241m.\u001b[39m_create_diffuse_src(\u001b[38;5;124m'\u001b[39m\u001b[38;5;124misodiff\u001b[39m\u001b[38;5;124m'\u001b[39m, config)\n\u001b[0;32m-> 1468\u001b[0m srcs \u001b[38;5;241m+\u001b[39m\u001b[38;5;241m=\u001b[39m \u001b[38;5;28;43mself\u001b[39;49m\u001b[38;5;241;43m.\u001b[39;49m\u001b[43m_create_diffuse_src\u001b[49m\u001b[43m(\u001b[49m\u001b[38;5;124;43m'\u001b[39;49m\u001b[38;5;124;43mgaldiff\u001b[39;49m\u001b[38;5;124;43m'\u001b[39;49m\u001b[43m,\u001b[49m\u001b[43m \u001b[49m\u001b[43mconfig\u001b[49m\u001b[43m)\u001b[49m\n\u001b[1;32m   1469\u001b[0m srcs \u001b[38;5;241m+\u001b[39m\u001b[38;5;241m=\u001b[39m \u001b[38;5;28mself\u001b[39m\u001b[38;5;241m.\u001b[39m_create_diffuse_src(\u001b[38;5;124m'\u001b[39m\u001b[38;5;124mlimbdiff\u001b[39m\u001b[38;5;124m'\u001b[39m, config)\n\u001b[1;32m   1470\u001b[0m srcs \u001b[38;5;241m+\u001b[39m\u001b[38;5;241m=\u001b[39m \u001b[38;5;28mself\u001b[39m\u001b[38;5;241m.\u001b[39m_create_diffuse_src(\u001b[38;5;124m'\u001b[39m\u001b[38;5;124mdiffuse\u001b[39m\u001b[38;5;124m'\u001b[39m, config)\n",
      "File \u001b[0;32m~/anaconda3/envs/fermipy/lib/python3.9/site-packages/fermipy/roi_model.py:1505\u001b[0m, in \u001b[0;36mROIModel._create_diffuse_src\u001b[0;34m(self, name, config, src_type)\u001b[0m\n\u001b[1;32m   1500\u001b[0m \u001b[38;5;28;01melse\u001b[39;00m:\n\u001b[1;32m   1501\u001b[0m     \u001b[38;5;28;01mraise\u001b[39;00m \u001b[38;5;167;01mException\u001b[39;00m(\n\u001b[1;32m   1502\u001b[0m         \u001b[38;5;124m'\u001b[39m\u001b[38;5;124mInvalid type in diffuse mode list: \u001b[39m\u001b[38;5;132;01m%s\u001b[39;00m\u001b[38;5;124m'\u001b[39m \u001b[38;5;241m%\u001b[39m \u001b[38;5;28mstr\u001b[39m(\u001b[38;5;28mtype\u001b[39m(t)))\n\u001b[1;32m   1504\u001b[0m src_dict[\u001b[38;5;124m'\u001b[39m\u001b[38;5;124mfile\u001b[39m\u001b[38;5;124m'\u001b[39m] \u001b[38;5;241m=\u001b[39m \\\n\u001b[0;32m-> 1505\u001b[0m     \u001b[43mutils\u001b[49m\u001b[38;5;241;43m.\u001b[39;49m\u001b[43mresolve_file_path\u001b[49m\u001b[43m(\u001b[49m\u001b[43msrc_dict\u001b[49m\u001b[43m[\u001b[49m\u001b[38;5;124;43m'\u001b[39;49m\u001b[38;5;124;43mfile\u001b[39;49m\u001b[38;5;124;43m'\u001b[39;49m\u001b[43m]\u001b[49m\u001b[43m,\u001b[49m\n\u001b[1;32m   1506\u001b[0m \u001b[43m                            \u001b[49m\u001b[43msearch_dirs\u001b[49m\u001b[38;5;241;43m=\u001b[39;49m\u001b[43msearch_dirs\u001b[49m\u001b[43m)\u001b[49m\n\u001b[1;32m   1508\u001b[0m \u001b[38;5;28;01mif\u001b[39;00m \u001b[38;5;124m'\u001b[39m\u001b[38;5;124mname\u001b[39m\u001b[38;5;124m'\u001b[39m \u001b[38;5;129;01mnot\u001b[39;00m \u001b[38;5;129;01min\u001b[39;00m src_dict:\n\u001b[1;32m   1509\u001b[0m     \u001b[38;5;28;01mif\u001b[39;00m \u001b[38;5;28mlen\u001b[39m(srcs) \u001b[38;5;241m==\u001b[39m \u001b[38;5;241m1\u001b[39m:\n",
      "File \u001b[0;32m~/anaconda3/envs/fermipy/lib/python3.9/site-packages/fermipy/utils.py:121\u001b[0m, in \u001b[0;36mresolve_file_path\u001b[0;34m(path, **kwargs)\u001b[0m\n\u001b[1;32m    118\u001b[0m             \u001b[38;5;28;01mbreak\u001b[39;00m\n\u001b[1;32m    120\u001b[0m \u001b[38;5;28;01mif\u001b[39;00m out_path \u001b[38;5;129;01mis\u001b[39;00m \u001b[38;5;28;01mNone\u001b[39;00m:\n\u001b[0;32m--> 121\u001b[0m     \u001b[38;5;28;01mraise\u001b[39;00m \u001b[38;5;167;01mException\u001b[39;00m(\u001b[38;5;124m'\u001b[39m\u001b[38;5;124mFailed to resolve file path: \u001b[39m\u001b[38;5;132;01m%s\u001b[39;00m\u001b[38;5;124m'\u001b[39m \u001b[38;5;241m%\u001b[39m path)\n\u001b[1;32m    123\u001b[0m \u001b[38;5;28;01mif\u001b[39;00m expand:\n\u001b[1;32m    124\u001b[0m     out_path \u001b[38;5;241m=\u001b[39m os\u001b[38;5;241m.\u001b[39mpath\u001b[38;5;241m.\u001b[39mexpandvars(out_path)\n",
      "\u001b[0;31mException\u001b[0m: Failed to resolve file path: $FERMI_DIFFUSE_DIR/gll_iem_v06.fits"
     ]
    }
   ],
   "source": [
    "gta = GTAnalysis('./SMC_data/config.yaml')\n",
    "matplotlib.interactive(True)\n",
    "gta.setup()"
   ]
  },
  {
   "cell_type": "markdown",
   "metadata": {},
   "source": [
    "The setup() method performs the data preparation and response calculations needed for the analysis (selecting the data, creating counts and exposure maps, etc.). Depending on the data selection and binning of the analysis this will often be the slowest step in the analysis sequence. The output of setup() is cached in the analysis working directory so subsequent calls to setup() will run much faster."
   ]
  },
  {
   "cell_type": "markdown",
   "metadata": {},
   "source": [
    "The g-tools performed with gta.setup() are the following:\n",
    "* gtselect: [gtselect_fssc](https://fermi.gsfc.nasa.gov/ssc/data/analysis/scitools/help/gtselect.txt)\n",
    "* gtmktime: [gtmiktime_fssc](https://fermi.gsfc.nasa.gov/ssc/data/analysis/scitools/help/gtmktime.txt)\n",
    "* gtbin: [gtbin_fssc](https://fermi.gsfc.nasa.gov/ssc/data/analysis/scitools/help/gtbin.txt)\n",
    "* gtsrcmaps: [gtsrcmaps_fssc](https://fermi.gsfc.nasa.gov/ssc/data/analysis/scitools/help/gtsrcmaps.txt)"
   ]
  },
  {
   "cell_type": "markdown",
   "metadata": {},
   "source": [
    "In order to have a summary of the source model you can use the command:"
   ]
  },
  {
   "cell_type": "code",
   "execution_count": null,
   "metadata": {},
   "outputs": [],
   "source": [
    "gta.print_model()"
   ]
  },
  {
   "cell_type": "markdown",
   "metadata": {},
   "source": [
    "The table above contains:\n",
    "* sourcename as given in the catalog\n",
    "* offset from the center of the roi. Sources are ranked with respect to this parameter\n",
    "* normalization of the SED\n",
    "* energy flux of the source\n",
    "* index of the SED with a PowerLaw SED\n",
    "* Test Statistics\n",
    "* npred is the number of sources associated to the source\n",
    "* free column that tells if the SED parameter of the sources are free (if the column is filled with an asterix) or fixed without no asterix."
   ]
  },
  {
   "cell_type": "markdown",
   "metadata": {},
   "source": [
    "# Source dictionary"
   ]
  },
  {
   "cell_type": "markdown",
   "metadata": {},
   "source": [
    "First of all, let's make a fit using gta.fit tool.\n",
    "Source fitting with fermipy is generally performed with the optimize and fit methods. fit is a wrapper on the pyLikelihood fit method and performs a likelihood fit of all free parameters of the model. This method can be used to manually optimize of the model by calling it after freeing one or more source parameters."
   ]
  },
  {
   "cell_type": "code",
   "execution_count": null,
   "metadata": {},
   "outputs": [],
   "source": [
    "gta.free_sources()\n",
    "fitresult=gta.fit()"
   ]
  },
  {
   "cell_type": "code",
   "execution_count": null,
   "metadata": {},
   "outputs": [],
   "source": [
    "gta.print_model()"
   ]
  },
  {
   "cell_type": "markdown",
   "metadata": {},
   "source": [
    "Now you see that the ts column is filled and the free column has all asterix because we have freed the sources."
   ]
  },
  {
   "cell_type": "markdown",
   "metadata": {},
   "source": [
    "Fermipy gives the possibility to access many informations on the sources in the model.\n",
    "Below a few examples."
   ]
  },
  {
   "cell_type": "markdown",
   "metadata": {},
   "source": [
    "NAME AND CHARACTERISTICS OF THE SOURCE"
   ]
  },
  {
   "cell_type": "code",
   "execution_count": null,
   "metadata": {},
   "outputs": [],
   "source": [
    "print gta.roi.sources[0]['name'] #name of the source\n",
    "print gta.roi.sources[0]['Source_Name'] #name of the source\n",
    "print gta.roi.sources[0]['SpatialModel'] #spatial model\n",
    "print gta.roi.sources[0]['SpatialWidth'] #spatial size parameter\n",
    "print gta.roi.sources[0]['SpatialType'] #spatial size parameter\n",
    "print gta.roi.sources[0]['SourceType'] #Source type\n",
    "print gta.roi.sources[0]['SpectrumType'] #Spectrum type string\n",
    "print gta.roi.sources[0]['Spatial_Filename'] #Path to spatial template\n",
    "print gta.roi.sources[0]['Spectrum_Filename'] #Path to the SED source template\n",
    "print gta.roi.sources[0]['correlation'] #Dictionary of correlation coefficients.\n",
    "print gta.roi.sources[0]['model_counts'] #Vector of predicted counts for this source"
   ]
  },
  {
   "cell_type": "markdown",
   "metadata": {},
   "source": [
    "CHARACTERISTICS OF THE POSITION OF THE SOURCE"
   ]
  },
  {
   "cell_type": "code",
   "execution_count": null,
   "metadata": {},
   "outputs": [],
   "source": [
    "print gta.roi.sources[0]['ra'] #ra\n",
    "print gta.roi.sources[0]['dec'] #dec\n",
    "print gta.roi.sources[0]['glon'] #glon\n",
    "print gta.roi.sources[0]['glat'] #glat\n",
    "print gta.roi.sources[0]['ra_err'] #error for ra\n",
    "print gta.roi.sources[0]['dec_err'] #error for dec\n",
    "print gta.roi.sources[0]['glon_err'] #error for glon\n",
    "print gta.roi.sources[0]['glat_err'] #error for glat\n",
    "print gta.roi.sources[0]['pos_err'] #error for the position in deg\n",
    "print gta.roi.sources[0]['pos_r68'] #68% CL error for the position\n",
    "print gta.roi.sources[0]['pos_r95'] #95% CL error for the position\n",
    "print gta.roi.sources[0]['pos_r99'] #99% CL error for the position\n",
    "print gta.roi.sources[0]['pos_err_semimajor'] #1-sigma uncertainty (deg) along major axis of uncertainty ellipse.\n",
    "print gta.roi.sources[0]['pos_err_semiminor'] #1-sigma uncertainty (deg) along minor axis of uncertainty ellipse.\n",
    "print gta.roi.sources[0]['offset_ra'] #Right ascension offset from ROI center in local celestial projection (deg).\n",
    "print gta.roi.sources[0]['offset_dec'] #Declination offset from ROI center in local celestial projection (deg).\n",
    "print gta.roi.sources[0]['offset_glon'] #Galactic longitude offset from ROI center in local galactic projection (deg).\n",
    "print gta.roi.sources[0]['offset_glat'] #Galactic latitude offset from ROI center in local galactic projection (deg).\n",
    "print gta.roi.sources[0]['offset'] #Angular offset from ROI center (deg)."
   ]
  },
  {
   "cell_type": "markdown",
   "metadata": {},
   "source": [
    "The error for the position is nan because we have not calculated yet the relocalization. \n",
    "Let's run the localization for a source with gta.localize tool."
   ]
  },
  {
   "cell_type": "code",
   "execution_count": null,
   "metadata": {},
   "outputs": [],
   "source": [
    "gta.free_sources(free=True)\n",
    "gta.print_model()\n",
    "gta.free_sources(skydir=gta.roi[gta.roi.sources[2].name].skydir,distance=[3.0],free=True)\n",
    "gta.print_model()\n",
    "localsmc = gta.localize(gta.roi.sources[2].name, update=True, make_plots=True)\n",
    "gta.print_model()"
   ]
  },
  {
   "cell_type": "markdown",
   "metadata": {},
   "source": [
    "Using the option make_plots=True a few control plots are created like 3fgl_j0023.9-7203_localize_peak.png with the result for the likelihood analysis for the besy fit position and error for the position."
   ]
  },
  {
   "cell_type": "code",
   "execution_count": null,
   "metadata": {},
   "outputs": [],
   "source": [
    "Image(filename='3fgl_j0023.9-7203_localize_peak.png') "
   ]
  },
  {
   "cell_type": "code",
   "execution_count": null,
   "metadata": {},
   "outputs": [],
   "source": [
    "print gta.roi.sources[2]['ra'] #ra\n",
    "print gta.roi.sources[2]['dec'] #dec\n",
    "print gta.roi.sources[2]['glon'] #glon\n",
    "print gta.roi.sources[2]['glat'] #glat\n",
    "print gta.roi.sources[2]['ra_err'] #error for ra\n",
    "print gta.roi.sources[2]['dec_err'] #error for dec\n",
    "print gta.roi.sources[2]['glon_err'] #error for glon\n",
    "print gta.roi.sources[2]['glat_err'] #error for glat\n",
    "print gta.roi.sources[2]['pos_err'] #error for the position in deg\n",
    "print gta.roi.sources[2]['pos_r68'] #68% CL error for the position\n",
    "print gta.roi.sources[2]['pos_r95'] #95% CL error for the position\n",
    "print gta.roi.sources[2]['pos_r99'] #99% CL error for the position\n",
    "print gta.roi.sources[2]['pos_err_semimajor'] #1-sigma uncertainty (deg) along major axis of uncertainty ellipse.\n",
    "print gta.roi.sources[2]['pos_err_semiminor'] #1-sigma uncertainty (deg) along minor axis of uncertainty ellipse.\n",
    "print gta.roi.sources[2]['offset_ra'] #Right ascension offset from ROI center in local celestial projection (deg).\n",
    "print gta.roi.sources[2]['offset_dec'] #Declination offset from ROI center in local celestial projection (deg).\n",
    "print gta.roi.sources[2]['offset_glon'] #Galactic longitude offset from ROI center in local galactic projection (deg).\n",
    "print gta.roi.sources[2]['offset_glat'] #Galactic latitude offset from ROI center in local galactic projection (deg).\n",
    "print gta.roi.sources[2]['offset'] #Angular offset from ROI center (deg)."
   ]
  },
  {
   "cell_type": "markdown",
   "metadata": {},
   "source": [
    "SED PARAMETERS FLUX AND SCAN OF FLUX"
   ]
  },
  {
   "cell_type": "code",
   "execution_count": null,
   "metadata": {},
   "outputs": [],
   "source": [
    "print gta.roi.sources[0]['param_names'] #Names of spectral parameters.\n",
    "print gta.roi.sources[0]['param_values'] #Spectral parameter values.\n",
    "print gta.roi.sources[0]['param_errors'] #Spectral parameters errors.\n",
    "print gta.roi.sources[0]['ts'] #Source test statistic.\n",
    "print gta.roi.sources[0]['loglike'] #Log-likelihood of the model evaluated at the best-fit normalization of the source.\n",
    "print gta.roi.sources[0]['flux_scan'] #Flux values for scan of source normalization.\n",
    "print gta.roi.sources[0]['norm_scan'] #Normalization parameters values for scan of source normalization.\n",
    "print gta.roi.sources[0]['npred'] #Number of predicted counts from this source integrated over the analysis energy range.\n",
    "print gta.roi.sources[0]['flux'] #Photon flux (cm−2 s−1) integrated over analysis energy range\n",
    "print gta.roi.sources[0]['flux_err'] #Photon flux uncertainty (cm−2 s−1) integrated over analysis energy range\n",
    "print gta.roi.sources[0]['flux_ul95'] #95% CL upper limit on the photon Differential photon flux (cm−2 s−1 MeV−1tegrated over analysis energy range\n",
    "print gta.roi.sources[0]['dnde'] #Differential photon flux (cm−2 s−1 MeV−1) evaluated at the pivot energy."
   ]
  },
  {
   "cell_type": "code",
   "execution_count": null,
   "metadata": {},
   "outputs": [],
   "source": [
    "gta.write_roi('model_test',make_plots=True,save_model_map=True)"
   ]
  },
  {
   "cell_type": "markdown",
   "metadata": {},
   "source": [
    "# Customizing your model"
   ]
  },
  {
   "cell_type": "markdown",
   "metadata": {},
   "source": [
    "As we saw before you can customize your model directly in the config.yaml file.\n",
    "However, sometimes you want to change something in your model directly in your Python script."
   ]
  },
  {
   "cell_type": "markdown",
   "metadata": {},
   "source": [
    "You can free or fix sources using gta.free_sources.\n",
    "First let's fix the SED parameter of all the sources."
   ]
  },
  {
   "cell_type": "code",
   "execution_count": null,
   "metadata": {},
   "outputs": [],
   "source": [
    "gta.free_sources(free=False)\n",
    "gta.print_model()"
   ]
  },
  {
   "cell_type": "markdown",
   "metadata": {},
   "source": [
    "Now we free all parameters:"
   ]
  },
  {
   "cell_type": "code",
   "execution_count": null,
   "metadata": {},
   "outputs": [],
   "source": [
    "gta.free_sources(free=True)\n",
    "gta.print_model()"
   ]
  },
  {
   "cell_type": "markdown",
   "metadata": {},
   "source": [
    "Now we free all the SED parameters of sources within 3 degrees from 3FGL J0059.0-7242e:"
   ]
  },
  {
   "cell_type": "code",
   "execution_count": null,
   "metadata": {},
   "outputs": [],
   "source": [
    "gta.free_sources(free=False)\n",
    "gta.free_sources(skydir=gta.roi['3FGL J0059.0-7242e'].skydir,distance=3.0)\n",
    "gta.print_model()"
   ]
  },
  {
   "cell_type": "markdown",
   "metadata": {},
   "source": [
    "Now we want to delete the source 3FGL J0021.6-6835:"
   ]
  },
  {
   "cell_type": "code",
   "execution_count": null,
   "metadata": {},
   "outputs": [],
   "source": [
    "gta.delete_source('3FGL J0021.6-6835')\n",
    "gta.print_model()"
   ]
  },
  {
   "cell_type": "markdown",
   "metadata": {},
   "source": [
    "You can also delete all the sources as a function of the npred/ts or position using the options minmax_npred/minmax_ts/skydir options. Finally, you can delete sources in a given list using the option names."
   ]
  },
  {
   "cell_type": "code",
   "execution_count": null,
   "metadata": {},
   "outputs": [],
   "source": [
    "help(gta.delete_sources)"
   ]
  },
  {
   "cell_type": "markdown",
   "metadata": {},
   "source": [
    "In the example below we delete all the sources that have an npred=[0,500]"
   ]
  },
  {
   "cell_type": "code",
   "execution_count": null,
   "metadata": {},
   "outputs": [],
   "source": [
    "gta.delete_sources(minmax_npred=[0,500])\n",
    "gta.print_model()"
   ]
  },
  {
   "cell_type": "markdown",
   "metadata": {},
   "source": [
    "We can aldo add a new source in the model using the gta.add_source function."
   ]
  },
  {
   "cell_type": "code",
   "execution_count": null,
   "metadata": {},
   "outputs": [],
   "source": [
    "help(gta.add_source)"
   ]
  },
  {
   "cell_type": "markdown",
   "metadata": {},
   "source": [
    "In the example below we add a Source called Source_PL with a PLSuperExpCutoff and pointlike and a source called Source_Gauss that is spatial extended with a PowerLaw SED and with a RadialGaussian template with an extension of 1 deg."
   ]
  },
  {
   "cell_type": "code",
   "execution_count": null,
   "metadata": {},
   "outputs": [],
   "source": [
    "gta.add_source('Source_PL',{ 'glon' : 300., 'glat' : -46.,'SpectrumType' : 'PLSuperExpCutoff', 'Index1':-1.5, 'Index2' : 1.0,'Scale' : 1000,'Prefactor':1e-9,'SpatialModel' : 'PointSource' })\n",
    "gta.add_source('Source_Gauss',{ 'glon' : 302., 'glat' : -45.,'SpectrumType' : 'PowerLaw', 'Index':2.0,'Scale' : 1000,'Prefactor':1e-9,'SpatialModel' : 'RadialGaussian', 'SpatialWidth': 1.0 })\n",
    "gta.print_model()"
   ]
  },
  {
   "cell_type": "markdown",
   "metadata": {},
   "source": [
    "Now I load the model saved into model_test to have back the intial model."
   ]
  },
  {
   "cell_type": "code",
   "execution_count": null,
   "metadata": {},
   "outputs": [],
   "source": [
    "gta.load_roi('model_test')\n",
    "gta.print_model()"
   ]
  },
  {
   "cell_type": "markdown",
   "metadata": {},
   "source": [
    "It is also possible to modify the SED parameters using the functions gta.set_norm, gta.set_parameter, gta.set_parameter_bounds, gta.set_parameter_error ."
   ]
  },
  {
   "cell_type": "code",
   "execution_count": null,
   "metadata": {},
   "outputs": [],
   "source": [
    "help(gta.set_norm)\n",
    "help(gta.set_parameter)"
   ]
  },
  {
   "cell_type": "code",
   "execution_count": null,
   "metadata": {},
   "outputs": [],
   "source": [
    "print gta.roi['3FGL J0059.0-7242e']['param_names']\n",
    "print gta.roi['3FGL J0059.0-7242e']['param_values']\n",
    "print gta.roi['3FGL J0059.0-7242e']['param_errors']"
   ]
  },
  {
   "cell_type": "markdown",
   "metadata": {},
   "source": [
    "In the example below we fix the normalization to 1e-11 and the slope to 2.0."
   ]
  },
  {
   "cell_type": "code",
   "execution_count": null,
   "metadata": {},
   "outputs": [],
   "source": [
    "gta.set_norm('3FGL J0059.0-7242e',value=1.)\n",
    "gta.set_parameter('3FGL J0059.0-7242e',par='Index',value=2.0)\n",
    "print gta.roi['3FGL J0059.0-7242e']['param_names']\n",
    "print gta.roi['3FGL J0059.0-7242e']['param_values']\n",
    "print gta.roi['3FGL J0059.0-7242e']['param_errors']"
   ]
  },
  {
   "cell_type": "markdown",
   "metadata": {},
   "source": [
    "It is also possible to set the SED shape of a source using gta.set_source_spectrum tool."
   ]
  },
  {
   "cell_type": "code",
   "execution_count": null,
   "metadata": {},
   "outputs": [],
   "source": [
    "help(gta.set_source_spectrum)"
   ]
  },
  {
   "cell_type": "code",
   "execution_count": null,
   "metadata": {},
   "outputs": [],
   "source": [
    "gta.load_roi('model_test')\n",
    "gta.print_model()\n",
    "gta.roi['3FGL J0059.0-7242e']['SpectrumType']"
   ]
  },
  {
   "cell_type": "code",
   "execution_count": null,
   "metadata": {},
   "outputs": [],
   "source": [
    "gta.set_source_spectrum('3FGL J0059.0-7242e',spectrum_type='LogParabola')\n",
    "gta.roi['3FGL J0059.0-7242e']['SpectrumType']"
   ]
  },
  {
   "cell_type": "code",
   "execution_count": null,
   "metadata": {},
   "outputs": [],
   "source": [
    "gta.fit()"
   ]
  },
  {
   "cell_type": "code",
   "execution_count": null,
   "metadata": {},
   "outputs": [],
   "source": [
    "print gta.roi['3FGL J0059.0-7242e']['param_names']\n",
    "print gta.roi['3FGL J0059.0-7242e']['param_values']\n",
    "print gta.roi['3FGL J0059.0-7242e']['param_errors']"
   ]
  },
  {
   "cell_type": "markdown",
   "metadata": {},
   "source": [
    "As you can see above the tool gta.set_source_spectrum has modified the SED shape from PowerLaw to LogParabola."
   ]
  },
  {
   "cell_type": "markdown",
   "metadata": {},
   "source": [
    "It is also possible to set the spatial morphology of a source using gta.set_source_morphology"
   ]
  },
  {
   "cell_type": "code",
   "execution_count": null,
   "metadata": {},
   "outputs": [],
   "source": [
    "help(gta.set_source_morphology)"
   ]
  },
  {
   "cell_type": "code",
   "execution_count": null,
   "metadata": {},
   "outputs": [],
   "source": [
    "gta.set_source_morphology(name='3FGL J0029.1-7045',spatial_model='RadialGaussian',spatial_pars={'SpatialWidth': 1.0} )"
   ]
  },
  {
   "cell_type": "code",
   "execution_count": null,
   "metadata": {},
   "outputs": [],
   "source": [
    "gta.print_model()\n",
    "print gta.roi['3FGL J0029.1-7045']['SpatialType']\n",
    "print gta.roi['3FGL J0029.1-7045']['SpatialWidth']"
   ]
  }
 ],
 "metadata": {
  "kernelspec": {
   "display_name": "Python 2",
   "language": "python",
   "name": "python2"
  },
  "language_info": {
   "codemirror_mode": {
    "name": "ipython",
    "version": 2
   },
   "file_extension": ".py",
   "mimetype": "text/x-python",
   "name": "python",
   "nbconvert_exporter": "python",
   "pygments_lexer": "ipython2",
   "version": "2.7.14"
  }
 },
 "nbformat": 4,
 "nbformat_minor": 2
}
