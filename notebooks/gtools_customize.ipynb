{
 "cells": [
  {
   "cell_type": "markdown",
   "metadata": {},
   "source": [
    "# Configuring the model, running g-tools and output files and infos"
   ]
  },
  {
   "cell_type": "markdown",
   "metadata": {},
   "source": [
    "This tutorial shows how to configure the model and how to run Fermipy-LAT g-tools with Fermipy.\n",
    "Many parts of this tutorial are taken directly from the documentation page of Fermipy: [fermipy.readthedocs](http://fermipy.readthedocs.io/en/latest/). \n",
    "I suggest to visit it to find further informations.\n",
    "\n",
    "This tutorial uses the same data as the SMC.ipynb tutorial."
   ]
  },
  {
   "cell_type": "markdown",
   "metadata": {},
   "source": [
    "# Configuring the model"
   ]
  },
  {
   "cell_type": "markdown",
   "metadata": {},
   "source": [
    "The model can be configured with a configuration file or directly running Fermipy with your script."
   ]
  },
  {
   "cell_type": "markdown",
   "metadata": {},
   "source": [
    "The configuration file defines the data selection and analysis parameters. The configuration file has a hierarchical structure that groups parameters into dictionaries that are keyed to a section name (data, binning, etc.). "
   ]
  },
  {
   "cell_type": "markdown",
   "metadata": {},
   "source": [
    "When creating a class instance, the configuration is initialized by passing either a configuration dictionary or configuration file path to the class constructor. \n",
    "Keyword arguments can be passed to the constructor to override configuration parameters in the input dictionary. \n",
    "In the following example the config dictionary defines values for the parameters emin and emax. By passing a dictionary for the selection keyword argument, the value of emax in the keyword argument (10000) overrides the value of emax in the input dictionary."
   ]
  },
  {
   "cell_type": "raw",
   "metadata": {},
   "source": [
    "# config = {\n",
    "'selection' : { 'emin' : 100,\n",
    "                'emax' : 1000 }\n",
    "}\n",
    "\n",
    "gta = GTAnalysis(config,selection={'emax' : 10000})"
   ]
  },
  {
   "cell_type": "markdown",
   "metadata": {},
   "source": [
    "The configuration file can be created also with a yaml file.\n",
    "Below I report a sample of configuration applied for an analysis of the SMC:"
   ]
  },
  {
   "cell_type": "raw",
   "metadata": {
    "vscode": {
     "languageId": "raw"
    }
   },
   "source": [
    "data:\n",
    "  evfile : 'ft1.fits'\n",
    "  scfile : '/u/gl/mdimauro/kipac/workdir/files/SC/P8_104months_ft2.fits'\n",
    "  ltcube : '/u/gl/mdimauro/dmcat/workdir/mattia/LogNLogS_Ebins/files_bins/bin13/P8_SOURCE_zmax105_1_3_ltcube.fits'\n",
    "\n",
    "binning:\n",
    "  roiwidth   : 12.0\n",
    "  binsz      : 0.08\n",
    "  binsperdec : 8\n",
    "  coordsys   : 'GAL'\n",
    "\n",
    "selection :\n",
    "  emin : 1000\n",
    "  emax : 500000\n",
    "  tmin : 239557417\n",
    "  tmax : 512994417\n",
    "  zmax    : 105\n",
    "  evclass : 128\n",
    "  evtype  : 3\n",
    "  glon: 302.25\n",
    "  glat : -44.37\n",
    " \n",
    "gtlike:\n",
    "  edisp : True\n",
    "  irfs : 'P8R2_SOURCE_V6'\n",
    "  edisp_disable : ['isodiff','galdiff']\n",
    "\n",
    "model:\n",
    "  src_roiwidth : 12.0\n",
    "  galdiff  : '$FERMI_DIFFUSE_DIR/gll_iem_v07.fits'\n",
    "  isodiff  : '$FERMI_DIFFUSE_DIR/iso_P8R2_SOURCE_V6_v06.txt'  \n",
    "  catalogs: gll_psc_v16.fit\n",
    "\n",
    "fileio:\n",
    "  usescratch: False"
   ]
  },
  {
   "cell_type": "markdown",
   "metadata": {},
   "source": [
    "The configuration file has the same structure as the configuration dictionary such that one can read/write configurations using the load/dump methods of the yaml module:"
   ]
  },
  {
   "cell_type": "markdown",
   "metadata": {},
   "source": [
    "DATA"
   ]
  },
  {
   "cell_type": "markdown",
   "metadata": {},
   "source": [
    "The data section defines the input data files for the analysis (FT1, FT2, and livetime cube). \n",
    "evfile and scfile can either be individual files or group of files. The optional ltcube option can be used to choose a pre-generated livetime cube. \n",
    "If ltcube is null a livetime cube will be generated at runtime with gtltcube."
   ]
  },
  {
   "cell_type": "markdown",
   "metadata": {},
   "source": [
    "Below an example of the data part:"
   ]
  },
  {
   "cell_type": "raw",
   "metadata": {},
   "source": [
    "data :\n",
    "  evfile : ft1.lst\n",
    "  scfile : ft2.fits\n",
    "  ltcube : null"
   ]
  },
  {
   "cell_type": "markdown",
   "metadata": {},
   "source": [
    "The options for the data component are the following:\n",
    "* cacheft1: Cache FT1 files when performing binned analysis. If false then only the counts cube is retained.\n",
    "* evfile: Path to FT1 file or list of FT1 files.\n",
    "* ltcube: Path to livetime cube. If none a livetime cube will be generated with gtmktime.\n",
    "* scfile: Path to FT2 (spacecraft) file."
   ]
  },
  {
   "cell_type": "markdown",
   "metadata": {},
   "source": [
    "BINNING"
   ]
  },
  {
   "cell_type": "markdown",
   "metadata": {},
   "source": [
    "Options in the binning section control the spatial and spectral binning of the data. "
   ]
  },
  {
   "cell_type": "raw",
   "metadata": {},
   "source": [
    "binning:\n",
    "\n",
    "  # Binning\n",
    "  roiwidth   : 10.0\n",
    "  npix       : null\n",
    "  binsz      : 0.1 # spatial bin size in deg\n",
    "  binsperdec : 8   # nb energy bins per decade\n",
    "  projtype   : WCS"
   ]
  },
  {
   "cell_type": "markdown",
   "metadata": {},
   "source": [
    "The roiwidth is the ROI width, npix specifies the number of pixels, binsz indicates the pixel size, binsperdec is the number of energy bins per decade and projtype is the type of projection and can be WCS and HEALPIX."
   ]
  },
  {
   "cell_type": "markdown",
   "metadata": {},
   "source": [
    "Other options are: \n",
    "* coordsys: for the coordinate system Galactic or Celestial (CEL or GAL), \n",
    "* hpx_order: is the healpix order, hpx_ordering_scheme is the HEALPix Ordering Scheme, \n",
    "* proj: is the Spatial projection for WCS mode, Width of the ROI in degrees. \n",
    "* roiwidth: is the number of pixels in each spatial dimension will be set from roiwidth / binsz (rounded up)."
   ]
  },
  {
   "cell_type": "markdown",
   "metadata": {},
   "source": [
    "COMPONENTS"
   ]
  },
  {
   "cell_type": "markdown",
   "metadata": {},
   "source": [
    "The components section can be used to define analysis configurations for independent subselections of the data. Each subselection will have its own binned likelihood instance that is combined in a global likelihood function for the ROI (implemented with the SummedLikelihood class in pyLikelihood). The components section is optional and when set to null (the default) only a single likelihood component will be created with the parameters of the root analysis configuration.\n",
    "\n",
    "The component section is defined as a list of dictionaries where each element sets analysis parameters for a different subcomponent of the analysis. The component configurations follow the same structure and accept the same parameters as the root analysis configuration. Parameters not defined in a given element will default to the values set in the root analysis configuration.\n",
    "\n",
    "The following example illustrates how to define a Front/Back analysis with two components. Files associated to each component will be given a suffix according to their order in the list (e.g. file_00.fits, file_01.fits, etc.)."
   ]
  },
  {
   "cell_type": "raw",
   "metadata": {},
   "source": [
    "# Component section for Front/Back analysis\n",
    "  - { selection : { evtype : 1 } } # Front\n",
    "  - { selection : { evtype : 2 } } # Back"
   ]
  },
  {
   "cell_type": "markdown",
   "metadata": {},
   "source": [
    "The following example illustrates how to define an analysis divided in four components. Each of them has a different zmax and uses a different evtype and isotropic template."
   ]
  },
  {
   "cell_type": "raw",
   "metadata": {},
   "source": [
    "components:\n",
    "  - model: {isodiff: $FERMI_DIFFUSE_DIR/iso_P8R2_SOURCE_V6_PSF0_v06.txt}\n",
    "    selection: {evtype: 4, zmax: 80}\n",
    "    data: {ltcube: ltcube_00.fits}\n",
    "  - model: {isodiff: $FERMI_DIFFUSE_DIR/iso_P8R2_SOURCE_V6_PSF1_v06.txt}\n",
    "    selection: {evtype: 8, zmax: 85}\n",
    "    data: {ltcube: ltcube_01.fits}\n",
    "  - model: {isodiff: $FERMI_DIFFUSE_DIR/iso_P8R2_SOURCE_V6_PSF2_v06.txt}\n",
    "    selection: {evtype: 16, zmax: 95}\n",
    "    data: {ltcube: ltcube_02.fits}\n",
    "  - model: {isodiff: $FERMI_DIFFUSE_DIR/iso_P8R2_SOURCE_V6_PSF3_v06.txt}\n",
    "    selection: {evtype: 32, zmax: 100}\n",
    "    data: {ltcube: ltcube_03.fits}"
   ]
  },
  {
   "cell_type": "markdown",
   "metadata": {},
   "source": [
    "EXTENSION"
   ]
  },
  {
   "cell_type": "markdown",
   "metadata": {},
   "source": [
    "The options in extension control the default behavior of the extension method. For more information about using this method see the Extension Fitting page. The main options are the following:\n",
    "* fit_ebin: Perform a fit for the angular extension in each analysis energy bin.\n",
    "* fit_position: Perform a simultaneous fit to the source position and extension.\n",
    "* fix_shape: Fix spectral shape parameters of the source of interest. If True then only the normalization parameter will be fit.\n",
    "* free_background: Leave background parameters free when performing the fit. If True then any parameters that are currently free in the model will be fit simultaneously with the source of interest.\n",
    "* free_radius: Free normalizations of background sources within this angular distance in degrees from the source of interest. If None then no sources will be freed.\n",
    "* sqrt_ts_threshold: Threshold on sqrt(TS_ext) that will be applied when update is True. If None then nothreshold is applied.\n",
    "* width: Sequence of values in degrees for the likelihood scan over spatial extension (68% containment radius). If this argument is None then the scan points will be determined from width_min/width_max/width_nstep.\n",
    "* width_max: Maximum value in degrees for the likelihood scan over spatial extent.\n",
    "* width_min: Minimum value in degrees for the likelihood scan over spatial extent.\n",
    "* width_nstep: Number of scan points between width_min and width_max. Scan points will be spaced evenly on a logarithmic scale between width_min and width_max."
   ]
  },
  {
   "cell_type": "markdown",
   "metadata": {},
   "source": [
    "There is a notebook dedicated to this analysis."
   ]
  },
  {
   "cell_type": "markdown",
   "metadata": {},
   "source": [
    "FILEIO"
   ]
  },
  {
   "cell_type": "markdown",
   "metadata": {},
   "source": [
    "The fileio section collects options related to file bookkeeping. The outdir option sets the root directory of the analysis instance where all output files will be written. If outdir is null then the output directory will be automatically set to the directory in which the configuration file is located. Enabling the usescratch option will stage all output data files to a temporary scratch directory created under scratchdir."
   ]
  },
  {
   "cell_type": "markdown",
   "metadata": {},
   "source": [
    "Sample fileio Configuration"
   ]
  },
  {
   "cell_type": "raw",
   "metadata": {},
   "source": [
    "fileio:\n",
    "   outdir : null\n",
    "   logfile : null\n",
    "   usescratch : False\n",
    "   scratchdir  : '/scratch'"
   ]
  },
  {
   "cell_type": "markdown",
   "metadata": {},
   "source": [
    "The options for the fileio are the following:\n",
    "* logfile: Path to log file. If None then log will be written to fermipy.log.\n",
    "* outdir: Path of the output directory. If none this will default to the directory containing the configuration file.\n",
    "* outdir_regex: Stage files to the output directory that match at least one of the regular expressions in this list. This option only takes effect when usescratch is True.\n",
    "* savefits: Save intermediate FITS files.\n",
    "* scratchdir: Path to the scratch directory. If usescratch is True then a temporary working directory will be created under this directory.\n",
    "* usescratch: Run analysis in a temporary working directory under scratchdir.\n",
    "* workdir: Path to the working directory.\n",
    "* workdir_regex: Stage files to the working directory that match at least one of the regular expressions in this list. This option only takes effect when usescratch is True."
   ]
  },
  {
   "cell_type": "markdown",
   "metadata": {},
   "source": [
    "GTLIKE"
   ]
  },
  {
   "cell_type": "markdown",
   "metadata": {},
   "source": [
    "Options in the gtlike section control the setup of the likelihood analysis include the IRF name (irfs)."
   ]
  },
  {
   "cell_type": "markdown",
   "metadata": {},
   "source": [
    "A subsample of options for the gtlike section is listed below:\n",
    "* edisp: Enable the correction for energy dispersion.\n",
    "* edisp_disable: Provide a list of sources for which the edisp correction should be disabled.\n",
    "* use_external_srcmap: Use an external precomputed source map file.\n",
    "* use_scaled_srcmap: Generate source map by scaling an external srcmap file.\n",
    "* wmap: Likelihood weights map."
   ]
  },
  {
   "cell_type": "markdown",
   "metadata": {},
   "source": [
    "The Likelihood wights map is created and used in order to account for example for the uncertainty in the interstellar emission."
   ]
  },
  {
   "cell_type": "markdown",
   "metadata": {},
   "source": [
    "MODEL"
   ]
  },
  {
   "cell_type": "markdown",
   "metadata": {},
   "source": [
    "The model section collects options that control the inclusion of point-source and diffuse components in the model. galdiff and isodiff set the templates for the Galactic IEM and isotropic diffuse respectively. catalogs defines a list of catalogs that will be merged to form a master analysis catalog from which sources will be drawn. Valid entries in this list can be FITS files or XML model files. sources can be used to insert additional point-source or extended components beyond those defined in the master catalog. src_radius and src_roiwidth set the maximum distance from the ROI center at which sources in the master catalog will be included in the ROI model."
   ]
  },
  {
   "cell_type": "markdown",
   "metadata": {},
   "source": [
    "Sample for the Model section:"
   ]
  },
  {
   "cell_type": "raw",
   "metadata": {},
   "source": [
    "model :\n",
    "\n",
    "  # Diffuse components\n",
    "  galdiff  : '$FERMI_DIR/refdata/fermi/galdiffuse/gll_iem_v06.fits'\n",
    "  isodiff  : '$FERMI_DIR/refdata/fermi/galdiffuse/iso_P8R2_SOURCE_V6_v06.txt'\n",
    "\n",
    "  # List of catalogs to be used in the model.\n",
    "  catalogs :\n",
    "    - '3FGL'\n",
    "    - 'extra_sources.xml'\n",
    "\n",
    "  sources :\n",
    "    - { 'name' : 'SourceA', 'ra' : 60.0, 'dec' : 30.0, 'SpectrumType' : PowerLaw }\n",
    "    - { 'name' : 'SourceB', 'ra' : 58.0, 'dec' : 35.0, 'SpectrumType' : PowerLaw }\n",
    "\n",
    "  # Include catalog sources within this distance from the ROI center\n",
    "  src_radius  : null\n",
    "\n",
    "  # Include catalog sources within a box of width roisrc.\n",
    "  src_roiwidth : 15.0"
   ]
  },
  {
   "cell_type": "markdown",
   "metadata": {},
   "source": [
    "In the sample above the official IEM and isotropic template are used together with the 3FGL catalog given with a fits file and by an additional catalog given with an xml file following the notation of the Fermi Science Tools [fermi.fssc.spectralmodel](https://fermi.gsfc.nasa.gov/ssc/data/analysis/scitools/xml_model_defs.html#xmlModelDefinitions).\n",
    "Then two sources named as SourceA and SourceB are added."
   ]
  },
  {
   "cell_type": "markdown",
   "metadata": {},
   "source": [
    "To define two or more galactic diffuse components you can optionally define the galdiff and isodiff parameters as lists. A separate component will be generated for each element in the list with the name galdiffXX or isodiffXX where XX is an integer position in the list."
   ]
  },
  {
   "cell_type": "raw",
   "metadata": {},
   "source": [
    "model:\n",
    "  galdiff  :\n",
    "    - '$FERMI_DIFFUSE_DIR/diffuse_component0.fits'\n",
    "    - '$FERMI_DIFFUSE_DIR/diffuse_component1.fits'"
   ]
  },
  {
   "cell_type": "markdown",
   "metadata": {},
   "source": [
    "To explicitly set the name of a component you can define any element as a dictionary containing name and file fields:"
   ]
  },
  {
   "cell_type": "raw",
   "metadata": {},
   "source": [
    "model:\n",
    "  galdiff  :\n",
    "    - { 'name' : 'component0', 'file' : '$FERMI_DIFFUSE_DIR/diffuse_component0.fits' }\n",
    "    - { 'name' : 'component1', 'file' : '$FERMI_DIFFUSE_DIR/diffuse_component1.fits' }"
   ]
  },
  {
   "cell_type": "markdown",
   "metadata": {},
   "source": [
    "The list of sources for inclusion in the ROI model is set by defining a list of catalogs with the catalogs parameter. Catalog files can be in either XML or FITS format. Sources from the catalogs in this list that satisfy either the src_roiwidth or src_radius selections are added to the ROI model. If a source is defined in multiple catalogs the source definition from the last file in the catalogs list takes precedence."
   ]
  },
  {
   "cell_type": "raw",
   "metadata": {},
   "source": [
    "model:\n",
    "\n",
    "  src_radius: 5.0\n",
    "  src_roiwidth: 10.0\n",
    "  catalogs :\n",
    "    - 'gll_psc_v16.fit'\n",
    "    - 'extra_sources.xml'"
   ]
  },
  {
   "cell_type": "markdown",
   "metadata": {},
   "source": [
    "Fermipy supports four spatial models which are defined with the SpatialModel property:\n",
    "\n",
    "* PointSource : A point source (SkyDirFunction).\n",
    "* RadialGaussian : A symmetric 2D Gaussian with width parameter ‘Sigma’.\n",
    "* RadialDisk : A symmetric 2D Disk with radius ‘Radius’.\n",
    "* SpatialMap : An arbitrary 2D shape with morphology defined by a FITS template.\n",
    "\n",
    "The spatial extension of RadialDisk and RadialGaussian can be controlled with the SpatialWidth parameter which sets the 68% containment radius in degrees. Note for ST releases prior to 11-01-01, RadialDisk and RadialGaussian sources will be represented with the SpatialMap type."
   ]
  },
  {
   "cell_type": "raw",
   "metadata": {},
   "source": [
    "model:\n",
    "  sources  :\n",
    "    - { name: 'PointSource', glon : 120.0, glat : 0.0,\n",
    "     SpectrumType : 'PowerLaw', Index : 2.0, Scale : 1000, Prefactor : !!float 1e-11,\n",
    "     SpatialModel: 'PointSource' }\n",
    "    - { name: 'DiskSource', glon : 120.0, glat : 0.0,\n",
    "     SpectrumType : 'PowerLaw', Index : 2.0, Scale : 1000, Prefactor : !!float 1e-11,\n",
    "     SpatialModel: 'RadialDisk', SpatialWidth: 1.0 }\n",
    "    - { name: 'GaussSource', glon : 120.0, glat : 0.0,\n",
    "     SpectrumType : 'PowerLaw', Index : 2.0, Scale : 1000, Prefactor : !!float 1e-11,\n",
    "     SpatialModel: 'RadialGaussian', SpatialWidth: 1.0 }\n",
    "    - { name: 'MapSource', glon : 120.0, glat : 0.0,\n",
    "     SpectrumType : 'PowerLaw', Index : 2.0, Scale : 1000, Prefactor : !!float 1e-11,\n",
    "     SpatialModel: 'SpatialMap', Spatial_Filename : 'template.fits' }"
   ]
  },
  {
   "cell_type": "markdown",
   "metadata": {},
   "source": [
    "OPTIMIZER"
   ]
  },
  {
   "cell_type": "markdown",
   "metadata": {},
   "source": [
    "This section provides informations for the setup used for the optimization. The list of options are the following:\n",
    "* init_lambda: Initial value of damping parameter for step size calculation when using the NEWTON fitter. A value of zero disables damping.\n",
    "* max_iter: Maximum number of iterations for the Newtons method fitter.\n",
    "* min_fit_quality: Set the minimum fit quality.\n",
    "* optimizer: Set the optimization algorithm to use when maximizing the likelihood function.\n",
    "* retries: Set the number of times to retry the fit when the fit quality is less than min_fit_quality.\n",
    "* tol: Set the optimizer tolerance.\n",
    "* verbosity"
   ]
  },
  {
   "cell_type": "markdown",
   "metadata": {},
   "source": [
    "PLOTTING"
   ]
  },
  {
   "cell_type": "markdown",
   "metadata": {},
   "source": [
    "This section selects the options to be used to make the plots:\n",
    "* cmap: Set the colormap for 2D plots. Default magma\n",
    "* cmap_resid: Set the colormap for 2D residual plots.\n",
    "* figsize: Set the default figure size.\n",
    "* format: format of images\n",
    "* interactive: Enable interactive mode. If True then plots will be drawn after each plotting command.\n",
    "* label_ts_threshold: TS threshold for labeling sources in sky maps. If None then no sources will be labeled."
   ]
  },
  {
   "cell_type": "markdown",
   "metadata": {},
   "source": [
    "SELECTION"
   ]
  },
  {
   "cell_type": "markdown",
   "metadata": {},
   "source": [
    "The selection section collects parameters related to the data selection and target definition. The majority of the parameters in this section are arguments to gtselect and gtmktime. The ROI center can be set with the target parameter by providing the name of a source defined in one of the input catalogs (defined in the model section). Alternatively the ROI center can be defined by giving explicit sky coordinates with ra and dec or glon and glat."
   ]
  },
  {
   "cell_type": "raw",
   "metadata": {},
   "source": [
    "selection:\n",
    "\n",
    "  # gtselect parameters\n",
    "  emin    : 100\n",
    "  emax    : 100000\n",
    "  zmax    : 90\n",
    "  evclass : 128\n",
    "  evtype  : 3\n",
    "  tmin    : 239557414\n",
    "  tmax    : 428903014\n",
    "\n",
    "  # gtmktime parameters\n",
    "  filter : 'DATA_QUAL>0 && LAT_CONFIG==1'\n",
    "  roicut : 'no'\n",
    "\n",
    "  # Set the ROI center to the coordinates of this source\n",
    "  target : 'mkn421'"
   ]
  },
  {
   "cell_type": "markdown",
   "metadata": {},
   "source": [
    "A sample of options for this section are the following:\n",
    "* emax/emin: Maximum/Minimum Energy (MeV)\n",
    "* evclass: Event class selection.\n",
    "* evtype: Event type selection.\n",
    "* filter: Filter string for gtmktime selection.\n",
    "* logemax/logemin: Maximum/Minimum Energy (log10(MeV))\n",
    "* phasemax/phasemin: Maximum/Minimum pulsar phase\n",
    "* radius: Radius of data selection. If none this will be automatically set from the ROI size.\n",
    "* target: Choose an object on which to center the ROI. This option takes precendence over ra/dec or glon/glat.\n",
    "* tmax/tmin: Maximum/Minimum time (MET).\n",
    "* zmax: Maximum zenith angle."
   ]
  },
  {
   "cell_type": "markdown",
   "metadata": {},
   "source": [
    "# Running g-tools"
   ]
  },
  {
   "cell_type": "markdown",
   "metadata": {},
   "source": [
    "First of all you need to load the configuration file, create the object gta and run the tool gta.setup that implements the ST gtselect, gtmktime, gtbin, gtexpcube, gtsrcmap tools"
   ]
  },
  {
   "cell_type": "markdown",
   "metadata": {},
   "source": [
    "With the commands below we import the packages needed to run the script."
   ]
  },
  {
   "cell_type": "code",
   "execution_count": 1,
   "metadata": {},
   "outputs": [],
   "source": [
    "import os\n",
    "import numpy as np\n",
    "from fermipy.gtanalysis import GTAnalysis\n",
    "from fermipy.plotting import ROIPlotter, SEDPlotter\n",
    "import matplotlib.pyplot as plt\n",
    "import matplotlib\n",
    "from IPython.display import Image"
   ]
  },
  {
   "cell_type": "markdown",
   "metadata": {},
   "source": [
    "This script uses the same data as the SMC tutorial.\n",
    "\n",
    "Download the SMC data andd then untar the file ../data/SMC_data.tar.gz. This will copy the config.yaml and ft1 file in the notebook directory."
   ]
  },
  {
   "cell_type": "code",
   "execution_count": 2,
   "metadata": {},
   "outputs": [],
   "source": [
    "import os\n",
    "if os.path.isfile('./../data/SMC_data.tar.gz'):\n",
    "    !tar xzf ./../data/SMC_data.tar.gz\n",
    "else:\n",
    "    !curl -OL --output-dir ./../data/ https://raw.githubusercontent.com/fermiPy/fermipy-extras/master/data/SMC_data.tar.gz\n",
    "    !tar xzf ./../data/SMC_data.tar.gz"
   ]
  },
  {
   "cell_type": "markdown",
   "metadata": {},
   "source": [
    "The configuration file has the same structure as the configuration dictionary such that one can read/write configurations using the load/dump methods of the yaml module:"
   ]
  },
  {
   "cell_type": "code",
   "execution_count": 3,
   "metadata": {},
   "outputs": [],
   "source": [
    "import yaml\n",
    "# Load a configuration\n",
    "config = yaml.load(open('./SMC_data/config.yaml'), Loader=yaml.FullLoader)\n",
    "# Update a parameter and write a new configuration\n",
    "config['selection']['emin'] = 1000.\n",
    "yaml.dump(config, open('new_config.yaml','w'))"
   ]
  },
  {
   "cell_type": "code",
   "execution_count": 4,
   "metadata": {},
   "outputs": [
    {
     "name": "stderr",
     "output_type": "stream",
     "text": [
      "2024-06-19 14:57:03 INFO    GTAnalysis.__init__(): \n",
      "--------------------------------------------------------------------------------\n",
      "fermipy version 1.2.2 \n",
      "ScienceTools version 2.2.0\n",
      "2024-06-19 14:57:04 INFO    GTAnalysis.setup(): Running setup.\n",
      "2024-06-19 14:57:04 INFO    GTBinnedAnalysis.setup(): Running setup for component 00\n",
      "2024-06-19 14:57:04 INFO    GTBinnedAnalysis._select_data(): Skipping data selection.\n",
      "2024-06-19 14:57:04 INFO    GTBinnedAnalysis.setup(): Using external LT cube.\n"
     ]
    },
    {
     "name": "stdout",
     "output_type": "stream",
     "text": [
      "{'Prefactor': 0, 'Index1': 1, 'Scale': 2, 'Cutoff': 3, 'Index2': 4}\n"
     ]
    },
    {
     "name": "stderr",
     "output_type": "stream",
     "text": [
      "2024-06-19 14:57:04 INFO    GTBinnedAnalysis._create_expcube(): Skipping gtexpcube.\n",
      "WARNING: FITSFixedWarning: 'datfix' made the change 'Set DATEREF to '2001-01-01T00:01:04.184' from MJDREF.\n",
      "Set MJD-OBS to 54682.655283 from DATE-OBS.\n",
      "Set MJD-END to 57847.435324 from DATE-END'. [astropy.wcs.wcs]\n",
      "2024-06-19 14:57:05 INFO    GTBinnedAnalysis.run_gtapp(): Running gtsrcmaps.\n",
      "2024-06-19 14:57:05 INFO    GTBinnedAnalysis.run_gtapp(): time -p gtsrcmaps scfile=./SMC_data/SC/L240613164330AE56FF4635_SC00.fits sctable=\"SC_DATA\" expcube=/home/pmarinos/Documents/fermipyextra_branches/fermipy-extra/notebooks/SMC_data/ltcube_00.fits cmap=/home/pmarinos/Documents/fermipyextra_branches/fermipy-extra/notebooks/SMC_data/ccube_00.fits srcmdl=/home/pmarinos/Documents/fermipyextra_branches/fermipy-extra/notebooks/SMC_data/srcmdl_00.xml bexpmap=/home/pmarinos/Documents/fermipyextra_branches/fermipy-extra/notebooks/SMC_data/bexpmap_00.fits wmap=none outfile=/home/pmarinos/Documents/fermipyextra_branches/fermipy-extra/notebooks/SMC_data/srcmap_00.fits irfs=\"P8R2_SOURCE_V6\" evtype=3 convol=yes resample=yes rfactor=2 minbinsz=0.05 ptsrc=yes psfcorr=yes emapbnds=no edisp_bins=-1 copyall=no chatter=3 clobber=yes debug=no gui=no mode=\"ql\"\n",
      "2024-06-19 14:57:05 INFO    GTBinnedAnalysis.run_gtapp(): This is gtsrcmaps version HEAD\n",
      "2024-06-19 14:57:05 INFO    GTBinnedAnalysis.run_gtapp(): Using evtype=3 (i.e., FRONT/BACK irfs)\n",
      "2024-06-19 14:57:05 INFO    GTBinnedAnalysis.run_gtapp(): ResponseFunctions::load: IRF used: P8R2_SOURCE_V6\n",
      "2024-06-19 14:57:05 INFO    GTBinnedAnalysis.run_gtapp(): event_types:  0  1\n",
      "2024-06-19 14:57:15 INFO    GTBinnedAnalysis.run_gtapp(): Creating source named 3FGL J0059.0-7242e\n",
      "2024-06-19 14:57:15 INFO    GTBinnedAnalysis.run_gtapp(): Creating source named 3FGL J0112.9-7506\n",
      "2024-06-19 14:57:15 INFO    GTBinnedAnalysis.run_gtapp(): Creating source named 3FGL J0023.9-7203\n",
      "2024-06-19 14:57:15 INFO    GTBinnedAnalysis.run_gtapp(): Creating source named 3FGL J0029.1-7045\n",
      "2024-06-19 14:57:15 INFO    GTBinnedAnalysis.run_gtapp(): Creating source named 3FGL J0021.6-6835\n",
      "2024-06-19 14:57:15 INFO    GTBinnedAnalysis.run_gtapp(): Creating source named 3FGL J2351.9-7601\n",
      "2024-06-19 14:57:15 INFO    GTBinnedAnalysis.run_gtapp(): Creating source named 3FGL J2338.7-7401\n",
      "2024-06-19 14:57:15 INFO    GTBinnedAnalysis.run_gtapp(): Creating source named 3FGL J0146.4-6746\n",
      "2024-06-19 14:57:15 INFO    GTBinnedAnalysis.run_gtapp(): Creating source named 3FGL J2336.5-7620\n",
      "2024-06-19 14:57:15 INFO    GTBinnedAnalysis.run_gtapp(): Creating source named 3FGL J0002.0-6722\n",
      "2024-06-19 14:57:15 INFO    GTBinnedAnalysis.run_gtapp(): Creating source named isodiff\n",
      "2024-06-19 14:57:15 INFO    GTBinnedAnalysis.run_gtapp(): Creating source named galdiff\n",
      "2024-06-19 14:57:16 INFO    GTBinnedAnalysis.run_gtapp(): Generating SourceMap for 3FGL J0002.0-6722 23....................!\n",
      "2024-06-19 14:57:18 INFO    GTBinnedAnalysis.run_gtapp(): Generating SourceMap for 3FGL J0021.6-6835 23....................!\n",
      "2024-06-19 14:57:19 INFO    GTBinnedAnalysis.run_gtapp(): Generating SourceMap for 3FGL J0023.9-7203 23....................!\n",
      "2024-06-19 14:57:21 INFO    GTBinnedAnalysis.run_gtapp(): Generating SourceMap for 3FGL J0029.1-7045 23....................!\n",
      "2024-06-19 14:58:14 INFO    GTBinnedAnalysis.run_gtapp(): Generating SourceMap for 3FGL J0059.0-7242e 23....................!\n",
      "2024-06-19 14:58:16 INFO    GTBinnedAnalysis.run_gtapp(): Generating SourceMap for 3FGL J0112.9-7506 23....................!\n",
      "2024-06-19 14:58:17 INFO    GTBinnedAnalysis.run_gtapp(): Generating SourceMap for 3FGL J0146.4-6746 23....................!\n",
      "2024-06-19 14:58:19 INFO    GTBinnedAnalysis.run_gtapp(): Generating SourceMap for 3FGL J2336.5-7620 23....................!\n",
      "2024-06-19 14:58:20 INFO    GTBinnedAnalysis.run_gtapp(): Generating SourceMap for 3FGL J2338.7-7401 23....................!\n",
      "2024-06-19 14:58:22 INFO    GTBinnedAnalysis.run_gtapp(): Generating SourceMap for 3FGL J2351.9-7601 23....................!\n",
      "2024-06-19 14:59:21 INFO    GTBinnedAnalysis.run_gtapp(): Generating SourceMap for galdiff 23....................!\n",
      "2024-06-19 15:00:08 INFO    GTBinnedAnalysis.run_gtapp(): Generating SourceMap for isodiff 23....................!\n",
      "2024-06-19 15:00:09 INFO    GTBinnedAnalysis.run_gtapp(): Finished gtsrcmaps. Execution time: 184.29 s\n",
      "2024-06-19 15:00:09 INFO    GTBinnedAnalysis.setup(): Finished setup for component 00\n",
      "2024-06-19 15:00:09 INFO    GTBinnedAnalysis._create_binned_analysis(): Creating BinnedAnalysis for component 00.\n",
      "2024-06-19 15:00:20 INFO    GTAnalysis.setup(): Initializing source properties\n",
      "2024-06-19 15:00:26 INFO    GTAnalysis.setup(): Finished setup.\n"
     ]
    }
   ],
   "source": [
    "gta = GTAnalysis('new_config.yaml')\n",
    "gta.setup()"
   ]
  },
  {
   "cell_type": "markdown",
   "metadata": {},
   "source": [
    "The setup() method performs the data preparation and response calculations needed for the analysis (selecting the data, creating counts and exposure maps, etc.). Depending on the data selection and binning of the analysis this will often be the slowest step in the analysis sequence. The output of setup() is cached in the analysis working directory so subsequent calls to setup() will run much faster."
   ]
  },
  {
   "cell_type": "markdown",
   "metadata": {},
   "source": [
    "The g-tools performed with gta.setup() are the following:\n",
    "* gtselect: [gtselect_fssc](https://fermi.gsfc.nasa.gov/ssc/data/analysis/scitools/help/gtselect.txt)\n",
    "* gtmktime: [gtmiktime_fssc](https://fermi.gsfc.nasa.gov/ssc/data/analysis/scitools/help/gtmktime.txt)\n",
    "* gtbin: [gtbin_fssc](https://fermi.gsfc.nasa.gov/ssc/data/analysis/scitools/help/gtbin.txt)\n",
    "* gtsrcmaps: [gtsrcmaps_fssc](https://fermi.gsfc.nasa.gov/ssc/data/analysis/scitools/help/gtsrcmaps.txt)"
   ]
  },
  {
   "cell_type": "markdown",
   "metadata": {},
   "source": [
    "In order to have a summary of the source model you can use the command:"
   ]
  },
  {
   "cell_type": "code",
   "execution_count": 5,
   "metadata": {},
   "outputs": [
    {
     "name": "stderr",
     "output_type": "stream",
     "text": [
      "2024-06-19 15:00:26 INFO    GTAnalysis.print_model(): \n",
      "sourcename            offset    norm  eflux     index        ts       npred free\n",
      "--------------------------------------------------------------------------------\n",
      "3FGL J0059.0-7242e     0.088   1.059  1.45e-05   2.22       nan      1437.6     \n",
      "3FGL J0112.9-7506      2.572   1.172  1.31e-06   2.17       nan       120.3     \n",
      "3FGL J0023.9-7203      2.662   0.714   9.3e-06   2.65       nan      1679.9     \n",
      "3FGL J0029.1-7045      3.008   0.506  2.49e-06   2.28       nan       270.6     \n",
      "3FGL J0021.6-6835      5.122   1.859  5.27e-07   2.65       nan        84.2     \n",
      "3FGL J2351.9-7601      5.495   1.027  3.74e-06   1.69       nan       117.8     \n",
      "3FGL J2338.7-7401      5.777   0.677  4.38e-06   1.89       nan       213.7     \n",
      "3FGL J0146.4-6746      6.423   0.420  1.03e-06   2.39       nan       124.0     \n",
      "3FGL J2336.5-7620      6.454   0.557  1.66e-06   2.33       nan       187.3     \n",
      "3FGL J0002.0-6722      7.153   0.483  2.07e-06   1.95       nan       113.5     \n",
      "isodiff                  ---   1.000    0.0313   2.12       nan      9099.9     \n",
      "galdiff                  ---   1.000     0.132   0.00       nan     16777.6     \n",
      "\n"
     ]
    }
   ],
   "source": [
    "gta.print_model()"
   ]
  },
  {
   "cell_type": "markdown",
   "metadata": {},
   "source": [
    "The table above contains:\n",
    "* sourcename as given in the catalog\n",
    "* offset from the center of the roi. Sources are ranked with respect to this parameter\n",
    "* normalization of the SED\n",
    "* energy flux of the source\n",
    "* index of the SED with a PowerLaw SED\n",
    "* Test Statistics\n",
    "* npred is the number of sources associated to the source\n",
    "* free column that tells if the SED parameter of the sources are free (if the column is filled with an asterix) or fixed without no asterix."
   ]
  },
  {
   "cell_type": "markdown",
   "metadata": {},
   "source": [
    "# Source dictionary"
   ]
  },
  {
   "cell_type": "markdown",
   "metadata": {},
   "source": [
    "First of all, let's make a fit using gta.fit tool.\n",
    "Source fitting with fermipy is generally performed with the optimize and fit methods. fit is a wrapper on the pyLikelihood fit method and performs a likelihood fit of all free parameters of the model. This method can be used to manually optimize of the model by calling it after freeing one or more source parameters."
   ]
  },
  {
   "cell_type": "code",
   "execution_count": 6,
   "metadata": {},
   "outputs": [
    {
     "name": "stderr",
     "output_type": "stream",
     "text": [
      "2024-06-19 15:00:26 INFO    GTAnalysis.free_source(): Freeing parameters for 3FGL J0059.0-7242e    : ['Prefactor', 'Index']\n",
      "2024-06-19 15:00:26 INFO    GTAnalysis.free_source(): Freeing parameters for 3FGL J0112.9-7506     : ['Prefactor', 'Index']\n",
      "2024-06-19 15:00:26 INFO    GTAnalysis.free_source(): Freeing parameters for 3FGL J0023.9-7203     : ['norm', 'alpha', 'beta']\n",
      "2024-06-19 15:00:26 INFO    GTAnalysis.free_source(): Freeing parameters for 3FGL J0029.1-7045     : ['Prefactor', 'Index']\n",
      "2024-06-19 15:00:26 INFO    GTAnalysis.free_source(): Freeing parameters for 3FGL J0021.6-6835     : ['Prefactor', 'Index']\n",
      "2024-06-19 15:00:26 INFO    GTAnalysis.free_source(): Freeing parameters for 3FGL J2351.9-7601     : ['Prefactor', 'Index']\n",
      "2024-06-19 15:00:26 INFO    GTAnalysis.free_source(): Freeing parameters for 3FGL J2338.7-7401     : ['Prefactor', 'Index']\n",
      "2024-06-19 15:00:26 INFO    GTAnalysis.free_source(): Freeing parameters for 3FGL J0146.4-6746     : ['Prefactor', 'Index']\n",
      "2024-06-19 15:00:26 INFO    GTAnalysis.free_source(): Freeing parameters for 3FGL J2336.5-7620     : ['Prefactor', 'Index']\n",
      "2024-06-19 15:00:26 INFO    GTAnalysis.free_source(): Freeing parameters for 3FGL J0002.0-6722     : ['Prefactor', 'Index']\n",
      "2024-06-19 15:00:26 INFO    GTAnalysis.free_source(): Freeing parameters for isodiff               : ['Normalization']\n",
      "2024-06-19 15:00:26 INFO    GTAnalysis.free_source(): Freeing parameters for galdiff               : ['Prefactor', 'Index']\n",
      "2024-06-19 15:00:26 INFO    GTAnalysis.fit(): Starting fit.\n"
     ]
    },
    {
     "name": "stdout",
     "output_type": "stream",
     "text": [
      "Drm_Cache::update Measured counts < 0 3FGL J0023.9-7203 21 -3.92429e-11 6.86055e-11\n",
      "508.548 476.301 383.986 267.676 161.68 85.2989 39.7061 16.4355 5.9306 1.87763 0.52174 0.127727 0.0277026 0.00525312 0.00086478 0.000124394 1.56781e-05 1.73055e-06 1.67578e-07 1.42376e-08 1.05942e-09 6.86055e-11 \n"
     ]
    },
    {
     "name": "stderr",
     "output_type": "stream",
     "text": [
      "/home/pmarinos/miniforge3/envs/fermipy/lib/python3.9/site-packages/scipy/interpolate/_fitpack2.py:313: UserWarning: \n",
      "The maximal number of iterations maxit (set to 20 by the program)\n",
      "allowed for finding a smoothing spline with fp=s has been reached: s\n",
      "too small.\n",
      "There is an approximation returned but the corresponding weighted sum\n",
      "of squared residuals does not satisfy the condition abs(fp-s)/s < tol.\n",
      "  warnings.warn(message)\n",
      "2024-06-19 15:00:43 INFO    GTAnalysis.fit(): Fit returned successfully. Quality:   3 Status:   0\n",
      "2024-06-19 15:00:43 INFO    GTAnalysis.fit(): LogLike:   -73815.272 DeltaLogLike:      154.334 \n"
     ]
    }
   ],
   "source": [
    "gta.free_sources()\n",
    "fitresult=gta.fit()"
   ]
  },
  {
   "cell_type": "code",
   "execution_count": 7,
   "metadata": {},
   "outputs": [
    {
     "name": "stderr",
     "output_type": "stream",
     "text": [
      "2024-06-19 15:00:43 INFO    GTAnalysis.print_model(): \n",
      "sourcename            offset    norm  eflux     index        ts       npred free\n",
      "--------------------------------------------------------------------------------\n",
      "3FGL J0059.0-7242e     0.088   1.354  1.02e-05   2.46    631.43      1387.2    *\n",
      "3FGL J0112.9-7506      2.572   1.133  2.16e-06   1.95    145.27       129.2    *\n",
      "3FGL J0023.9-7203      2.662   0.594  9.79e-06   2.70   5206.25      1799.4    *\n",
      "3FGL J0029.1-7045      3.008   0.458  2.07e-06   2.33    269.77       239.2    *\n",
      "3FGL J0021.6-6835      5.122   2.618  2.57e-07   3.29     16.47        57.1    *\n",
      "3FGL J2351.9-7601      5.495   1.404  2.85e-06   2.01    243.25       192.1    *\n",
      "3FGL J2338.7-7401      5.777   0.598  2.91e-06   2.02    294.33       187.1    *\n",
      "3FGL J0146.4-6746      6.423   0.664  1.76e-06   2.35    256.39       201.6    *\n",
      "3FGL J2336.5-7620      6.454   0.392  1.28e-06   2.29    112.83       135.9    *\n",
      "3FGL J0002.0-6722      7.153   0.409  1.63e-06   1.98     94.14        95.4    *\n",
      "isodiff                  ---   0.684    0.0214   2.12    713.57      6220.2    *\n",
      "galdiff                  ---   1.094     0.134   0.05   7041.53     17811.3    *\n",
      "\n"
     ]
    }
   ],
   "source": [
    "gta.print_model()"
   ]
  },
  {
   "cell_type": "markdown",
   "metadata": {},
   "source": [
    "Now you see that the ts column is filled and the free column has all asterix because we have freed the sources."
   ]
  },
  {
   "cell_type": "markdown",
   "metadata": {},
   "source": [
    "Fermipy gives the possibility to access many informations on the sources in the model.\n",
    "Below a few examples."
   ]
  },
  {
   "cell_type": "markdown",
   "metadata": {},
   "source": [
    "NAME AND CHARACTERISTICS OF THE SOURCE"
   ]
  },
  {
   "cell_type": "code",
   "execution_count": 8,
   "metadata": {},
   "outputs": [
    {
     "name": "stdout",
     "output_type": "stream",
     "text": [
      "3FGL J0059.0-7242e\n",
      "3FGL J0059.0-7242e\n",
      "SpatialMap\n",
      "None\n",
      "SpatialMap\n",
      "DiffuseSource\n",
      "PowerLaw\n",
      "$FERMIPY_DATA_DIR/catalogs/Extended_archive_v15/Templates/SMC.fits\n",
      "None\n",
      "{'3FGL J0002.0-6722': 0.011790148677603435, '3FGL J0021.6-6835': 0.014374005416110978, '3FGL J0023.9-7203': -0.022902679562838098, '3FGL J0029.1-7045': -0.00040861905612040296, '3FGL J0059.0-7242e': 0.9999999999999999, '3FGL J0112.9-7506': -0.006446519317548159, '3FGL J0146.4-6746': 0.014675271224211939, '3FGL J2336.5-7620': 0.022611347556478673, '3FGL J2338.7-7401': 0.012248514056312932, '3FGL J2351.9-7601': 0.006110082031862612, 'galdiff': -0.1891644465120756, 'isodiff': 0.02205283917272138}\n",
      "[4.46857316e+02 3.08420680e+02 2.09968151e+02 1.41385340e+02\n",
      " 9.41907773e+01 6.24273301e+01 4.15264943e+01 2.77945637e+01\n",
      " 1.84249832e+01 1.22067121e+01 8.08387970e+00 5.38413610e+00\n",
      " 3.61208539e+00 2.40960580e+00 1.59550056e+00 1.05189465e+00\n",
      " 6.93896609e-01 4.56475194e-01 3.01655045e-01 1.99122859e-01\n",
      " 1.30944968e-01 8.47352407e-02]\n"
     ]
    }
   ],
   "source": [
    "print(gta.roi.sources[0]['name']) #name of the source\n",
    "print(gta.roi.sources[0]['Source_Name']) #name of the source\n",
    "print(gta.roi.sources[0]['SpatialModel']) #spatial model\n",
    "print(gta.roi.sources[0]['SpatialWidth']) #spatial size parameter\n",
    "print(gta.roi.sources[0]['SpatialType']) #spatial size parameter\n",
    "print(gta.roi.sources[0]['SourceType']) #Source type\n",
    "print(gta.roi.sources[0]['SpectrumType']) #Spectrum type string\n",
    "print(gta.roi.sources[0]['Spatial_Filename']) #Path to spatial template\n",
    "print(gta.roi.sources[0]['Spectrum_Filename']) #Path to the SED source template\n",
    "print(gta.roi.sources[0]['correlation']) #Dictionary of correlation coefficients.\n",
    "print(gta.roi.sources[0]['model_counts']) #Vector of predicted counts for this source"
   ]
  },
  {
   "cell_type": "markdown",
   "metadata": {},
   "source": [
    "CHARACTERISTICS OF THE POSITION OF THE SOURCE"
   ]
  },
  {
   "cell_type": "code",
   "execution_count": 9,
   "metadata": {},
   "outputs": [
    {
     "name": "stdout",
     "output_type": "stream",
     "text": [
      "14.75\n",
      "-72.7\n",
      "302.14493\n",
      "-44.4167\n",
      "nan\n",
      "nan\n",
      "nan\n",
      "nan\n",
      "nan\n",
      "nan\n",
      "nan\n",
      "nan\n",
      "nan\n",
      "nan\n",
      "-0.07331403829880656\n",
      "0.04939684436004943\n",
      "0.07503178772129071\n",
      "-0.0467496716123047\n",
      "0.0884039\n"
     ]
    }
   ],
   "source": [
    "print(gta.roi.sources[0]['ra']) #ra\n",
    "print(gta.roi.sources[0]['dec']) #dec\n",
    "print(gta.roi.sources[0]['glon']) #glon\n",
    "print(gta.roi.sources[0]['glat']) #glat\n",
    "print(gta.roi.sources[0]['ra_err']) #error for ra\n",
    "print(gta.roi.sources[0]['dec_err']) #error for dec\n",
    "print(gta.roi.sources[0]['glon_err']) #error for glon\n",
    "print(gta.roi.sources[0]['glat_err']) #error for glat\n",
    "print(gta.roi.sources[0]['pos_err']) #error for the position in deg\n",
    "print(gta.roi.sources[0]['pos_r68']) #68% CL error for the position\n",
    "print(gta.roi.sources[0]['pos_r95']) #95% CL error for the position\n",
    "print(gta.roi.sources[0]['pos_r99']) #99% CL error for the position\n",
    "print(gta.roi.sources[0]['pos_err_semimajor']) #1-sigma uncertainty (deg) along major axis of uncertainty ellipse.\n",
    "print(gta.roi.sources[0]['pos_err_semiminor']) #1-sigma uncertainty (deg) along minor axis of uncertainty ellipse.\n",
    "print(gta.roi.sources[0]['offset_ra']) #Right ascension offset from ROI center in local celestial projection (deg).\n",
    "print(gta.roi.sources[0]['offset_dec']) #Declination offset from ROI center in local celestial projection (deg).\n",
    "print(gta.roi.sources[0]['offset_glon']) #Galactic longitude offset from ROI center in local galactic projection (deg).\n",
    "print(gta.roi.sources[0]['offset_glat']) #Galactic latitude offset from ROI center in local galactic projection (deg).\n",
    "print(gta.roi.sources[0]['offset']) #Angular offset from ROI center (deg)."
   ]
  },
  {
   "cell_type": "markdown",
   "metadata": {},
   "source": [
    "The error for the position is nan because we have not calculated yet the relocalization. \n",
    "Let's run the localization for a source with gta.localize tool."
   ]
  },
  {
   "cell_type": "code",
   "execution_count": 10,
   "metadata": {},
   "outputs": [
    {
     "name": "stderr",
     "output_type": "stream",
     "text": [
      "2024-06-19 15:00:43 INFO    GTAnalysis.print_model(): \n",
      "sourcename            offset    norm  eflux     index        ts       npred free\n",
      "--------------------------------------------------------------------------------\n",
      "3FGL J0059.0-7242e     0.088   1.354  1.02e-05   2.46    631.43      1387.2    *\n",
      "3FGL J0112.9-7506      2.572   1.133  2.16e-06   1.95    145.27       129.2    *\n",
      "3FGL J0023.9-7203      2.662   0.594  9.79e-06   2.70   5206.25      1799.4    *\n",
      "3FGL J0029.1-7045      3.008   0.458  2.07e-06   2.33    269.77       239.2    *\n",
      "3FGL J0021.6-6835      5.122   2.618  2.57e-07   3.29     16.47        57.1    *\n",
      "3FGL J2351.9-7601      5.495   1.404  2.85e-06   2.01    243.25       192.1    *\n",
      "3FGL J2338.7-7401      5.777   0.598  2.91e-06   2.02    294.33       187.1    *\n",
      "3FGL J0146.4-6746      6.423   0.664  1.76e-06   2.35    256.39       201.6    *\n",
      "3FGL J2336.5-7620      6.454   0.392  1.28e-06   2.29    112.83       135.9    *\n",
      "3FGL J0002.0-6722      7.153   0.409  1.63e-06   1.98     94.14        95.4    *\n",
      "isodiff                  ---   0.684    0.0214   2.12    713.57      6220.2    *\n",
      "galdiff                  ---   1.094     0.134   0.05   7041.53     17811.3    *\n",
      "\n",
      "2024-06-19 15:00:43 INFO    GTAnalysis.print_model(): \n",
      "sourcename            offset    norm  eflux     index        ts       npred free\n",
      "--------------------------------------------------------------------------------\n",
      "3FGL J0059.0-7242e     0.088   1.354  1.02e-05   2.46    631.43      1387.2    *\n",
      "3FGL J0112.9-7506      2.572   1.133  2.16e-06   1.95    145.27       129.2    *\n",
      "3FGL J0023.9-7203      2.662   0.594  9.79e-06   2.70   5206.25      1799.4    *\n",
      "3FGL J0029.1-7045      3.008   0.458  2.07e-06   2.33    269.77       239.2    *\n",
      "3FGL J0021.6-6835      5.122   2.618  2.57e-07   3.29     16.47        57.1    *\n",
      "3FGL J2351.9-7601      5.495   1.404  2.85e-06   2.01    243.25       192.1    *\n",
      "3FGL J2338.7-7401      5.777   0.598  2.91e-06   2.02    294.33       187.1    *\n",
      "3FGL J0146.4-6746      6.423   0.664  1.76e-06   2.35    256.39       201.6    *\n",
      "3FGL J2336.5-7620      6.454   0.392  1.28e-06   2.29    112.83       135.9    *\n",
      "3FGL J0002.0-6722      7.153   0.409  1.63e-06   1.98     94.14        95.4    *\n",
      "isodiff                  ---   0.684    0.0214   2.12    713.57      6220.2    *\n",
      "galdiff                  ---   1.094     0.134   0.05   7041.53     17811.3    *\n",
      "\n",
      "2024-06-19 15:00:43 INFO    GTAnalysis.localize(): Running localization for 3FGL J0023.9-7203\n",
      "2024-06-19 15:00:53 INFO    GTAnalysis._localize(): Localization succeeded.\n",
      "2024-06-19 15:00:53 INFO    GTAnalysis._localize(): Updating source 3FGL J0023.9-7203 to localized position.\n",
      "2024-06-19 15:00:53 INFO    GTAnalysis.delete_source(): Deleting source 3FGL J0023.9-7203\n",
      "2024-06-19 15:00:53 INFO    GTAnalysis.add_source(): Adding source 3FGL J0023.9-7203\n",
      "2024-06-19 15:00:55 INFO    GTAnalysis._localize(): Localization completed with new position:\n",
      "(  ra, dec) = (    5.9936 +/-   0.0054,  -72.0814 +/-   0.0053)\n",
      "(glon,glat) = (  305.9077 +/-   0.0053,  -44.8878 +/-   0.0053)\n",
      "offset =   0.0166 r68 =   0.0081 r95 =   0.0130 r99 =   0.0162\n",
      "2024-06-19 15:00:55 INFO    GTAnalysis._localize(): LogLike:   -73810.560 DeltaLogLike:        4.712\n",
      "2024-06-19 15:00:55 INFO    GTAnalysis.localize(): Finished localization.\n",
      "2024-06-19 15:01:05 WARNING GTAnalysis.localize(): Saving TS maps in .npy files is disabled b/c of incompatibilities in python3, remove the maps from the /home/pmarinos/Documents/fermipyextra_branches/fermipy-extra/notebooks/SMC_data/3fgl_j0023.9-7203_loc.npy\n",
      "2024-06-19 15:01:05 INFO    GTAnalysis.localize(): Execution time: 22.03 s\n",
      "2024-06-19 15:01:05 INFO    GTAnalysis.print_model(): \n",
      "sourcename            offset    norm  eflux     index        ts       npred free\n",
      "--------------------------------------------------------------------------------\n",
      "3FGL J0059.0-7242e     0.088   1.354  1.02e-05   2.46    631.43      1387.2    *\n",
      "3FGL J0112.9-7506      2.572   1.133  2.16e-06   1.95    145.27       129.2    *\n",
      "3FGL J0023.9-7203      2.654   0.582  9.37e-06   2.69   5334.39      1799.9    *\n",
      "3FGL J0029.1-7045      3.008   0.458  2.07e-06   2.33    269.77       239.2    *\n",
      "3FGL J0021.6-6835      5.122   2.618  2.57e-07   3.29     16.47        57.1    *\n",
      "3FGL J2351.9-7601      5.495   1.404  2.85e-06   2.01    243.25       192.1    *\n",
      "3FGL J2338.7-7401      5.777   0.598  2.91e-06   2.02    294.33       187.1    *\n",
      "3FGL J0146.4-6746      6.423   0.664  1.76e-06   2.35    256.39       201.6    *\n",
      "3FGL J2336.5-7620      6.454   0.392  1.28e-06   2.29    112.83       135.9    *\n",
      "3FGL J0002.0-6722      7.153   0.409  1.63e-06   1.98     94.14        95.4    *\n",
      "isodiff                  ---   0.684    0.0214   2.12    713.57      6220.2    *\n",
      "galdiff                  ---   1.094     0.134   0.05   7041.53     17811.3    *\n",
      "\n"
     ]
    }
   ],
   "source": [
    "gta.free_sources(free=True)\n",
    "gta.print_model()\n",
    "gta.free_sources(skydir=gta.roi[gta.roi.sources[2].name].skydir,distance=[3.0],free=True)\n",
    "gta.print_model()\n",
    "localsmc = gta.localize(gta.roi.sources[2].name, update=True, make_plots=True)\n",
    "gta.print_model()"
   ]
  },
  {
   "cell_type": "markdown",
   "metadata": {},
   "source": [
    "Using the option make_plots=True a few control plots are created like 3fgl_j0023.9-7203_localize_peak.png with the result for the likelihood analysis for the besy fit position and error for the position."
   ]
  },
  {
   "cell_type": "code",
   "execution_count": 11,
   "metadata": {},
   "outputs": [
    {
     "data": {
      "image/png": "[encoded data removed]",
      "text/plain": [
       "<IPython.core.display.Image object>"
      ]
     },
     "execution_count": 11,
     "metadata": {},
     "output_type": "execute_result"
    }
   ],
   "source": [
    "Image(filename='./SMC_data/3fgl_j0023.9-7203_localize_peak.png') "
   ]
  },
  {
   "cell_type": "code",
   "execution_count": 12,
   "metadata": {},
   "outputs": [
    {
     "name": "stdout",
     "output_type": "stream",
     "text": [
      "5.993615496996096\n",
      "-72.08144238671231\n",
      "305.9076562010324\n",
      "-44.88779029162954\n",
      "0.005367762770202534\n",
      "0.005279521025708169\n",
      "0.005347152005890692\n",
      "0.005300394781897491\n",
      "0.005322709638286138\n",
      "0.008072288842395293\n",
      "0.013027053196409764\n",
      "0.01615334952878731\n",
      "0.005400312053703913\n",
      "0.005246222368589348\n",
      "2.609433773241964\n",
      "0.4827772095416758\n",
      "-2.5905140787989\n",
      "-0.5756497073335561\n",
      "2.6538058148530377\n"
     ]
    }
   ],
   "source": [
    "print(gta.roi.sources[2]['ra']) #ra\n",
    "print(gta.roi.sources[2]['dec']) #dec\n",
    "print(gta.roi.sources[2]['glon']) #glon\n",
    "print(gta.roi.sources[2]['glat']) #glat\n",
    "print(gta.roi.sources[2]['ra_err']) #error for ra\n",
    "print(gta.roi.sources[2]['dec_err']) #error for dec\n",
    "print(gta.roi.sources[2]['glon_err']) #error for glon\n",
    "print(gta.roi.sources[2]['glat_err']) #error for glat\n",
    "print(gta.roi.sources[2]['pos_err']) #error for the position in deg\n",
    "print(gta.roi.sources[2]['pos_r68']) #68% CL error for the position\n",
    "print(gta.roi.sources[2]['pos_r95']) #95% CL error for the position\n",
    "print(gta.roi.sources[2]['pos_r99']) #99% CL error for the position\n",
    "print(gta.roi.sources[2]['pos_err_semimajor']) #1-sigma uncertainty (deg) along major axis of uncertainty ellipse.\n",
    "print(gta.roi.sources[2]['pos_err_semiminor']) #1-sigma uncertainty (deg) along minor axis of uncertainty ellipse.\n",
    "print(gta.roi.sources[2]['offset_ra']) #Right ascension offset from ROI center in local celestial projection (deg).\n",
    "print(gta.roi.sources[2]['offset_dec']) #Declination offset from ROI center in local celestial projection (deg).\n",
    "print(gta.roi.sources[2]['offset_glon']) #Galactic longitude offset from ROI center in local galactic projection (deg).\n",
    "print(gta.roi.sources[2]['offset_glat']) #Galactic latitude offset from ROI center in local galactic projection (deg).\n",
    "print(gta.roi.sources[2]['offset']) #Angular offset from ROI center (deg)."
   ]
  },
  {
   "cell_type": "markdown",
   "metadata": {},
   "source": [
    "SED PARAMETERS FLUX AND SCAN OF FLUX"
   ]
  },
  {
   "cell_type": "code",
   "execution_count": 13,
   "metadata": {},
   "outputs": [
    {
     "name": "stdout",
     "output_type": "stream",
     "text": [
      "[b'Prefactor' b'Index' b'Scale' b'' b'' b'' b'' b'' b'' b'']\n",
      "[ 1.35369200e-11 -2.45898536e+00  6.65532043e+02             nan\n",
      "             nan             nan             nan             nan\n",
      "             nan             nan]\n",
      "[1.14134479e-12 6.10685033e-02            nan            nan\n",
      "            nan            nan            nan            nan\n",
      "            nan            nan]\n",
      "631.4279068165924\n",
      "-73815.27380596346\n",
      "[0.00000000e+00 3.09024265e-09 3.13098868e-09 3.17173470e-09\n",
      " 3.21248072e-09 3.25322675e-09 3.29397277e-09 3.33471879e-09\n",
      " 3.37546482e-09 3.41621084e-09 3.45695686e-09 3.49770289e-09\n",
      " 3.53844891e-09 3.57919493e-09 3.61994096e-09 3.66068698e-09\n",
      " 3.70143300e-09 3.74217903e-09 3.78292505e-09 3.82367107e-09]\n",
      "[0.         1.22793046 1.24412119 1.26031192 1.27650265 1.29269338\n",
      " 1.30888411 1.32507484 1.34126557 1.3574563  1.37364703 1.38983776\n",
      " 1.40602848 1.42221921 1.43840994 1.45460067 1.4707914  1.48698213\n",
      " 1.50317286 1.51936359]\n",
      "1387.206279433444\n",
      "3.406737511517394e-09\n",
      "1.6137540993611978e-10\n",
      "3.6651523000891215e-09\n",
      "8.143478440799105e-13\n"
     ]
    }
   ],
   "source": [
    "print(gta.roi.sources[0]['param_names']) #Names of spectral parameters.\n",
    "print(gta.roi.sources[0]['param_values']) #Spectral parameter values.\n",
    "print(gta.roi.sources[0]['param_errors']) #Spectral parameters errors.\n",
    "print(gta.roi.sources[0]['ts']) #Source test statistic.\n",
    "print(gta.roi.sources[0]['loglike']) #Log-likelihood of the model evaluated at the best-fit normalization of the source.\n",
    "print(gta.roi.sources[0]['flux_scan']) #Flux values for scan of source normalization.\n",
    "print(gta.roi.sources[0]['norm_scan']) #Normalization parameters values for scan of source normalization.\n",
    "print(gta.roi.sources[0]['npred']) #Number of predicted counts from this source integrated over the analysis energy range.\n",
    "print(gta.roi.sources[0]['flux']) #Photon flux (cm−2 s−1) integrated over analysis energy range\n",
    "print(gta.roi.sources[0]['flux_err']) #Photon flux uncertainty (cm−2 s−1) integrated over analysis energy range\n",
    "print(gta.roi.sources[0]['flux_ul95']) #95% CL upper limit on the photon Differential photon flux (cm−2 s−1 MeV−1tegrated over analysis energy range\n",
    "print(gta.roi.sources[0]['dnde']) #Differential photon flux (cm−2 s−1 MeV−1) evaluated at the pivot energy."
   ]
  },
  {
   "cell_type": "code",
   "execution_count": 14,
   "metadata": {},
   "outputs": [
    {
     "name": "stderr",
     "output_type": "stream",
     "text": [
      "2024-06-19 15:01:05 INFO    GTBinnedAnalysis.write_xml(): Writing /home/pmarinos/Documents/fermipyextra_branches/fermipy-extra/notebooks/SMC_data/model_test_00.xml...\n",
      "2024-06-19 15:01:05 INFO    GTAnalysis.write_fits(): Writing /home/pmarinos/Documents/fermipyextra_branches/fermipy-extra/notebooks/SMC_data/model_test.fits...\n",
      "WARNING: Format %s cannot be mapped to the accepted TDISPn keyword values.  Format will not be moved into TDISPn keyword. [astropy.io.fits.column]\n",
      "WARNING: Format %f cannot be mapped to the accepted TDISPn keyword values.  Format will not be moved into TDISPn keyword. [astropy.io.fits.column]\n",
      "WARNING: Format %s cannot be mapped to the accepted TDISPn keyword values.  Format will not be moved into TDISPn keyword. [astropy.io.fits.column]\n",
      "2024-06-19 15:01:21 INFO    GTBinnedAnalysis.write_model_map(): Generating model map for component 00.\n",
      "2024-06-19 15:01:25 INFO    GTAnalysis.write_roi(): Writing /home/pmarinos/Documents/fermipyextra_branches/fermipy-extra/notebooks/SMC_data/model_test.npy...\n"
     ]
    }
   ],
   "source": [
    "gta.write_roi('model_test',make_plots=True,save_model_map=True)"
   ]
  },
  {
   "cell_type": "markdown",
   "metadata": {},
   "source": [
    "# Customizing your model"
   ]
  },
  {
   "cell_type": "markdown",
   "metadata": {},
   "source": [
    "As we saw before you can customize your model directly in the config.yaml file.\n",
    "However, sometimes you want to change something in your model directly in your Python script."
   ]
  },
  {
   "cell_type": "markdown",
   "metadata": {},
   "source": [
    "You can free or fix sources using gta.free_sources.\n",
    "First let's fix the SED parameter of all the sources."
   ]
  },
  {
   "cell_type": "code",
   "execution_count": 15,
   "metadata": {},
   "outputs": [
    {
     "name": "stderr",
     "output_type": "stream",
     "text": [
      "2024-06-19 15:01:27 INFO    GTAnalysis.free_source(): Fixing parameters for 3FGL J0059.0-7242e    : ['Prefactor', 'Index']\n",
      "2024-06-19 15:01:27 INFO    GTAnalysis.free_source(): Fixing parameters for 3FGL J0112.9-7506     : ['Prefactor', 'Index']\n",
      "2024-06-19 15:01:27 INFO    GTAnalysis.free_source(): Fixing parameters for 3FGL J0023.9-7203     : ['norm', 'alpha', 'beta']\n",
      "2024-06-19 15:01:27 INFO    GTAnalysis.free_source(): Fixing parameters for 3FGL J0029.1-7045     : ['Prefactor', 'Index']\n",
      "2024-06-19 15:01:27 INFO    GTAnalysis.free_source(): Fixing parameters for 3FGL J0021.6-6835     : ['Prefactor', 'Index']\n",
      "2024-06-19 15:01:27 INFO    GTAnalysis.free_source(): Fixing parameters for 3FGL J2351.9-7601     : ['Prefactor', 'Index']\n",
      "2024-06-19 15:01:27 INFO    GTAnalysis.free_source(): Fixing parameters for 3FGL J2338.7-7401     : ['Prefactor', 'Index']\n",
      "2024-06-19 15:01:27 INFO    GTAnalysis.free_source(): Fixing parameters for 3FGL J0146.4-6746     : ['Prefactor', 'Index']\n",
      "2024-06-19 15:01:27 INFO    GTAnalysis.free_source(): Fixing parameters for 3FGL J2336.5-7620     : ['Prefactor', 'Index']\n",
      "2024-06-19 15:01:27 INFO    GTAnalysis.free_source(): Fixing parameters for 3FGL J0002.0-6722     : ['Prefactor', 'Index']\n",
      "2024-06-19 15:01:27 INFO    GTAnalysis.free_source(): Fixing parameters for isodiff               : ['Normalization']\n",
      "2024-06-19 15:01:27 INFO    GTAnalysis.free_source(): Fixing parameters for galdiff               : ['Prefactor', 'Index']\n",
      "2024-06-19 15:01:27 INFO    GTAnalysis.print_model(): \n",
      "sourcename            offset    norm  eflux     index        ts       npred free\n",
      "--------------------------------------------------------------------------------\n",
      "3FGL J0059.0-7242e     0.088   1.354  1.02e-05   2.46    631.43      1387.2     \n",
      "3FGL J0112.9-7506      2.572   1.133  2.16e-06   1.95    145.27       129.2     \n",
      "3FGL J0023.9-7203      2.654   0.582  9.37e-06   2.69   5334.39      1799.9     \n",
      "3FGL J0029.1-7045      3.008   0.458  2.07e-06   2.33    269.77       239.2     \n",
      "3FGL J0021.6-6835      5.122   2.618  2.57e-07   3.29     16.47        57.1     \n",
      "3FGL J2351.9-7601      5.495   1.404  2.85e-06   2.01    243.25       192.1     \n",
      "3FGL J2338.7-7401      5.777   0.598  2.91e-06   2.02    294.33       187.1     \n",
      "3FGL J0146.4-6746      6.423   0.664  1.76e-06   2.35    256.39       201.6     \n",
      "3FGL J2336.5-7620      6.454   0.392  1.28e-06   2.29    112.83       135.9     \n",
      "3FGL J0002.0-6722      7.153   0.409  1.63e-06   1.98     94.14        95.4     \n",
      "isodiff                  ---   0.684    0.0214   2.12    713.57      6220.2     \n",
      "galdiff                  ---   1.094     0.134   0.05   7041.53     17811.3     \n",
      "\n"
     ]
    }
   ],
   "source": [
    "gta.free_sources(free=False)\n",
    "gta.print_model()"
   ]
  },
  {
   "cell_type": "markdown",
   "metadata": {},
   "source": [
    "Now we free all parameters:"
   ]
  },
  {
   "cell_type": "code",
   "execution_count": 16,
   "metadata": {},
   "outputs": [
    {
     "name": "stderr",
     "output_type": "stream",
     "text": [
      "2024-06-19 15:01:27 INFO    GTAnalysis.free_source(): Freeing parameters for 3FGL J0059.0-7242e    : ['Prefactor', 'Index']\n",
      "2024-06-19 15:01:27 INFO    GTAnalysis.free_source(): Freeing parameters for 3FGL J0112.9-7506     : ['Prefactor', 'Index']\n",
      "2024-06-19 15:01:27 INFO    GTAnalysis.free_source(): Freeing parameters for 3FGL J0023.9-7203     : ['norm', 'alpha', 'beta']\n",
      "2024-06-19 15:01:27 INFO    GTAnalysis.free_source(): Freeing parameters for 3FGL J0029.1-7045     : ['Prefactor', 'Index']\n",
      "2024-06-19 15:01:27 INFO    GTAnalysis.free_source(): Freeing parameters for 3FGL J0021.6-6835     : ['Prefactor', 'Index']\n",
      "2024-06-19 15:01:27 INFO    GTAnalysis.free_source(): Freeing parameters for 3FGL J2351.9-7601     : ['Prefactor', 'Index']\n",
      "2024-06-19 15:01:27 INFO    GTAnalysis.free_source(): Freeing parameters for 3FGL J2338.7-7401     : ['Prefactor', 'Index']\n",
      "2024-06-19 15:01:27 INFO    GTAnalysis.free_source(): Freeing parameters for 3FGL J0146.4-6746     : ['Prefactor', 'Index']\n",
      "2024-06-19 15:01:27 INFO    GTAnalysis.free_source(): Freeing parameters for 3FGL J2336.5-7620     : ['Prefactor', 'Index']\n",
      "2024-06-19 15:01:27 INFO    GTAnalysis.free_source(): Freeing parameters for 3FGL J0002.0-6722     : ['Prefactor', 'Index']\n",
      "2024-06-19 15:01:27 INFO    GTAnalysis.free_source(): Freeing parameters for isodiff               : ['Normalization']\n",
      "2024-06-19 15:01:27 INFO    GTAnalysis.free_source(): Freeing parameters for galdiff               : ['Prefactor', 'Index']\n",
      "2024-06-19 15:01:27 INFO    GTAnalysis.print_model(): \n",
      "sourcename            offset    norm  eflux     index        ts       npred free\n",
      "--------------------------------------------------------------------------------\n",
      "3FGL J0059.0-7242e     0.088   1.354  1.02e-05   2.46    631.43      1387.2    *\n",
      "3FGL J0112.9-7506      2.572   1.133  2.16e-06   1.95    145.27       129.2    *\n",
      "3FGL J0023.9-7203      2.654   0.582  9.37e-06   2.69   5334.39      1799.9    *\n",
      "3FGL J0029.1-7045      3.008   0.458  2.07e-06   2.33    269.77       239.2    *\n",
      "3FGL J0021.6-6835      5.122   2.618  2.57e-07   3.29     16.47        57.1    *\n",
      "3FGL J2351.9-7601      5.495   1.404  2.85e-06   2.01    243.25       192.1    *\n",
      "3FGL J2338.7-7401      5.777   0.598  2.91e-06   2.02    294.33       187.1    *\n",
      "3FGL J0146.4-6746      6.423   0.664  1.76e-06   2.35    256.39       201.6    *\n",
      "3FGL J2336.5-7620      6.454   0.392  1.28e-06   2.29    112.83       135.9    *\n",
      "3FGL J0002.0-6722      7.153   0.409  1.63e-06   1.98     94.14        95.4    *\n",
      "isodiff                  ---   0.684    0.0214   2.12    713.57      6220.2    *\n",
      "galdiff                  ---   1.094     0.134   0.05   7041.53     17811.3    *\n",
      "\n"
     ]
    }
   ],
   "source": [
    "gta.free_sources(free=True)\n",
    "gta.print_model()"
   ]
  },
  {
   "cell_type": "markdown",
   "metadata": {},
   "source": [
    "Now we free all the SED parameters of sources within 3 degrees from 3FGL J0059.0-7242e:"
   ]
  },
  {
   "cell_type": "code",
   "execution_count": 17,
   "metadata": {},
   "outputs": [
    {
     "name": "stderr",
     "output_type": "stream",
     "text": [
      "2024-06-19 15:01:27 INFO    GTAnalysis.free_source(): Fixing parameters for 3FGL J0059.0-7242e    : ['Prefactor', 'Index']\n",
      "2024-06-19 15:01:27 INFO    GTAnalysis.free_source(): Fixing parameters for 3FGL J0112.9-7506     : ['Prefactor', 'Index']\n",
      "2024-06-19 15:01:27 INFO    GTAnalysis.free_source(): Fixing parameters for 3FGL J0023.9-7203     : ['norm', 'alpha', 'beta']\n",
      "2024-06-19 15:01:27 INFO    GTAnalysis.free_source(): Fixing parameters for 3FGL J0029.1-7045     : ['Prefactor', 'Index']\n",
      "2024-06-19 15:01:27 INFO    GTAnalysis.free_source(): Fixing parameters for 3FGL J0021.6-6835     : ['Prefactor', 'Index']\n",
      "2024-06-19 15:01:27 INFO    GTAnalysis.free_source(): Fixing parameters for 3FGL J2351.9-7601     : ['Prefactor', 'Index']\n",
      "2024-06-19 15:01:27 INFO    GTAnalysis.free_source(): Fixing parameters for 3FGL J2338.7-7401     : ['Prefactor', 'Index']\n",
      "2024-06-19 15:01:27 INFO    GTAnalysis.free_source(): Fixing parameters for 3FGL J0146.4-6746     : ['Prefactor', 'Index']\n",
      "2024-06-19 15:01:27 INFO    GTAnalysis.free_source(): Fixing parameters for 3FGL J2336.5-7620     : ['Prefactor', 'Index']\n",
      "2024-06-19 15:01:27 INFO    GTAnalysis.free_source(): Fixing parameters for 3FGL J0002.0-6722     : ['Prefactor', 'Index']\n",
      "2024-06-19 15:01:27 INFO    GTAnalysis.free_source(): Fixing parameters for isodiff               : ['Normalization']\n",
      "2024-06-19 15:01:27 INFO    GTAnalysis.free_source(): Fixing parameters for galdiff               : ['Prefactor', 'Index']\n",
      "2024-06-19 15:01:27 INFO    GTAnalysis.free_source(): Freeing parameters for 3FGL J0059.0-7242e    : ['Prefactor', 'Index']\n",
      "2024-06-19 15:01:27 INFO    GTAnalysis.free_source(): Freeing parameters for 3FGL J0112.9-7506     : ['Prefactor', 'Index']\n",
      "2024-06-19 15:01:27 INFO    GTAnalysis.free_source(): Freeing parameters for 3FGL J0023.9-7203     : ['norm', 'alpha', 'beta']\n",
      "2024-06-19 15:01:27 INFO    GTAnalysis.free_source(): Freeing parameters for isodiff               : ['Normalization']\n",
      "2024-06-19 15:01:27 INFO    GTAnalysis.free_source(): Freeing parameters for galdiff               : ['Prefactor', 'Index']\n",
      "2024-06-19 15:01:27 INFO    GTAnalysis.print_model(): \n",
      "sourcename            offset    norm  eflux     index        ts       npred free\n",
      "--------------------------------------------------------------------------------\n",
      "3FGL J0059.0-7242e     0.088   1.354  1.02e-05   2.46    631.43      1387.2    *\n",
      "3FGL J0112.9-7506      2.572   1.133  2.16e-06   1.95    145.27       129.2    *\n",
      "3FGL J0023.9-7203      2.654   0.582  9.37e-06   2.69   5334.39      1799.9    *\n",
      "3FGL J0029.1-7045      3.008   0.458  2.07e-06   2.33    269.77       239.2     \n",
      "3FGL J0021.6-6835      5.122   2.618  2.57e-07   3.29     16.47        57.1     \n",
      "3FGL J2351.9-7601      5.495   1.404  2.85e-06   2.01    243.25       192.1     \n",
      "3FGL J2338.7-7401      5.777   0.598  2.91e-06   2.02    294.33       187.1     \n",
      "3FGL J0146.4-6746      6.423   0.664  1.76e-06   2.35    256.39       201.6     \n",
      "3FGL J2336.5-7620      6.454   0.392  1.28e-06   2.29    112.83       135.9     \n",
      "3FGL J0002.0-6722      7.153   0.409  1.63e-06   1.98     94.14        95.4     \n",
      "isodiff                  ---   0.684    0.0214   2.12    713.57      6220.2    *\n",
      "galdiff                  ---   1.094     0.134   0.05   7041.53     17811.3    *\n",
      "\n"
     ]
    }
   ],
   "source": [
    "gta.free_sources(free=False)\n",
    "gta.free_sources(skydir=gta.roi['3FGL J0059.0-7242e'].skydir,distance=3.0)\n",
    "gta.print_model()"
   ]
  },
  {
   "cell_type": "markdown",
   "metadata": {},
   "source": [
    "Now we want to delete the source 3FGL J0021.6-6835:"
   ]
  },
  {
   "cell_type": "code",
   "execution_count": 18,
   "metadata": {},
   "outputs": [
    {
     "name": "stderr",
     "output_type": "stream",
     "text": [
      "2024-06-19 15:01:27 INFO    GTAnalysis.delete_source(): Deleting source 3FGL J0021.6-6835\n",
      "2024-06-19 15:01:27 INFO    GTAnalysis.print_model(): \n",
      "sourcename            offset    norm  eflux     index        ts       npred free\n",
      "--------------------------------------------------------------------------------\n",
      "3FGL J0059.0-7242e     0.088   1.354  1.02e-05   2.46    631.43      1387.2    *\n",
      "3FGL J0112.9-7506      2.572   1.133  2.16e-06   1.95    145.27       129.2    *\n",
      "3FGL J0023.9-7203      2.654   0.582  9.37e-06   2.69   5334.39      1799.9    *\n",
      "3FGL J0029.1-7045      3.008   0.458  2.07e-06   2.33    269.77       239.2     \n",
      "3FGL J2351.9-7601      5.495   1.404  2.85e-06   2.01    243.25       192.1     \n",
      "3FGL J2338.7-7401      5.777   0.598  2.91e-06   2.02    294.33       187.1     \n",
      "3FGL J0146.4-6746      6.423   0.664  1.76e-06   2.35    256.39       201.6     \n",
      "3FGL J2336.5-7620      6.454   0.392  1.28e-06   2.29    112.83       135.9     \n",
      "3FGL J0002.0-6722      7.153   0.409  1.63e-06   1.98     94.14        95.4     \n",
      "isodiff                  ---   0.684    0.0214   2.12    713.57      6220.2    *\n",
      "galdiff                  ---   1.094     0.134   0.05   7041.53     17811.3    *\n",
      "\n"
     ]
    }
   ],
   "source": [
    "gta.delete_source('3FGL J0021.6-6835')\n",
    "gta.print_model()"
   ]
  },
  {
   "cell_type": "markdown",
   "metadata": {},
   "source": [
    "You can also delete all the sources as a function of the npred/ts or position using the options minmax_npred/minmax_ts/skydir options. Finally, you can delete sources in a given list using the option names."
   ]
  },
  {
   "cell_type": "code",
   "execution_count": 19,
   "metadata": {},
   "outputs": [
    {
     "name": "stdout",
     "output_type": "stream",
     "text": [
      "Help on method delete_sources in module fermipy.gtanalysis:\n",
      "\n",
      "delete_sources(cuts=None, distance=None, skydir=None, minmax_ts=None, minmax_npred=None, exclude=None, square=False, names=None) method of fermipy.gtanalysis.GTAnalysis instance\n",
      "    Delete sources in the ROI model satisfying the given\n",
      "    selection criteria.\n",
      "    \n",
      "    Parameters\n",
      "    ----------\n",
      "    cuts : dict\n",
      "        Dictionary of [min,max] selections on source properties.\n",
      "    \n",
      "    distance : float\n",
      "        Cut on angular distance from ``skydir``.  If None then no\n",
      "        selection will be applied.\n",
      "    \n",
      "    skydir : `~astropy.coordinates.SkyCoord`\n",
      "        Reference sky coordinate for ``distance`` selection.  If\n",
      "        None then the distance selection will be applied with\n",
      "        respect to the ROI center.\n",
      "    \n",
      "    minmax_ts : list\n",
      "        Select sources that have TS in the range [min,max].  If\n",
      "        either min or max are None then only a lower (upper) bound\n",
      "        will be applied.  If this parameter is none no selection\n",
      "        will be applied.\n",
      "    \n",
      "    minmax_npred : list\n",
      "        Select sources that have npred in the range [min,max].  If\n",
      "        either min or max are None then only a lower (upper) bound\n",
      "        will be applied.  If this parameter is none no selection\n",
      "        will be applied.\n",
      "    \n",
      "    square : bool\n",
      "        Switch between applying a circular or square (ROI-like)\n",
      "        selection on the maximum projected distance from the ROI\n",
      "        center.\n",
      "    \n",
      "    names : list            \n",
      "        Select sources matching a name in this list.\n",
      "    \n",
      "    Returns\n",
      "    -------\n",
      "    srcs : list\n",
      "        A list of `~fermipy.roi_model.Model` objects.\n",
      "\n"
     ]
    }
   ],
   "source": [
    "help(gta.delete_sources)"
   ]
  },
  {
   "cell_type": "markdown",
   "metadata": {},
   "source": [
    "In the example below we delete all the sources that have an npred=[0,500]"
   ]
  },
  {
   "cell_type": "code",
   "execution_count": 20,
   "metadata": {},
   "outputs": [
    {
     "name": "stderr",
     "output_type": "stream",
     "text": [
      "2024-06-19 15:01:27 INFO    GTAnalysis.delete_source(): Deleting source 3FGL J0112.9-7506\n",
      "2024-06-19 15:01:27 INFO    GTAnalysis.delete_source(): Deleting source 3FGL J0029.1-7045\n",
      "2024-06-19 15:01:27 INFO    GTAnalysis.delete_source(): Deleting source 3FGL J2351.9-7601\n",
      "2024-06-19 15:01:27 INFO    GTAnalysis.delete_source(): Deleting source 3FGL J2338.7-7401\n",
      "2024-06-19 15:01:28 INFO    GTAnalysis.delete_source(): Deleting source 3FGL J0146.4-6746\n",
      "2024-06-19 15:01:28 INFO    GTAnalysis.delete_source(): Deleting source 3FGL J2336.5-7620\n",
      "2024-06-19 15:01:28 INFO    GTAnalysis.delete_source(): Deleting source 3FGL J0002.0-6722\n",
      "2024-06-19 15:01:28 INFO    GTAnalysis.print_model(): \n",
      "sourcename            offset    norm  eflux     index        ts       npred free\n",
      "--------------------------------------------------------------------------------\n",
      "3FGL J0059.0-7242e     0.088   1.354  1.02e-05   2.46    631.43      1387.2    *\n",
      "3FGL J0023.9-7203      2.654   0.582  9.37e-06   2.69   5334.39      1799.9    *\n",
      "isodiff                  ---   0.684    0.0214   2.12    713.57      6220.2    *\n",
      "galdiff                  ---   1.094     0.134   0.05   7041.53     17811.3    *\n",
      "\n"
     ]
    }
   ],
   "source": [
    "gta.delete_sources(minmax_npred=[0,500])\n",
    "gta.print_model()"
   ]
  },
  {
   "cell_type": "markdown",
   "metadata": {},
   "source": [
    "We can aldo add a new source in the model using the gta.add_source function."
   ]
  },
  {
   "cell_type": "code",
   "execution_count": 21,
   "metadata": {},
   "outputs": [
    {
     "name": "stdout",
     "output_type": "stream",
     "text": [
      "Help on method add_source in module fermipy.gtanalysis:\n",
      "\n",
      "add_source(name, src_dict, free=None, init_source=True, save_source_maps=True, use_pylike=True, use_single_psf=False, **kwargs) method of fermipy.gtanalysis.GTAnalysis instance\n",
      "    Add a source to the ROI model.  This function may be called\n",
      "    either before or after `~fermipy.gtanalysis.GTAnalysis.setup`.\n",
      "    \n",
      "    Parameters\n",
      "    ----------\n",
      "    name : str\n",
      "        Source name.\n",
      "    \n",
      "    src_dict : dict or `~fermipy.roi_model.Source` object\n",
      "        Dictionary or source object defining the source properties\n",
      "        (coordinates, spectral parameters, etc.).\n",
      "    \n",
      "    free : bool\n",
      "        Initialize the source with a free normalization parameter.\n",
      "    \n",
      "    use_pylike : bool\n",
      "        Create source maps with pyLikelihood.\n",
      "    \n",
      "    use_single_psf : bool \n",
      "        Use the PSF model calculated for the ROI center.  If false\n",
      "        then a new model will be generated using the position of\n",
      "        the source.\n",
      "\n"
     ]
    }
   ],
   "source": [
    "help(gta.add_source)"
   ]
  },
  {
   "cell_type": "markdown",
   "metadata": {},
   "source": [
    "In the example below we add a Source called Source_PL with a PLSuperExpCutoff and pointlike and a source called Source_Gauss that is spatial extended with a PowerLaw SED and with a RadialGaussian template with an extension of 1 deg."
   ]
  },
  {
   "cell_type": "code",
   "execution_count": 22,
   "metadata": {},
   "outputs": [
    {
     "name": "stderr",
     "output_type": "stream",
     "text": [
      "2024-06-19 15:01:28 INFO    GTAnalysis.add_source(): Adding source Source_PL\n",
      "2024-06-19 15:01:29 INFO    GTAnalysis.add_source(): Adding source Source_Gauss\n",
      "2024-06-19 15:01:39 INFO    GTAnalysis.print_model(): \n",
      "sourcename            offset    norm  eflux     index        ts       npred free\n",
      "--------------------------------------------------------------------------------\n",
      "3FGL J0059.0-7242e     0.088   1.354  1.02e-05   2.46    631.43      1387.2    *\n",
      "Source_Gauss           0.655   1.000   0.00621   2.00       nan    427843.4    *\n",
      "Source_PL              2.274   1.000   0.00319   4.00       nan    483408.5    *\n",
      "3FGL J0023.9-7203      2.654   0.582  9.37e-06   2.69   5334.39      1799.9    *\n",
      "isodiff                  ---   0.684    0.0214   2.12    713.57      6220.2    *\n",
      "galdiff                  ---   1.094     0.134   0.05   7041.53     17811.3    *\n",
      "\n"
     ]
    }
   ],
   "source": [
    "gta.add_source('Source_PL',{ 'glon' : 300., 'glat' : -46.,'SpectrumType' : 'PLSuperExpCutoff', 'Index1':-1.5, 'Index2' : 1.0,'Scale' : 1000,'Prefactor':1e-9,'SpatialModel' : 'PointSource' })\n",
    "gta.add_source('Source_Gauss',{ 'glon' : 302., 'glat' : -45.,'SpectrumType' : 'PowerLaw', 'Index':2.0,'Scale' : 1000,'Prefactor':1e-9,'SpatialModel' : 'RadialGaussian', 'SpatialWidth': 1.0 })\n",
    "gta.print_model()"
   ]
  },
  {
   "cell_type": "markdown",
   "metadata": {},
   "source": [
    "Now I load the model saved into model_test to have back the intial model."
   ]
  },
  {
   "cell_type": "code",
   "execution_count": 23,
   "metadata": {},
   "outputs": [
    {
     "name": "stderr",
     "output_type": "stream",
     "text": [
      "2024-06-19 15:01:39 INFO    GTAnalysis.load_roi(): Loading ROI file: /home/pmarinos/Documents/fermipyextra_branches/fermipy-extra/notebooks/SMC_data/model_test.npy\n",
      "2024-06-19 15:01:39 INFO    GTBinnedAnalysis._create_binned_analysis(): Creating BinnedAnalysis for component 00.\n",
      "2024-06-19 15:01:51 INFO    GTAnalysis.load_roi(): Finished Loading ROI\n",
      "2024-06-19 15:01:51 INFO    GTAnalysis.print_model(): \n",
      "sourcename            offset    norm  eflux     index        ts       npred free\n",
      "--------------------------------------------------------------------------------\n",
      "3FGL J0059.0-7242e     0.088   1.354  1.02e-05   2.46    631.43      1387.2    *\n",
      "3FGL J0112.9-7506      2.572   1.133  2.16e-06   1.95    145.27       129.2    *\n",
      "3FGL J0023.9-7203      2.654   0.582  9.37e-06   2.69   5334.39      1799.9    *\n",
      "3FGL J0029.1-7045      3.008   0.458  2.07e-06   2.33    269.77       239.2    *\n",
      "3FGL J0021.6-6835      5.122   2.618  2.57e-07   3.29     16.47        57.1    *\n",
      "3FGL J2351.9-7601      5.495   1.404  2.85e-06   2.01    243.25       192.1    *\n",
      "3FGL J2338.7-7401      5.777   0.598  2.91e-06   2.02    294.33       187.1    *\n",
      "3FGL J0146.4-6746      6.423   0.664  1.76e-06   2.35    256.39       201.6    *\n",
      "3FGL J2336.5-7620      6.454   0.392  1.28e-06   2.29    112.83       135.9    *\n",
      "3FGL J0002.0-6722      7.153   0.409  1.63e-06   1.98     94.14        95.4    *\n",
      "isodiff                  ---   0.684    0.0214   2.12    713.57      6220.2    *\n",
      "galdiff                  ---   1.094     0.134   0.05   7041.53     17811.3    *\n",
      "\n"
     ]
    }
   ],
   "source": [
    "gta.load_roi('model_test')\n",
    "gta.print_model()"
   ]
  },
  {
   "cell_type": "markdown",
   "metadata": {},
   "source": [
    "It is also possible to modify the SED parameters using the functions gta.set_norm, gta.set_parameter, gta.set_parameter_bounds, gta.set_parameter_error ."
   ]
  },
  {
   "cell_type": "code",
   "execution_count": 24,
   "metadata": {},
   "outputs": [
    {
     "name": "stdout",
     "output_type": "stream",
     "text": [
      "Help on method set_norm in module fermipy.gtanalysis:\n",
      "\n",
      "set_norm(name, value, update_source=True) method of fermipy.gtanalysis.GTAnalysis instance\n",
      "\n",
      "Help on method set_parameter in module fermipy.gtanalysis:\n",
      "\n",
      "set_parameter(name, par, value, true_value=True, scale=None, bounds=None, error=None, update_source=True) method of fermipy.gtanalysis.GTAnalysis instance\n",
      "    Update the value of a parameter.  Parameter bounds will\n",
      "    automatically be adjusted to encompass the new parameter\n",
      "    value.\n",
      "    \n",
      "    Parameters\n",
      "    ----------\n",
      "    \n",
      "    name : str\n",
      "        Source name.\n",
      "    \n",
      "    par : str\n",
      "        Parameter name.\n",
      "    \n",
      "    value : float\n",
      "        Parameter value.  By default this argument should be the\n",
      "        unscaled (True) parameter value.\n",
      "    \n",
      "    scale : float\n",
      "        Parameter scale (optional).  Value argument is interpreted\n",
      "        with respect to the scale parameter if it is provided.\n",
      "    \n",
      "    error : float\n",
      "        Parameter error (optional).  By default this argument should be the\n",
      "        unscaled (True) parameter value.\n",
      "    \n",
      "    update_source : bool\n",
      "        Update the source dictionary for the object.\n",
      "\n"
     ]
    }
   ],
   "source": [
    "help(gta.set_norm)\n",
    "help(gta.set_parameter)"
   ]
  },
  {
   "cell_type": "code",
   "execution_count": 25,
   "metadata": {},
   "outputs": [
    {
     "name": "stdout",
     "output_type": "stream",
     "text": [
      "[b'Prefactor' b'Index' b'Scale' b'' b'' b'' b'' b'' b'' b'']\n",
      "[ 1.35369200e-11 -2.45898536e+00  6.65532043e+02             nan\n",
      "             nan             nan             nan             nan\n",
      "             nan             nan]\n",
      "[ 1.14134479e-12 -6.10685033e-02             nan             nan\n",
      "             nan             nan             nan             nan\n",
      "             nan             nan]\n"
     ]
    }
   ],
   "source": [
    "print(gta.roi['3FGL J0059.0-7242e']['param_names'])\n",
    "print(gta.roi['3FGL J0059.0-7242e']['param_values'])\n",
    "print(gta.roi['3FGL J0059.0-7242e']['param_errors'])"
   ]
  },
  {
   "cell_type": "markdown",
   "metadata": {},
   "source": [
    "In the example below we fix the normalization to 1e-11 and the slope to 2.0."
   ]
  },
  {
   "cell_type": "code",
   "execution_count": 26,
   "metadata": {},
   "outputs": [
    {
     "name": "stderr",
     "output_type": "stream",
     "text": [
      "/home/pmarinos/miniforge3/envs/fermipy/lib/python3.9/site-packages/scipy/interpolate/_fitpack2.py:313: UserWarning: \n",
      "The maximal number of iterations maxit (set to 20 by the program)\n",
      "allowed for finding a smoothing spline with fp=s has been reached: s\n",
      "too small.\n",
      "There is an approximation returned but the corresponding weighted sum\n",
      "of squared residuals does not satisfy the condition abs(fp-s)/s < tol.\n",
      "  warnings.warn(message)\n"
     ]
    },
    {
     "name": "stdout",
     "output_type": "stream",
     "text": [
      "[b'Prefactor' b'Index' b'Scale' b'' b'' b'' b'' b'' b'' b'']\n",
      "[1.00000000e-11 2.00000000e+00 6.65532043e+02            nan\n",
      "            nan            nan            nan            nan\n",
      "            nan            nan]\n",
      "[ 0.  0. nan nan nan nan nan nan nan nan]\n"
     ]
    }
   ],
   "source": [
    "gta.set_norm('3FGL J0059.0-7242e',value=1.)\n",
    "gta.set_parameter('3FGL J0059.0-7242e',par='Index',value=2.0)\n",
    "print(gta.roi['3FGL J0059.0-7242e']['param_names'])\n",
    "print(gta.roi['3FGL J0059.0-7242e']['param_values'])\n",
    "print(gta.roi['3FGL J0059.0-7242e']['param_errors'])"
   ]
  },
  {
   "cell_type": "markdown",
   "metadata": {},
   "source": [
    "It is also possible to set the SED shape of a source using gta.set_source_spectrum tool."
   ]
  },
  {
   "cell_type": "code",
   "execution_count": 27,
   "metadata": {},
   "outputs": [
    {
     "name": "stdout",
     "output_type": "stream",
     "text": [
      "Help on method set_source_spectrum in module fermipy.gtanalysis:\n",
      "\n",
      "set_source_spectrum(name, spectrum_type='PowerLaw', spectrum_pars=None, update_source=True) method of fermipy.gtanalysis.GTAnalysis instance\n",
      "    Set the spectral model of a source.  This function can be\n",
      "    used to change the spectral type of a source or modify its\n",
      "    spectral parameters.  If called with\n",
      "    spectrum_type='FileFunction' and spectrum_pars=None, the\n",
      "    source spectrum will be replaced with a FileFunction with the\n",
      "    same differential flux distribution as the original spectrum.\n",
      "    \n",
      "    Parameters\n",
      "    ----------\n",
      "    \n",
      "    name : str\n",
      "       Source name.\n",
      "    \n",
      "    spectrum_type : str\n",
      "       Spectrum type (PowerLaw, etc.).\n",
      "    \n",
      "    spectrum_pars : dict\n",
      "       Dictionary of spectral parameters (optional).\n",
      "    \n",
      "    update_source : bool\n",
      "       Recompute all source characteristics (flux, TS, NPred)\n",
      "       using the new spectral model of the source.\n",
      "\n"
     ]
    }
   ],
   "source": [
    "help(gta.set_source_spectrum)"
   ]
  },
  {
   "cell_type": "code",
   "execution_count": 28,
   "metadata": {},
   "outputs": [
    {
     "name": "stderr",
     "output_type": "stream",
     "text": [
      "2024-06-19 15:01:52 INFO    GTAnalysis.load_roi(): Loading ROI file: /home/pmarinos/Documents/fermipyextra_branches/fermipy-extra/notebooks/SMC_data/model_test.npy\n",
      "2024-06-19 15:01:52 INFO    GTBinnedAnalysis._create_binned_analysis(): Creating BinnedAnalysis for component 00.\n",
      "2024-06-19 15:02:03 INFO    GTAnalysis.load_roi(): Finished Loading ROI\n",
      "2024-06-19 15:02:03 INFO    GTAnalysis.print_model(): \n",
      "sourcename            offset    norm  eflux     index        ts       npred free\n",
      "--------------------------------------------------------------------------------\n",
      "3FGL J0059.0-7242e     0.088   1.354  1.02e-05   2.46    631.43      1387.2    *\n",
      "3FGL J0112.9-7506      2.572   1.133  2.16e-06   1.95    145.27       129.2    *\n",
      "3FGL J0023.9-7203      2.654   0.582  9.37e-06   2.69   5334.39      1799.9    *\n",
      "3FGL J0029.1-7045      3.008   0.458  2.07e-06   2.33    269.77       239.2    *\n",
      "3FGL J0021.6-6835      5.122   2.618  2.57e-07   3.29     16.47        57.1    *\n",
      "3FGL J2351.9-7601      5.495   1.404  2.85e-06   2.01    243.25       192.1    *\n",
      "3FGL J2338.7-7401      5.777   0.598  2.91e-06   2.02    294.33       187.1    *\n",
      "3FGL J0146.4-6746      6.423   0.664  1.76e-06   2.35    256.39       201.6    *\n",
      "3FGL J2336.5-7620      6.454   0.392  1.28e-06   2.29    112.83       135.9    *\n",
      "3FGL J0002.0-6722      7.153   0.409  1.63e-06   1.98     94.14        95.4    *\n",
      "isodiff                  ---   0.684    0.0214   2.12    713.57      6220.2    *\n",
      "galdiff                  ---   1.094     0.134   0.05   7041.53     17811.3    *\n",
      "\n"
     ]
    },
    {
     "data": {
      "text/plain": [
       "'PowerLaw'"
      ]
     },
     "execution_count": 28,
     "metadata": {},
     "output_type": "execute_result"
    }
   ],
   "source": [
    "gta.load_roi('model_test')\n",
    "gta.print_model()\n",
    "gta.roi['3FGL J0059.0-7242e']['SpectrumType']"
   ]
  },
  {
   "cell_type": "code",
   "execution_count": 29,
   "metadata": {},
   "outputs": [
    {
     "data": {
      "text/plain": [
       "'LogParabola'"
      ]
     },
     "execution_count": 29,
     "metadata": {},
     "output_type": "execute_result"
    }
   ],
   "source": [
    "gta.set_source_spectrum('3FGL J0059.0-7242e',spectrum_type='LogParabola')\n",
    "gta.roi['3FGL J0059.0-7242e']['SpectrumType']"
   ]
  },
  {
   "cell_type": "code",
   "execution_count": 30,
   "metadata": {},
   "outputs": [
    {
     "name": "stderr",
     "output_type": "stream",
     "text": [
      "2024-06-19 15:02:03 INFO    GTAnalysis.fit(): Starting fit.\n",
      "/home/pmarinos/miniforge3/envs/fermipy/lib/python3.9/site-packages/scipy/interpolate/_fitpack2.py:313: UserWarning: \n",
      "The maximal number of iterations maxit (set to 20 by the program)\n",
      "allowed for finding a smoothing spline with fp=s has been reached: s\n",
      "too small.\n",
      "There is an approximation returned but the corresponding weighted sum\n",
      "of squared residuals does not satisfy the condition abs(fp-s)/s < tol.\n",
      "  warnings.warn(message)\n",
      "2024-06-19 15:02:20 INFO    GTAnalysis.fit(): Fit returned successfully. Quality:   3 Status:   0\n",
      "2024-06-19 15:02:20 INFO    GTAnalysis.fit(): LogLike:   -73810.277 DeltaLogLike:        1.496 \n"
     ]
    },
    {
     "data": {
      "text/plain": [
       "{'fit_quality': 3,\n",
       " 'fit_status': 0,\n",
       " 'fit_success': True,\n",
       " 'dloglike': 1.4957104662171332,\n",
       " 'edm': 0.0002737288306790137,\n",
       " 'loglike': -73810.2766362843,\n",
       " 'covariance': array([[ 4.98472221e-03,  4.07309770e-03, -2.59345429e-04,\n",
       "         -5.94236734e-05,  1.76867482e-05,  3.73534965e-05,\n",
       "         -1.20580539e-05,  1.69904309e-05,  1.31490752e-05,\n",
       "          9.48748860e-05,  1.01760475e-05,  4.96389844e-05,\n",
       "          1.55699316e-05,  4.74383967e-05,  2.57851299e-05,\n",
       "          2.75641619e-05,  2.82831464e-05,  2.24003963e-05,\n",
       "          1.78590923e-05,  3.26269220e-05,  1.88823228e-05,\n",
       "         -1.86689730e-05, -3.89211404e-05, -1.07173340e-04],\n",
       "        [ 4.07309770e-03,  1.88514622e-02, -5.02534281e-04,\n",
       "         -7.82615159e-05,  2.37935173e-05,  4.83789774e-05,\n",
       "         -1.25390143e-05,  2.10853834e-05,  2.71423543e-05,\n",
       "          1.76468436e-04,  6.24390987e-05,  7.45044448e-05,\n",
       "          3.38130799e-05,  4.83013956e-05,  3.62132039e-05,\n",
       "          4.90421708e-05,  6.45280953e-05,  2.30274827e-05,\n",
       "          2.98059651e-05,  2.67024289e-05,  3.92313154e-05,\n",
       "         -9.21337416e-05, -8.08303471e-05, -2.55245445e-05],\n",
       "        [-2.59345429e-04, -5.02534281e-04,  2.48164167e+00,\n",
       "          6.90920380e-01,  2.95582539e-04,  6.42433814e-04,\n",
       "         -1.74336956e-04, -3.84564345e-04, -5.19633682e-04,\n",
       "          2.59355780e-03,  9.67456947e-04,  7.61016814e-04,\n",
       "          4.26305901e-04,  1.09389723e-03,  7.55571803e-04,\n",
       "          5.91526457e-04,  8.99158478e-04,  3.94596465e-04,\n",
       "          4.80945158e-04,  2.29951866e-04,  5.39993902e-04,\n",
       "         -7.60627971e-04, -2.09636472e-03, -2.63469660e-03],\n",
       "        [-5.94236734e-05, -7.82615159e-05,  6.90920380e-01,\n",
       "          2.49671744e-01,  3.69026507e-05,  8.48361073e-05,\n",
       "         -1.66381654e-05, -7.20710787e-05, -8.57826632e-05,\n",
       "          3.99707792e-04,  2.49923764e-04,  2.22943016e-05,\n",
       "          6.24986142e-05,  1.33356806e-04,  1.20165775e-04,\n",
       "          6.27892668e-05,  1.51052783e-04,  2.63964980e-05,\n",
       "          7.02115135e-05, -6.45081372e-05,  8.30783494e-05,\n",
       "         -1.46637921e-04, -4.65452247e-04, -3.54319084e-04],\n",
       "        [ 1.76867482e-05,  2.37935173e-05,  2.95582539e-04,\n",
       "          3.69026507e-05,  2.98369125e-03,  9.26963337e-03,\n",
       "         -3.41560784e-03, -1.46827835e-04, -2.03193387e-04,\n",
       "         -1.44149962e-04, -5.33546749e-05,  3.14112824e-05,\n",
       "          1.66118990e-05,  4.06096235e-05,  2.75421783e-05,\n",
       "          1.87702654e-05,  2.89625630e-05,  8.81865469e-06,\n",
       "          9.55436437e-06,  5.66676884e-06,  1.51919280e-05,\n",
       "         -2.32217755e-05, -7.64997602e-05, -1.04274033e-04],\n",
       "        [ 3.73534965e-05,  4.83789774e-05,  6.42433814e-04,\n",
       "          8.48361073e-05,  9.26963337e-03,  3.44805559e-02,\n",
       "         -1.40190358e-02, -2.88532225e-04, -4.60809840e-04,\n",
       "         -3.24500339e-04, -1.35191608e-04,  2.51139026e-05,\n",
       "          2.47121149e-05,  9.76566821e-05,  6.59366117e-05,\n",
       "          2.21210984e-05,  4.90225444e-05,  1.56155282e-05,\n",
       "          1.65423990e-05, -9.21558625e-06,  2.34268605e-05,\n",
       "         -3.68492831e-06, -2.13616719e-04, -3.41533706e-04],\n",
       "        [-1.20580539e-05, -1.25390143e-05, -1.74336956e-04,\n",
       "         -1.66381654e-05, -3.41560784e-03, -1.40190358e-02,\n",
       "          6.27425584e-03,  7.96117463e-05,  1.33213969e-04,\n",
       "          9.68871810e-05,  4.17556194e-05, -8.25872641e-08,\n",
       "         -3.87364612e-06, -3.17118965e-05, -1.98730671e-05,\n",
       "         -2.14204714e-06, -8.84152150e-06, -4.80601418e-06,\n",
       "         -3.36457175e-06,  3.77244090e-06, -3.61625115e-06,\n",
       "         -1.42163061e-05,  6.55660449e-05,  1.31111742e-04],\n",
       "        [ 1.69904309e-05,  2.10853834e-05, -3.84564345e-04,\n",
       "         -7.20710787e-05, -1.46827835e-04, -2.88532225e-04,\n",
       "          7.96117463e-05,  3.31457786e-03,  4.08070272e-03,\n",
       "         -2.74633272e-06, -4.18037075e-06,  5.28108313e-05,\n",
       "          1.99206247e-05,  3.25377607e-05,  2.07597328e-05,\n",
       "          2.87541932e-05,  3.34072121e-05,  1.62778181e-05,\n",
       "          1.66051597e-05,  2.38925430e-05,  2.10347741e-05,\n",
       "         -4.30213973e-05, -3.52671714e-05, -3.49503182e-05],\n",
       "        [ 1.31490752e-05,  2.71423543e-05, -5.19633682e-04,\n",
       "         -8.57826632e-05, -2.03193387e-04, -4.60809840e-04,\n",
       "          1.33213969e-04,  4.08070272e-03,  1.17818445e-02,\n",
       "          3.04124644e-06,  6.95663924e-06,  5.12891184e-05,\n",
       "          2.63338382e-05,  3.18859449e-05,  2.64849824e-05,\n",
       "          3.34348766e-05,  4.81302254e-05,  1.35667720e-05,\n",
       "          2.09994599e-05,  1.10752676e-05,  2.85494644e-05,\n",
       "         -7.02266905e-05, -7.06014142e-05, -1.29103587e-05],\n",
       "        [ 9.48748860e-05,  1.76468436e-04,  2.59355780e-03,\n",
       "          3.99707792e-04, -1.44149962e-04, -3.24500339e-04,\n",
       "          9.68871810e-05, -2.74633272e-06,  3.04124644e-06,\n",
       "          1.30059330e-02,  5.76743474e-03, -1.42044677e-04,\n",
       "         -5.66229842e-05,  1.61948311e-04,  1.31647853e-04,\n",
       "          2.17393411e-04,  2.81938604e-04,  8.71999356e-05,\n",
       "          1.21558963e-04,  1.11496345e-04,  1.67367002e-04,\n",
       "         -4.56450129e-04, -2.83626434e-04,  1.08827326e-04],\n",
       "        [ 1.01760475e-05,  6.24390987e-05,  9.67456947e-04,\n",
       "          2.49923764e-04, -5.33546749e-05, -1.35191608e-04,\n",
       "          4.17556194e-05, -4.18037075e-06,  6.95663924e-06,\n",
       "          5.76743474e-03,  3.73264544e-03, -3.74985474e-05,\n",
       "         -1.41891302e-05,  3.56081563e-05,  4.91489290e-05,\n",
       "          6.32512307e-05,  1.11215000e-04,  1.07780263e-05,\n",
       "          4.19978025e-05, -1.84619279e-05,  6.16513143e-05,\n",
       "         -1.88844500e-04, -1.84622196e-04,  8.59135697e-05],\n",
       "        [ 4.96389844e-05,  7.45044448e-05,  7.61016814e-04,\n",
       "          2.22943016e-05,  3.14112824e-05,  2.51139026e-05,\n",
       "         -8.25872641e-08,  5.28108313e-05,  5.12891184e-05,\n",
       "         -1.42044677e-04, -3.74985474e-05,  3.73077355e-02,\n",
       "          1.32902825e-02,  5.16830429e-05,  3.61746033e-05,\n",
       "          1.31715027e-04,  1.32983967e-04,  5.22578242e-05,\n",
       "          5.50856596e-05,  1.20555830e-04,  8.36812656e-05,\n",
       "         -2.69943749e-04,  4.01543436e-05,  2.85645086e-04],\n",
       "        [ 1.55699316e-05,  3.38130799e-05,  4.26305901e-04,\n",
       "          6.24986142e-05,  1.66118990e-05,  2.47121149e-05,\n",
       "         -3.87364612e-06,  1.99206247e-05,  2.63338382e-05,\n",
       "         -5.66229842e-05, -1.41891302e-05,  1.32902825e-02,\n",
       "          1.22854538e-02,  2.17509497e-05,  2.06182708e-05,\n",
       "          4.95888459e-05,  6.03845428e-05,  1.65268764e-05,\n",
       "          2.41899443e-05,  2.87096281e-05,  3.62192377e-05,\n",
       "         -1.14897192e-04, -2.88348505e-05,  9.80504668e-05],\n",
       "        [ 4.74383967e-05,  4.83013956e-05,  1.09389723e-03,\n",
       "          1.33356806e-04,  4.06096235e-05,  9.76566821e-05,\n",
       "         -3.17118965e-05,  3.25377607e-05,  3.18859449e-05,\n",
       "          1.61948311e-04,  3.56081563e-05,  5.16830429e-05,\n",
       "          2.17509497e-05,  9.37948894e-03,  8.09952353e-03,\n",
       "          3.53459042e-05,  4.65485050e-05,  3.56563984e-05,\n",
       "          3.18535327e-05,  3.18307665e-05,  2.97061248e-05,\n",
       "         -4.73754889e-06, -1.32132231e-04, -2.87886677e-04],\n",
       "        [ 2.57851299e-05,  3.62132039e-05,  7.55571803e-04,\n",
       "          1.20165775e-04,  2.75421783e-05,  6.59366117e-05,\n",
       "         -1.98730671e-05,  2.07597328e-05,  2.64849824e-05,\n",
       "          1.31647853e-04,  4.91489290e-05,  3.61746033e-05,\n",
       "          2.06182708e-05,  8.09952353e-03,  1.31251201e-02,\n",
       "          2.87573362e-05,  4.41057247e-05,  1.98552135e-05,\n",
       "          2.40938115e-05,  1.09705384e-05,  2.65111456e-05,\n",
       "         -3.54135739e-05, -1.05767082e-04, -1.36843108e-04],\n",
       "        [ 2.75641619e-05,  4.90421708e-05,  5.91526457e-04,\n",
       "          6.27892668e-05,  1.87702654e-05,  2.21210984e-05,\n",
       "         -2.14204714e-06,  2.87541932e-05,  3.34348766e-05,\n",
       "          2.17393411e-04,  6.32512307e-05,  1.31715027e-04,\n",
       "          4.95888459e-05,  3.53459042e-05,  2.87573362e-05,\n",
       "          7.11162568e-03,  9.58185397e-03, -4.88640954e-06,\n",
       "         -2.81968044e-06, -4.90734849e-04, -4.53493444e-04,\n",
       "         -1.64162209e-04, -1.93902150e-05,  1.41559033e-04],\n",
       "        [ 2.82831464e-05,  6.45280953e-05,  8.99158478e-04,\n",
       "          1.51052783e-04,  2.89625630e-05,  4.90225444e-05,\n",
       "         -8.84152150e-06,  3.34072121e-05,  4.81302254e-05,\n",
       "          2.81938604e-04,  1.11215000e-04,  1.32983967e-04,\n",
       "          6.03845428e-05,  4.65485050e-05,  4.41057247e-05,\n",
       "          9.58185397e-03,  2.27373184e-02, -8.65604993e-06,\n",
       "         -1.91398727e-06, -4.30444695e-04, -5.67205755e-04,\n",
       "         -2.00651911e-04, -8.87401984e-05,  1.30865863e-04],\n",
       "        [ 2.24003963e-05,  2.30274827e-05,  3.94596465e-04,\n",
       "          2.63964980e-05,  8.81865469e-06,  1.56155282e-05,\n",
       "         -4.80601418e-06,  1.62778181e-05,  1.35667720e-05,\n",
       "          8.71999356e-05,  1.07780263e-05,  5.22578242e-05,\n",
       "          1.65268764e-05,  3.56563984e-05,  1.98552135e-05,\n",
       "         -4.88640954e-06, -8.65604993e-06,  3.90111896e-03,\n",
       "          1.49112887e-03, -1.06787005e-05, -1.49122782e-05,\n",
       "         -3.32472224e-05, -2.15481596e-05, -4.87983289e-05],\n",
       "        [ 1.78590923e-05,  2.98059651e-05,  4.80945158e-04,\n",
       "          7.02115135e-05,  9.55436437e-06,  1.65423990e-05,\n",
       "         -3.36457175e-06,  1.66051597e-05,  2.09994599e-05,\n",
       "          1.21558963e-04,  4.19978025e-05,  5.50856596e-05,\n",
       "          2.41899443e-05,  3.18535327e-05,  2.40938115e-05,\n",
       "         -2.81968044e-06, -1.91398727e-06,  1.49112887e-03,\n",
       "          8.62196941e-03, -1.64123457e-05, -1.34072872e-05,\n",
       "         -6.88937231e-05, -5.00835417e-05, -3.36672896e-06],\n",
       "        [ 3.26269220e-05,  2.67024289e-05,  2.29951866e-04,\n",
       "         -6.45081372e-05,  5.66676884e-06, -9.21558625e-06,\n",
       "          3.77244090e-06,  2.38925430e-05,  1.10752676e-05,\n",
       "          1.11496345e-04, -1.84619279e-05,  1.20555830e-04,\n",
       "          2.87096281e-05,  3.18307665e-05,  1.09705384e-05,\n",
       "         -4.90734849e-04, -4.30444695e-04, -1.06787005e-05,\n",
       "         -1.64123457e-05,  2.55693372e-02, -5.24358061e-03,\n",
       "         -8.15629616e-05,  7.06546639e-05,  7.83282873e-05],\n",
       "        [ 1.88823228e-05,  3.92313154e-05,  5.39993902e-04,\n",
       "          8.30783494e-05,  1.51919280e-05,  2.34268605e-05,\n",
       "         -3.61625115e-06,  2.10347741e-05,  2.85494644e-05,\n",
       "          1.67367002e-04,  6.16513143e-05,  8.36812656e-05,\n",
       "          3.62192377e-05,  2.97061248e-05,  2.65111456e-05,\n",
       "         -4.53493444e-04, -5.67205755e-04, -1.49122782e-05,\n",
       "         -1.34072872e-05, -5.24358061e-03,  9.82190008e-03,\n",
       "         -1.20678387e-04, -4.70555316e-05,  7.79162660e-05],\n",
       "        [-1.86689730e-05, -9.21337416e-05, -7.60627971e-04,\n",
       "         -1.46637921e-04, -2.32217755e-05, -3.68492831e-06,\n",
       "         -1.42163061e-05, -4.30213973e-05, -7.02266905e-05,\n",
       "         -4.56450129e-04, -1.88844500e-04, -2.69943749e-04,\n",
       "         -1.14897192e-04, -4.73754889e-06, -3.54135739e-05,\n",
       "         -1.64162209e-04, -2.00651911e-04, -3.32472224e-05,\n",
       "         -6.88937231e-05, -8.15629616e-05, -1.20678387e-04,\n",
       "          4.48049921e-04,  1.41843191e-05, -6.26288620e-04],\n",
       "        [-3.89211404e-05, -8.08303471e-05, -2.09636472e-03,\n",
       "         -4.65452247e-04, -7.64997602e-05, -2.13616719e-04,\n",
       "          6.55660449e-05, -3.52671714e-05, -7.06014142e-05,\n",
       "         -2.83626434e-04, -1.84622196e-04,  4.01543436e-05,\n",
       "         -2.88348505e-05, -1.32132231e-04, -1.05767082e-04,\n",
       "         -1.93902150e-05, -8.87401984e-05, -2.15481596e-05,\n",
       "         -5.00835417e-05,  7.06546639e-05, -4.70555316e-05,\n",
       "          1.41843191e-05,  4.23667858e-04,  5.18220141e-04],\n",
       "        [-1.07173340e-04, -2.55245445e-05, -2.63469660e-03,\n",
       "         -3.54319084e-04, -1.04274033e-04, -3.41533706e-04,\n",
       "          1.31111742e-04, -3.49503182e-05, -1.29103587e-05,\n",
       "          1.08827326e-04,  8.59135697e-05,  2.85645086e-04,\n",
       "          9.80504668e-05, -2.87886677e-04, -1.36843108e-04,\n",
       "          1.41559033e-04,  1.30865863e-04, -4.87983289e-05,\n",
       "         -3.36672896e-06,  7.83282873e-05,  7.79162660e-05,\n",
       "         -6.26288620e-04,  5.18220141e-04,  1.86268873e-03]]),\n",
       " 'correlation': array([[ 1.00000000e+00,  4.20176565e-01, -2.33178541e-03,\n",
       "         -1.68443523e-03,  4.58617446e-03,  2.84920469e-03,\n",
       "         -2.15613341e-03,  4.17993761e-03,  1.71580563e-03,\n",
       "          1.17831127e-02,  2.35912131e-03,  3.64001323e-03,\n",
       "          1.98962222e-03,  6.93777059e-03,  3.18784503e-03,\n",
       "          4.62956160e-03,  2.65667005e-03,  5.07972993e-03,\n",
       "          2.72417914e-03,  2.88998700e-03,  2.69859171e-03,\n",
       "         -1.24921372e-02, -2.67825743e-02, -3.51719253e-02],\n",
       "        [ 4.20176565e-01,  1.00000000e+00, -2.32339813e-03,\n",
       "         -1.14075147e-03,  3.17255519e-03,  1.89756663e-03,\n",
       "         -1.15294812e-03,  2.66744129e-03,  1.82124492e-03,\n",
       "          1.12699959e-02,  7.44347502e-03,  2.80937826e-03,\n",
       "          2.22185958e-03,  3.63243265e-03,  2.30219860e-03,\n",
       "          4.23557835e-03,  3.11678398e-03,  2.68521674e-03,\n",
       "          2.33790806e-03,  1.21623784e-03,  2.88311917e-03,\n",
       "         -3.17017317e-02, -2.86015233e-02, -4.30740131e-03],\n",
       "        [-2.33178541e-03, -2.32339813e-03,  1.00000000e+00,\n",
       "          8.77755924e-01,  3.43504396e-03,  2.19619918e-03,\n",
       "         -1.39713641e-03, -4.24019049e-03, -3.03893293e-03,\n",
       "          1.44362914e-02,  1.00520292e-02,  2.50106668e-03,\n",
       "          2.44149707e-03,  7.16997097e-03,  4.18653343e-03,\n",
       "          4.45266675e-03,  3.78527194e-03,  4.01041261e-03,\n",
       "          3.28793166e-03,  9.12867333e-04,  3.45876904e-03,\n",
       "         -2.28107494e-02, -6.46523846e-02, -3.87517154e-02],\n",
       "        [-1.68443523e-03, -1.14075147e-03,  8.77755924e-01,\n",
       "          1.00000000e+00,  1.35205987e-03,  9.14342497e-04,\n",
       "         -4.20377660e-04, -2.50531427e-03, -1.58164199e-03,\n",
       "          7.01434559e-03,  8.18680577e-03,  2.30998804e-04,\n",
       "          1.12847018e-03,  2.75575688e-03,  2.09915473e-03,\n",
       "          1.49010293e-03,  2.00481550e-03,  8.45798710e-04,\n",
       "          1.51328385e-03, -8.07365277e-04,  1.67766563e-03,\n",
       "         -1.38643143e-02, -4.52561573e-02, -1.64300809e-02],\n",
       "        [ 4.58617446e-03,  3.17255519e-03,  3.43504396e-03,\n",
       "          1.35205987e-03,  1.00000000e+00,  9.13899600e-01,\n",
       "         -7.89423317e-01, -4.66892979e-02, -3.42709377e-02,\n",
       "         -2.31401854e-02, -1.59877434e-02,  2.97720872e-03,\n",
       "          2.74376391e-03,  7.67648552e-03,  4.40118580e-03,\n",
       "          4.07482563e-03,  3.51633650e-03,  2.58482294e-03,\n",
       "          1.88374287e-03,  6.48782044e-04,  2.80632650e-03,\n",
       "         -2.00842344e-02, -6.80409510e-02, -4.42312374e-02],\n",
       "        [ 2.84920469e-03,  1.89756663e-03,  2.19619918e-03,\n",
       "          9.14342497e-04,  9.13899600e-01,  1.00000000e+00,\n",
       "         -9.53125095e-01, -2.69893909e-02, -2.28627239e-02,\n",
       "         -1.53234752e-02, -1.19166514e-02,  7.00208909e-04,\n",
       "          1.20067974e-03,  5.43031781e-03,  3.09947298e-03,\n",
       "          1.41265176e-03,  1.75081032e-03,  1.34640263e-03,\n",
       "          9.59418577e-04, -3.10367403e-04,  1.27300235e-03,\n",
       "         -9.37516050e-04, -5.58901599e-02, -4.26163545e-02],\n",
       "        [-2.15613341e-03, -1.15294812e-03, -1.39713641e-03,\n",
       "         -4.20377660e-04, -7.89423317e-01, -9.53125095e-01,\n",
       "          1.00000000e+00,  1.74574950e-02,  1.54939452e-02,\n",
       "          1.07254236e-02,  8.62830423e-03, -5.39799556e-06,\n",
       "         -4.41207849e-04, -4.13381955e-03, -2.18993964e-03,\n",
       "         -3.20673793e-04, -7.40246348e-04, -9.71425140e-04,\n",
       "         -4.57451909e-04,  2.97839023e-04, -4.60659167e-04,\n",
       "         -8.47895737e-03,  4.02147262e-02,  3.83522044e-02],\n",
       "        [ 4.17993761e-03,  2.66744129e-03, -4.24019049e-03,\n",
       "         -2.50531427e-03, -4.66892979e-02, -2.69893909e-02,\n",
       "          1.74574950e-02,  1.00000000e+00,  6.53001535e-01,\n",
       "         -4.18281139e-04, -1.18848121e-03,  4.74907958e-03,\n",
       "          3.12171493e-03,  5.83557911e-03,  3.14742945e-03,\n",
       "          5.92246673e-03,  3.84818994e-03,  4.52676012e-03,\n",
       "          3.10617346e-03,  2.59530575e-03,  3.68659970e-03,\n",
       "         -3.53026411e-02, -2.97607422e-02, -1.40658790e-02],\n",
       "        [ 1.71580563e-03,  1.82124492e-03, -3.03893293e-03,\n",
       "         -1.58164199e-03, -3.42709377e-02, -2.28627239e-02,\n",
       "          1.54939452e-02,  6.53001535e-01,  1.00000000e+00,\n",
       "          2.45682495e-04,  1.04902170e-03,  2.44635313e-03,\n",
       "          2.18882943e-03,  3.03321406e-03,  2.12981266e-03,\n",
       "          3.65265486e-03,  2.94063845e-03,  2.00112992e-03,\n",
       "          2.08352273e-03,  6.38098684e-04,  2.65395508e-03,\n",
       "         -3.05655600e-02, -3.16005033e-02, -2.75588774e-03],\n",
       "        [ 1.17831127e-02,  1.12699959e-02,  1.44362914e-02,\n",
       "          7.01434559e-03, -2.31401854e-02, -1.53234752e-02,\n",
       "          1.07254236e-02, -4.18281139e-04,  2.45682495e-04,\n",
       "          1.00000000e+00,  8.27758336e-01, -6.44844148e-03,\n",
       "         -4.47946757e-03,  1.46627719e-02,  1.00760748e-02,\n",
       "          2.26043058e-02,  1.63951036e-02,  1.22419559e-02,\n",
       "          1.14792361e-02,  6.11406620e-03,  1.48081677e-02,\n",
       "         -1.89086000e-01, -1.20826776e-01,  2.21104233e-02],\n",
       "        [ 2.35912131e-03,  7.44347502e-03,  1.00520292e-02,\n",
       "          8.18680577e-03, -1.59877434e-02, -1.19166514e-02,\n",
       "          8.62830423e-03, -1.18848121e-03,  1.04902170e-03,\n",
       "          8.27758336e-01,  1.00000000e+00, -3.17765417e-03,\n",
       "         -2.09532697e-03,  6.01799095e-03,  7.02189040e-03,\n",
       "          1.22765452e-02,  1.20721709e-02,  2.82446550e-03,\n",
       "          7.40312290e-03, -1.88976998e-03,  1.01820732e-02,\n",
       "         -1.46026868e-01, -1.46812416e-01,  3.25824135e-02],\n",
       "        [ 3.64001323e-03,  2.80937826e-03,  2.50106668e-03,\n",
       "          2.30998804e-04,  2.97720872e-03,  7.00208909e-04,\n",
       "         -5.39799556e-06,  4.74907958e-03,  2.44635313e-03,\n",
       "         -6.44844148e-03, -3.17765417e-03,  1.00000000e+00,\n",
       "          6.20782072e-01,  2.76286105e-03,  1.63475506e-03,\n",
       "          8.08632954e-03,  4.56594019e-03,  4.33168914e-03,\n",
       "          3.07139640e-03,  3.90327398e-03,  4.37150561e-03,\n",
       "         -6.60253373e-02,  1.00999757e-02,  3.42655075e-02],\n",
       "        [ 1.98962222e-03,  2.22185958e-03,  2.44149707e-03,\n",
       "          1.12847018e-03,  2.74376391e-03,  1.20067974e-03,\n",
       "         -4.41207849e-04,  3.12171493e-03,  2.18882943e-03,\n",
       "         -4.47946757e-03, -2.09532697e-03,  6.20782072e-01,\n",
       "          1.00000000e+00,  2.02625003e-03,  1.62369703e-03,\n",
       "          5.30522680e-03,  3.61293842e-03,  2.38726473e-03,\n",
       "          2.35036888e-03,  1.61984041e-03,  3.29720499e-03,\n",
       "         -4.89723126e-02, -1.26389020e-02,  2.04966989e-02],\n",
       "        [ 6.93777059e-03,  3.63243265e-03,  7.16997097e-03,\n",
       "          2.75575688e-03,  7.67648552e-03,  5.43031781e-03,\n",
       "         -4.13381955e-03,  5.83557911e-03,  3.03321406e-03,\n",
       "          1.46627719e-02,  6.01799095e-03,  2.76286105e-03,\n",
       "          2.02625003e-03,  1.00000000e+00,  7.29992236e-01,\n",
       "          4.32777888e-03,  3.18747310e-03,  5.89458574e-03,\n",
       "          3.54213230e-03,  2.05540673e-03,  3.09498578e-03,\n",
       "         -2.31100516e-03, -6.62836512e-02, -6.88750355e-02],\n",
       "        [ 3.18784503e-03,  2.30219860e-03,  4.18653343e-03,\n",
       "          2.09915473e-03,  4.40118580e-03,  3.09947298e-03,\n",
       "         -2.18993964e-03,  3.14742945e-03,  2.12981266e-03,\n",
       "          1.00760748e-02,  7.02189040e-03,  1.63475506e-03,\n",
       "          1.62369703e-03,  7.29992236e-01,  1.00000000e+00,\n",
       "          2.97654579e-03,  2.55313452e-03,  2.77477851e-03,\n",
       "          2.26490832e-03,  5.98847944e-04,  2.33495813e-03,\n",
       "         -1.46034313e-02, -4.48524449e-02, -2.76758611e-02],\n",
       "        [ 4.62956160e-03,  4.23557835e-03,  4.45266675e-03,\n",
       "          1.49010293e-03,  4.07482563e-03,  1.41265176e-03,\n",
       "         -3.20673793e-04,  5.92246673e-03,  3.65265486e-03,\n",
       "          2.26043058e-02,  1.22765452e-02,  8.08632954e-03,\n",
       "          5.30522680e-03,  4.32777888e-03,  2.97654579e-03,\n",
       "          1.00000000e+00,  7.53521209e-01, -9.27706974e-04,\n",
       "         -3.60090951e-04, -3.63917315e-02, -5.42611274e-02,\n",
       "         -9.19656276e-02, -1.11708294e-02,  3.88940348e-02],\n",
       "        [ 2.65667005e-03,  3.11678398e-03,  3.78527194e-03,\n",
       "          2.00481550e-03,  3.51633650e-03,  1.75081032e-03,\n",
       "         -7.40246348e-04,  3.84818994e-03,  2.94063845e-03,\n",
       "          1.63951036e-02,  1.20721709e-02,  4.56594019e-03,\n",
       "          3.61293842e-03,  3.18747310e-03,  2.55313452e-03,\n",
       "          7.53521209e-01,  1.00000000e+00, -9.19084694e-04,\n",
       "         -1.36699266e-04, -1.78520462e-02, -3.79553719e-02,\n",
       "         -6.28652252e-02, -2.85915707e-02,  2.01088210e-02],\n",
       "        [ 5.07972993e-03,  2.68521674e-03,  4.01041261e-03,\n",
       "          8.45798710e-04,  2.58482294e-03,  1.34640263e-03,\n",
       "         -9.71425140e-04,  4.52676012e-03,  2.00112992e-03,\n",
       "          1.22419559e-02,  2.82446550e-03,  4.33168914e-03,\n",
       "          2.38726473e-03,  5.89458574e-03,  2.77477851e-03,\n",
       "         -9.27706974e-04, -9.19084694e-04,  1.00000000e+00,\n",
       "          2.57109037e-01, -1.06921262e-03, -2.40908234e-03,\n",
       "         -2.51476594e-02, -1.67611120e-02, -1.81025689e-02],\n",
       "        [ 2.72417914e-03,  2.33790806e-03,  3.28793166e-03,\n",
       "          1.51328385e-03,  1.88374287e-03,  9.59418577e-04,\n",
       "         -4.57451909e-04,  3.10617346e-03,  2.08352273e-03,\n",
       "          1.14792361e-02,  7.40312290e-03,  3.07139640e-03,\n",
       "          2.35036888e-03,  3.54213230e-03,  2.26490832e-03,\n",
       "         -3.60090951e-04, -1.36699266e-04,  2.57109037e-01,\n",
       "          1.00000000e+00, -1.10537002e-03, -1.45693413e-03,\n",
       "         -3.50520332e-02, -2.62046906e-02, -8.40107327e-04],\n",
       "        [ 2.88998700e-03,  1.21623784e-03,  9.12867333e-04,\n",
       "         -8.07365277e-04,  6.48782044e-04, -3.10367403e-04,\n",
       "          2.97839023e-04,  2.59530575e-03,  6.38098684e-04,\n",
       "          6.11406620e-03, -1.88976998e-03,  3.90327398e-03,\n",
       "          1.61984041e-03,  2.05540673e-03,  5.98847944e-04,\n",
       "         -3.63917315e-02, -1.78520462e-02, -1.06921262e-03,\n",
       "         -1.10537002e-03,  1.00000000e+00, -3.30879955e-01,\n",
       "         -2.40973924e-02,  2.14668509e-02,  1.13498142e-02],\n",
       "        [ 2.69859171e-03,  2.88311917e-03,  3.45876904e-03,\n",
       "          1.67766563e-03,  2.80632650e-03,  1.27300235e-03,\n",
       "         -4.60659167e-04,  3.68659970e-03,  2.65395508e-03,\n",
       "          1.48081677e-02,  1.01820732e-02,  4.37150561e-03,\n",
       "          3.29720499e-03,  3.09498578e-03,  2.33495813e-03,\n",
       "         -5.42611274e-02, -3.79553719e-02, -2.40908234e-03,\n",
       "         -1.45693413e-03, -3.30879955e-01,  1.00000000e+00,\n",
       "         -5.75265777e-02, -2.30674809e-02,  1.82163026e-02],\n",
       "        [-1.24921372e-02, -3.17017317e-02, -2.28107494e-02,\n",
       "         -1.38643143e-02, -2.00842344e-02, -9.37516050e-04,\n",
       "         -8.47895737e-03, -3.53026411e-02, -3.05655600e-02,\n",
       "         -1.89086000e-01, -1.46026868e-01, -6.60253373e-02,\n",
       "         -4.89723126e-02, -2.31100516e-03, -1.46034313e-02,\n",
       "         -9.19656276e-02, -6.28652252e-02, -2.51476594e-02,\n",
       "         -3.50520332e-02, -2.40973924e-02, -5.75265777e-02,\n",
       "          1.00000000e+00,  3.25561118e-02, -6.85553219e-01],\n",
       "        [-2.67825743e-02, -2.86015233e-02, -6.46523846e-02,\n",
       "         -4.52561573e-02, -6.80409510e-02, -5.58901599e-02,\n",
       "          4.02147262e-02, -2.97607422e-02, -3.16005033e-02,\n",
       "         -1.20826776e-01, -1.46812416e-01,  1.00999757e-02,\n",
       "         -1.26389020e-02, -6.62836512e-02, -4.48524449e-02,\n",
       "         -1.11708294e-02, -2.85915707e-02, -1.67611120e-02,\n",
       "         -2.62046906e-02,  2.14668509e-02, -2.30674809e-02,\n",
       "          3.25561118e-02,  1.00000000e+00,  5.83352933e-01],\n",
       "        [-3.51719253e-02, -4.30740131e-03, -3.87517154e-02,\n",
       "         -1.64300809e-02, -4.42312374e-02, -4.26163545e-02,\n",
       "          3.83522044e-02, -1.40658790e-02, -2.75588774e-03,\n",
       "          2.21104233e-02,  3.25824135e-02,  3.42655075e-02,\n",
       "          2.04966989e-02, -6.88750355e-02, -2.76758611e-02,\n",
       "          3.88940348e-02,  2.01088210e-02, -1.81025689e-02,\n",
       "         -8.40107327e-04,  1.13498142e-02,  1.82163026e-02,\n",
       "         -6.85553219e-01,  5.83352933e-01,  1.00000000e+00]]),\n",
       " 'values': array([0.40861579, 1.97715111, 2.61901273, 3.28583985, 0.59494962,\n",
       "        1.17663858, 0.58371813, 0.46191178, 2.3315159 , 1.35174521,\n",
       "        2.45868649, 1.13297256, 1.95249163, 0.66401781, 2.35316433,\n",
       "        0.3917108 , 2.28965538, 0.59772866, 2.01586615, 1.40373579,\n",
       "        2.01272488, 1.09410496, 0.0463696 , 0.68374566]),\n",
       " 'errors': array([0.07060257, 0.13730063, 1.57532272, 0.49967164, 0.05462318,\n",
       "        0.18568941, 0.0792102 , 0.05757237, 0.10854421, 0.11404356,\n",
       "        0.06109538, 0.1931521 , 0.11083977, 0.09684776, 0.11456492,\n",
       "        0.08433046, 0.15078899, 0.06245894, 0.09285456, 0.15990415,\n",
       "        0.0991055 , 0.02116719, 0.02058319, 0.04315888]),\n",
       " 'indices': array([ 0,  1,  3,  4,  6,  7,  8, 10, 11, 13, 14, 17, 18, 20, 21, 23, 24,\n",
       "        26, 27, 29, 30, 32, 33, 35]),\n",
       " 'is_norm': array([ True, False,  True, False,  True, False, False,  True, False,\n",
       "         True, False,  True, False,  True, False,  True, False,  True,\n",
       "        False,  True, False,  True, False,  True]),\n",
       " 'src_names': ['3FGL J0002.0-6722',\n",
       "  '3FGL J0002.0-6722',\n",
       "  '3FGL J0021.6-6835',\n",
       "  '3FGL J0021.6-6835',\n",
       "  '3FGL J0023.9-7203',\n",
       "  '3FGL J0023.9-7203',\n",
       "  '3FGL J0023.9-7203',\n",
       "  '3FGL J0029.1-7045',\n",
       "  '3FGL J0029.1-7045',\n",
       "  '3FGL J0059.0-7242e',\n",
       "  '3FGL J0059.0-7242e',\n",
       "  '3FGL J0112.9-7506',\n",
       "  '3FGL J0112.9-7506',\n",
       "  '3FGL J0146.4-6746',\n",
       "  '3FGL J0146.4-6746',\n",
       "  '3FGL J2336.5-7620',\n",
       "  '3FGL J2336.5-7620',\n",
       "  '3FGL J2338.7-7401',\n",
       "  '3FGL J2338.7-7401',\n",
       "  '3FGL J2351.9-7601',\n",
       "  '3FGL J2351.9-7601',\n",
       "  'galdiff',\n",
       "  'galdiff',\n",
       "  'isodiff'],\n",
       " 'par_names': ['Prefactor',\n",
       "  'Index',\n",
       "  'Prefactor',\n",
       "  'Index',\n",
       "  'norm',\n",
       "  'alpha',\n",
       "  'beta',\n",
       "  'Prefactor',\n",
       "  'Index',\n",
       "  'norm',\n",
       "  'alpha',\n",
       "  'Prefactor',\n",
       "  'Index',\n",
       "  'Prefactor',\n",
       "  'Index',\n",
       "  'Prefactor',\n",
       "  'Index',\n",
       "  'Prefactor',\n",
       "  'Index',\n",
       "  'Prefactor',\n",
       "  'Index',\n",
       "  'Prefactor',\n",
       "  'Index',\n",
       "  'Normalization'],\n",
       " 'config': {'optimizer': 'MINUIT',\n",
       "  'tol': 0.001,\n",
       "  'max_iter': 100,\n",
       "  'init_lambda': 0.0001,\n",
       "  'retries': 3,\n",
       "  'min_fit_quality': 2,\n",
       "  'verbosity': 0,\n",
       "  'covar': True,\n",
       "  'reoptimize': False},\n",
       " 'niter': 1}"
      ]
     },
     "execution_count": 30,
     "metadata": {},
     "output_type": "execute_result"
    }
   ],
   "source": [
    "gta.fit()"
   ]
  },
  {
   "cell_type": "code",
   "execution_count": 31,
   "metadata": {},
   "outputs": [
    {
     "name": "stdout",
     "output_type": "stream",
     "text": [
      "[b'norm' b'alpha' b'beta' b'Eb' b'' b'' b'' b'' b'' b'']\n",
      "[1.35174521e-11 2.45868649e+00 0.00000000e+00 6.65532043e+02\n",
      "            nan            nan            nan            nan\n",
      "            nan            nan]\n",
      "[1.14043558e-12 6.10953798e-02            nan            nan\n",
      "            nan            nan            nan            nan\n",
      "            nan            nan]\n"
     ]
    }
   ],
   "source": [
    "print(gta.roi['3FGL J0059.0-7242e']['param_names'])\n",
    "print(gta.roi['3FGL J0059.0-7242e']['param_values'])\n",
    "print(gta.roi['3FGL J0059.0-7242e']['param_errors'])"
   ]
  },
  {
   "cell_type": "markdown",
   "metadata": {},
   "source": [
    "As you can see above the tool gta.set_source_spectrum has modified the SED shape from PowerLaw to LogParabola."
   ]
  },
  {
   "cell_type": "markdown",
   "metadata": {},
   "source": [
    "It is also possible to set the spatial morphology of a source using gta.set_source_morphology"
   ]
  },
  {
   "cell_type": "code",
   "execution_count": 32,
   "metadata": {},
   "outputs": [
    {
     "name": "stdout",
     "output_type": "stream",
     "text": [
      "Help on method set_source_morphology in module fermipy.gtanalysis:\n",
      "\n",
      "set_source_morphology(name, **kwargs) method of fermipy.gtanalysis.GTAnalysis instance\n",
      "    Set the spatial model of a source.\n",
      "    \n",
      "    Parameters\n",
      "    ----------\n",
      "    name : str\n",
      "       Source name.\n",
      "    \n",
      "    spatial_model : str\n",
      "       Spatial model name (PointSource, RadialGaussian, etc.).\n",
      "    \n",
      "    spatial_pars : dict\n",
      "       Dictionary of spatial parameters (optional).\n",
      "    \n",
      "    use_cache : bool        \n",
      "       Generate the spatial model by interpolating the cached source\n",
      "       map.\n",
      "    \n",
      "    use_pylike : bool\n",
      "\n"
     ]
    }
   ],
   "source": [
    "help(gta.set_source_morphology)"
   ]
  },
  {
   "cell_type": "code",
   "execution_count": 33,
   "metadata": {},
   "outputs": [],
   "source": [
    "gta.set_source_morphology(name='3FGL J0029.1-7045',spatial_model='RadialGaussian',spatial_pars={'SpatialWidth': 1.0} )"
   ]
  },
  {
   "cell_type": "code",
   "execution_count": 34,
   "metadata": {},
   "outputs": [
    {
     "name": "stderr",
     "output_type": "stream",
     "text": [
      "2024-06-19 15:02:30 INFO    GTAnalysis.print_model(): \n",
      "sourcename            offset    norm  eflux     index        ts       npred free\n",
      "--------------------------------------------------------------------------------\n",
      "3FGL J0059.0-7242e     0.088   1.352  1.02e-05   2.46    630.25      1385.7    *\n",
      "3FGL J0112.9-7506      2.572   1.133  2.16e-06   1.95    145.28       129.2    *\n",
      "3FGL J0023.9-7203      2.654   0.595   9.8e-06   2.70   5215.82      1799.6    *\n",
      "3FGL J0029.1-7045      3.008   0.462  2.07e-06   2.33    271.65       240.6    *\n",
      "3FGL J0021.6-6835      5.122   2.619  2.57e-07   3.29     16.48        57.2    *\n",
      "3FGL J2351.9-7601      5.495   1.404  2.85e-06   2.01    243.24       192.1    *\n",
      "3FGL J2338.7-7401      5.777   0.598  2.91e-06   2.02    294.32       187.1    *\n",
      "3FGL J0146.4-6746      6.423   0.664  1.76e-06   2.35    256.38       201.6    *\n",
      "3FGL J2336.5-7620      6.454   0.392  1.28e-06   2.29    112.83       135.9    *\n",
      "3FGL J0002.0-6722      7.153   0.409  1.63e-06   1.98     94.13        95.4    *\n",
      "isodiff                  ---   0.684    0.0214   2.12    713.90      6222.0    *\n",
      "galdiff                  ---   1.094     0.134   0.05   7038.55     17808.8    *\n",
      "\n"
     ]
    },
    {
     "name": "stdout",
     "output_type": "stream",
     "text": [
      "RadialGaussian\n",
      "1.0\n"
     ]
    }
   ],
   "source": [
    "gta.print_model()\n",
    "print(gta.roi['3FGL J0029.1-7045']['SpatialType'])\n",
    "print(gta.roi['3FGL J0029.1-7045']['SpatialWidth'])"
   ]
  },
  {
   "cell_type": "code",
   "execution_count": null,
   "metadata": {},
   "outputs": [],
   "source": []
  }
 ],
 "metadata": {
  "kernelspec": {
   "display_name": "Python 3 (ipykernel)",
   "language": "python",
   "name": "python3"
  },
  "language_info": {
   "codemirror_mode": {
    "name": "ipython",
    "version": 3
   },
   "file_extension": ".py",
   "mimetype": "text/x-python",
   "name": "python",
   "nbconvert_exporter": "python",
   "pygments_lexer": "ipython3",
   "version": "3.9.19"
  }
 },
 "nbformat": 4,
 "nbformat_minor": 4
}
