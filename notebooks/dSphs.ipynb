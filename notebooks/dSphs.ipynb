{
 "cells": [
  {
   "cell_type": "markdown",
   "metadata": {},
   "source": [
    "Download the config files and other data from github"
   ]
  },
  {
   "cell_type": "code",
   "execution_count": 1,
   "metadata": {},
   "outputs": [],
   "source": [
    "import os\n",
    "if os.path.isfile('./../data/dmpipe_example.tar.gz'):\n",
    "    !tar xzf ./../data/dmpipe_example.tar.gz\n",
    "else:\n",
    "    !curl -OL --output-dir ./../data/ https://raw.githubusercontent.com/fermiPy/fermipy-extras/master/data/dmpipe_example.tar.gz\n",
    "    !tar xzf ./../data/dmpipe_example.tar.gz"
   ]
  },
  {
   "cell_type": "code",
   "execution_count": 2,
   "metadata": {},
   "outputs": [
    {
     "name": "stdout",
     "output_type": "stream",
     "text": [
      "Using /home/pmarinos/miniforge3/envs/fermipy/lib/python3.9/site-packages/dmsky/data for FileLibrary\n",
      "Using /home/pmarinos/miniforge3/envs/fermipy/lib/python3.9/site-packages/dmsky/data/targets for TargetLibrary\n"
     ]
    }
   ],
   "source": [
    "from dmpipe.pipeline import Pipeline"
   ]
  },
  {
   "cell_type": "markdown",
   "metadata": {},
   "source": [
    "First we build a pipeline object to analyze the dSphs, and point it at the config file for the dSphs analysis."
   ]
  },
  {
   "cell_type": "code",
   "execution_count": 3,
   "metadata": {},
   "outputs": [],
   "source": [
    "pipe = Pipeline(linkname = 'dSphs')"
   ]
  },
  {
   "cell_type": "code",
   "execution_count": 4,
   "metadata": {},
   "outputs": [],
   "source": [
    "configfile = './dmpipe_example/config/master_dSphs.yaml'"
   ]
  },
  {
   "cell_type": "markdown",
   "metadata": {},
   "source": [
    "We have to 'preconfigure' the pipeline, because we need to build up the list of targets so that we correctly set up the later stages of the pipeline."
   ]
  },
  {
   "cell_type": "code",
   "execution_count": 5,
   "metadata": {},
   "outputs": [
    {
     "name": "stdout",
     "output_type": "stream",
     "text": [
      "return code  1\n"
     ]
    }
   ],
   "source": [
    "pipe.preconfigure(configfile)"
   ]
  },
  {
   "cell_type": "code",
   "execution_count": 6,
   "metadata": {},
   "outputs": [],
   "source": [
    "!DMSKY_PATH=dmpipe_example/dmsky_data"
   ]
  },
  {
   "cell_type": "markdown",
   "metadata": {},
   "source": [
    "We then tell the pipeline to update the arguments for all of the steps that comprise it."
   ]
  },
  {
   "cell_type": "code",
   "execution_count": 7,
   "metadata": {},
   "outputs": [
    {
     "ename": "FileNotFoundError",
     "evalue": "[Errno 2] No such file or directory: './dSphs/target_list.yaml'",
     "output_type": "error",
     "traceback": [
      "\u001b[0;31m---------------------------------------------------------------------------\u001b[0m",
      "\u001b[0;31mFileNotFoundError\u001b[0m                         Traceback (most recent call last)",
      "Cell \u001b[0;32mIn[7], line 1\u001b[0m\n\u001b[0;32m----> 1\u001b[0m \u001b[43mpipe\u001b[49m\u001b[38;5;241;43m.\u001b[39;49m\u001b[43mupdate_args\u001b[49m\u001b[43m(\u001b[49m\u001b[38;5;28;43mdict\u001b[39;49m\u001b[43m(\u001b[49m\u001b[43mconfig\u001b[49m\u001b[38;5;241;43m=\u001b[39;49m\u001b[43mconfigfile\u001b[49m\u001b[43m)\u001b[49m\u001b[43m)\u001b[49m\n",
      "File \u001b[0;32m~/miniforge3/envs/fermipy/lib/python3.9/site-packages/fermipy/jobs/chain.py:366\u001b[0m, in \u001b[0;36mChain.update_args\u001b[0;34m(self, override_args)\u001b[0m\n\u001b[1;32m    354\u001b[0m \u001b[38;5;250m\u001b[39m\u001b[38;5;124;03m\"\"\"Update the argument used to invoke the application\u001b[39;00m\n\u001b[1;32m    355\u001b[0m \n\u001b[1;32m    356\u001b[0m \u001b[38;5;124;03mNote that this will also update the dictionary of input\u001b[39;00m\n\u001b[0;32m   (...)\u001b[0m\n\u001b[1;32m    363\u001b[0m \n\u001b[1;32m    364\u001b[0m \u001b[38;5;124;03m\"\"\"\u001b[39;00m\n\u001b[1;32m    365\u001b[0m \u001b[38;5;28mself\u001b[39m\u001b[38;5;241m.\u001b[39margs \u001b[38;5;241m=\u001b[39m extract_arguments(override_args, \u001b[38;5;28mself\u001b[39m\u001b[38;5;241m.\u001b[39margs)\n\u001b[0;32m--> 366\u001b[0m \u001b[38;5;28;43mself\u001b[39;49m\u001b[38;5;241;43m.\u001b[39;49m\u001b[43m_map_arguments\u001b[49m\u001b[43m(\u001b[49m\u001b[38;5;28;43mself\u001b[39;49m\u001b[38;5;241;43m.\u001b[39;49m\u001b[43margs\u001b[49m\u001b[43m)\u001b[49m\n\u001b[1;32m    368\u001b[0m scratch_dir \u001b[38;5;241m=\u001b[39m \u001b[38;5;28mself\u001b[39m\u001b[38;5;241m.\u001b[39margs\u001b[38;5;241m.\u001b[39mget(\u001b[38;5;124m'\u001b[39m\u001b[38;5;124mscratch\u001b[39m\u001b[38;5;124m'\u001b[39m, \u001b[38;5;28;01mNone\u001b[39;00m)\n\u001b[1;32m    369\u001b[0m \u001b[38;5;28;01mif\u001b[39;00m is_not_null(scratch_dir):\n",
      "File \u001b[0;32m~/miniforge3/envs/fermipy/lib/python3.9/site-packages/dmpipe/pipeline.py:637\u001b[0m, in \u001b[0;36mPipeline._map_arguments\u001b[0;34m(self, args)\u001b[0m\n\u001b[1;32m    623\u001b[0m \u001b[38;5;28mself\u001b[39m\u001b[38;5;241m.\u001b[39m_set_link(\u001b[38;5;124m'\u001b[39m\u001b[38;5;124mprepare-targets\u001b[39m\u001b[38;5;124m'\u001b[39m,\n\u001b[1;32m    624\u001b[0m                PrepareTargets,\n\u001b[1;32m    625\u001b[0m                ttype\u001b[38;5;241m=\u001b[39mttype,\n\u001b[0;32m   (...)\u001b[0m\n\u001b[1;32m    628\u001b[0m                sims\u001b[38;5;241m=\u001b[39msim_names,\n\u001b[1;32m    629\u001b[0m                config\u001b[38;5;241m=\u001b[39mconfig_template)\n\u001b[1;32m    631\u001b[0m \u001b[38;5;28mself\u001b[39m\u001b[38;5;241m.\u001b[39m_set_link(\u001b[38;5;124m'\u001b[39m\u001b[38;5;124mspec-table\u001b[39m\u001b[38;5;124m'\u001b[39m,\n\u001b[1;32m    632\u001b[0m                SpecTable,\n\u001b[1;32m    633\u001b[0m                ttype\u001b[38;5;241m=\u001b[39mttype,\n\u001b[1;32m    634\u001b[0m                config\u001b[38;5;241m=\u001b[39mconfig_template,\n\u001b[1;32m    635\u001b[0m                specfile\u001b[38;5;241m=\u001b[39mspecfile)\n\u001b[0;32m--> 637\u001b[0m \u001b[38;5;28;43mself\u001b[39;49m\u001b[38;5;241;43m.\u001b[39;49m\u001b[43m_set_link\u001b[49m\u001b[43m(\u001b[49m\u001b[38;5;124;43m'\u001b[39;49m\u001b[38;5;124;43mdata\u001b[39;49m\u001b[38;5;124;43m'\u001b[39;49m\u001b[43m,\u001b[49m\n\u001b[1;32m    638\u001b[0m \u001b[43m               \u001b[49m\u001b[43mPipelineData\u001b[49m\u001b[43m,\u001b[49m\n\u001b[1;32m    639\u001b[0m \u001b[43m               \u001b[49m\u001b[43mlink_prefix\u001b[49m\u001b[38;5;241;43m=\u001b[39;49m\u001b[38;5;124;43m'\u001b[39;49m\u001b[38;5;124;43mdata.\u001b[39;49m\u001b[38;5;124;43m'\u001b[39;49m\u001b[43m,\u001b[49m\n\u001b[1;32m    640\u001b[0m \u001b[43m               \u001b[49m\u001b[43mconfig\u001b[49m\u001b[38;5;241;43m=\u001b[39;49m\u001b[43mconfig_yaml\u001b[49m\u001b[43m,\u001b[49m\n\u001b[1;32m    641\u001b[0m \u001b[43m               \u001b[49m\u001b[43mdry_run\u001b[49m\u001b[38;5;241;43m=\u001b[39;49m\u001b[43mdry_run\u001b[49m\u001b[43m)\u001b[49m\n\u001b[1;32m    643\u001b[0m final_plot_sims \u001b[38;5;241m=\u001b[39m []\n\u001b[1;32m    645\u001b[0m \u001b[38;5;28;01mfor\u001b[39;00m sim \u001b[38;5;129;01min\u001b[39;00m sims\u001b[38;5;241m.\u001b[39mkeys():\n",
      "File \u001b[0;32m~/miniforge3/envs/fermipy/lib/python3.9/site-packages/fermipy/jobs/chain.py:128\u001b[0m, in \u001b[0;36mChain._set_link\u001b[0;34m(self, linkname, cls, **kwargs)\u001b[0m\n\u001b[1;32m    126\u001b[0m     logfile_default \u001b[38;5;241m=\u001b[39m os\u001b[38;5;241m.\u001b[39mpath\u001b[38;5;241m.\u001b[39mjoin(\u001b[38;5;124m'\u001b[39m\u001b[38;5;124mlogs\u001b[39m\u001b[38;5;124m'\u001b[39m, \u001b[38;5;124m'\u001b[39m\u001b[38;5;132;01m%s\u001b[39;00m\u001b[38;5;124m.log\u001b[39m\u001b[38;5;124m'\u001b[39m \u001b[38;5;241m%\u001b[39m link\u001b[38;5;241m.\u001b[39mfull_linkname)\n\u001b[1;32m    127\u001b[0m     logfile \u001b[38;5;241m=\u001b[39m kwargs\u001b[38;5;241m.\u001b[39msetdefault(\u001b[38;5;124m'\u001b[39m\u001b[38;5;124mlogfile\u001b[39m\u001b[38;5;124m'\u001b[39m, logfile_default)\n\u001b[0;32m--> 128\u001b[0m     \u001b[43mlink\u001b[49m\u001b[38;5;241;43m.\u001b[39;49m\u001b[43m_register_job\u001b[49m\u001b[43m(\u001b[49m\u001b[43mJobDetails\u001b[49m\u001b[38;5;241;43m.\u001b[39;49m\u001b[43mtopkey\u001b[49m\u001b[43m,\u001b[49m\u001b[43m \u001b[49m\u001b[43mjob_args\u001b[49m\u001b[43m,\u001b[49m\n\u001b[1;32m    129\u001b[0m \u001b[43m                       \u001b[49m\u001b[43mlogfile\u001b[49m\u001b[43m,\u001b[49m\u001b[43m \u001b[49m\u001b[43mstatus\u001b[49m\u001b[38;5;241;43m=\u001b[39;49m\u001b[43mJobStatus\u001b[49m\u001b[38;5;241;43m.\u001b[39;49m\u001b[43munknown\u001b[49m\u001b[43m)\u001b[49m\n\u001b[1;32m    130\u001b[0m     link\u001b[38;5;241m.\u001b[39mupdate_args(job_args)\n\u001b[1;32m    131\u001b[0m \u001b[38;5;28;01mreturn\u001b[39;00m link\n",
      "File \u001b[0;32m~/miniforge3/envs/fermipy/lib/python3.9/site-packages/fermipy/jobs/link.py:574\u001b[0m, in \u001b[0;36mLink._register_job\u001b[0;34m(self, key, job_config, logfile, status)\u001b[0m\n\u001b[1;32m    549\u001b[0m \u001b[38;5;28;01mdef\u001b[39;00m \u001b[38;5;21m_register_job\u001b[39m(\u001b[38;5;28mself\u001b[39m, key, job_config, logfile, status):\n\u001b[1;32m    550\u001b[0m \u001b[38;5;250m    \u001b[39m\u001b[38;5;124;03m\"\"\"Create a `JobDetails` for this link\u001b[39;00m\n\u001b[1;32m    551\u001b[0m \u001b[38;5;124;03m    and add it to the self.jobs dictionary.\u001b[39;00m\n\u001b[1;32m    552\u001b[0m \n\u001b[0;32m   (...)\u001b[0m\n\u001b[1;32m    572\u001b[0m \n\u001b[1;32m    573\u001b[0m \u001b[38;5;124;03m    \"\"\"\u001b[39;00m\n\u001b[0;32m--> 574\u001b[0m     job_details \u001b[38;5;241m=\u001b[39m \u001b[38;5;28;43mself\u001b[39;49m\u001b[38;5;241;43m.\u001b[39;49m\u001b[43m_create_job_details\u001b[49m\u001b[43m(\u001b[49m\n\u001b[1;32m    575\u001b[0m \u001b[43m        \u001b[49m\u001b[43mkey\u001b[49m\u001b[43m,\u001b[49m\u001b[43m \u001b[49m\u001b[43mjob_config\u001b[49m\u001b[43m,\u001b[49m\u001b[43m \u001b[49m\u001b[43mlogfile\u001b[49m\u001b[43m,\u001b[49m\u001b[43m \u001b[49m\u001b[43mstatus\u001b[49m\u001b[43m)\u001b[49m\n\u001b[1;32m    576\u001b[0m     \u001b[38;5;28mself\u001b[39m\u001b[38;5;241m.\u001b[39mjobs[job_details\u001b[38;5;241m.\u001b[39mfullkey] \u001b[38;5;241m=\u001b[39m job_details\n\u001b[1;32m    577\u001b[0m     \u001b[38;5;28;01mreturn\u001b[39;00m job_details\n",
      "File \u001b[0;32m~/miniforge3/envs/fermipy/lib/python3.9/site-packages/fermipy/jobs/link.py:451\u001b[0m, in \u001b[0;36mLink._create_job_details\u001b[0;34m(self, key, job_config, logfile, status)\u001b[0m\n\u001b[1;32m    427\u001b[0m \u001b[38;5;28;01mdef\u001b[39;00m \u001b[38;5;21m_create_job_details\u001b[39m(\u001b[38;5;28mself\u001b[39m, key, job_config, logfile, status):\n\u001b[1;32m    428\u001b[0m \u001b[38;5;250m    \u001b[39m\u001b[38;5;124;03m\"\"\"Create a `JobDetails` for a single job\u001b[39;00m\n\u001b[1;32m    429\u001b[0m \n\u001b[1;32m    430\u001b[0m \u001b[38;5;124;03m    Parameters\u001b[39;00m\n\u001b[0;32m   (...)\u001b[0m\n\u001b[1;32m    449\u001b[0m \n\u001b[1;32m    450\u001b[0m \u001b[38;5;124;03m    \"\"\"\u001b[39;00m\n\u001b[0;32m--> 451\u001b[0m     \u001b[38;5;28;43mself\u001b[39;49m\u001b[38;5;241;43m.\u001b[39;49m\u001b[43mupdate_args\u001b[49m\u001b[43m(\u001b[49m\u001b[43mjob_config\u001b[49m\u001b[43m)\u001b[49m\n\u001b[1;32m    452\u001b[0m     job_details \u001b[38;5;241m=\u001b[39m JobDetails(jobname\u001b[38;5;241m=\u001b[39m\u001b[38;5;28mself\u001b[39m\u001b[38;5;241m.\u001b[39mfull_linkname,\n\u001b[1;32m    453\u001b[0m                              jobkey\u001b[38;5;241m=\u001b[39mkey,\n\u001b[1;32m    454\u001b[0m                              appname\u001b[38;5;241m=\u001b[39m\u001b[38;5;28mself\u001b[39m\u001b[38;5;241m.\u001b[39mappname,\n\u001b[0;32m   (...)\u001b[0m\n\u001b[1;32m    459\u001b[0m                              sub_file_dict\u001b[38;5;241m=\u001b[39mcopy\u001b[38;5;241m.\u001b[39mdeepcopy(\u001b[38;5;28mself\u001b[39m\u001b[38;5;241m.\u001b[39msub_files),\n\u001b[1;32m    460\u001b[0m                              status\u001b[38;5;241m=\u001b[39mstatus)\n\u001b[1;32m    461\u001b[0m     \u001b[38;5;28;01mreturn\u001b[39;00m job_details\n",
      "File \u001b[0;32m~/miniforge3/envs/fermipy/lib/python3.9/site-packages/fermipy/jobs/chain.py:366\u001b[0m, in \u001b[0;36mChain.update_args\u001b[0;34m(self, override_args)\u001b[0m\n\u001b[1;32m    354\u001b[0m \u001b[38;5;250m\u001b[39m\u001b[38;5;124;03m\"\"\"Update the argument used to invoke the application\u001b[39;00m\n\u001b[1;32m    355\u001b[0m \n\u001b[1;32m    356\u001b[0m \u001b[38;5;124;03mNote that this will also update the dictionary of input\u001b[39;00m\n\u001b[0;32m   (...)\u001b[0m\n\u001b[1;32m    363\u001b[0m \n\u001b[1;32m    364\u001b[0m \u001b[38;5;124;03m\"\"\"\u001b[39;00m\n\u001b[1;32m    365\u001b[0m \u001b[38;5;28mself\u001b[39m\u001b[38;5;241m.\u001b[39margs \u001b[38;5;241m=\u001b[39m extract_arguments(override_args, \u001b[38;5;28mself\u001b[39m\u001b[38;5;241m.\u001b[39margs)\n\u001b[0;32m--> 366\u001b[0m \u001b[38;5;28;43mself\u001b[39;49m\u001b[38;5;241;43m.\u001b[39;49m\u001b[43m_map_arguments\u001b[49m\u001b[43m(\u001b[49m\u001b[38;5;28;43mself\u001b[39;49m\u001b[38;5;241;43m.\u001b[39;49m\u001b[43margs\u001b[49m\u001b[43m)\u001b[49m\n\u001b[1;32m    368\u001b[0m scratch_dir \u001b[38;5;241m=\u001b[39m \u001b[38;5;28mself\u001b[39m\u001b[38;5;241m.\u001b[39margs\u001b[38;5;241m.\u001b[39mget(\u001b[38;5;124m'\u001b[39m\u001b[38;5;124mscratch\u001b[39m\u001b[38;5;124m'\u001b[39m, \u001b[38;5;28;01mNone\u001b[39;00m)\n\u001b[1;32m    369\u001b[0m \u001b[38;5;28;01mif\u001b[39;00m is_not_null(scratch_dir):\n",
      "File \u001b[0;32m~/miniforge3/envs/fermipy/lib/python3.9/site-packages/dmpipe/pipeline.py:107\u001b[0m, in \u001b[0;36mPipelineData._map_arguments\u001b[0;34m(self, args)\u001b[0m\n\u001b[1;32m    104\u001b[0m data_plotting \u001b[38;5;241m=\u001b[39m config_dict\u001b[38;5;241m.\u001b[39mget(\u001b[38;5;124m'\u001b[39m\u001b[38;5;124mdata_plotting\u001b[39m\u001b[38;5;124m'\u001b[39m)\n\u001b[1;32m    105\u001b[0m plot_channels_default \u001b[38;5;241m=\u001b[39m config_dict\u001b[38;5;241m.\u001b[39mget(\u001b[38;5;124m'\u001b[39m\u001b[38;5;124mplot_channels\u001b[39m\u001b[38;5;124m'\u001b[39m, [])\n\u001b[0;32m--> 107\u001b[0m \u001b[38;5;28;43mself\u001b[39;49m\u001b[38;5;241;43m.\u001b[39;49m\u001b[43m_set_link\u001b[49m\u001b[43m(\u001b[49m\u001b[38;5;124;43m'\u001b[39;49m\u001b[38;5;124;43manalyze-roi\u001b[39;49m\u001b[38;5;124;43m'\u001b[39;49m\u001b[43m,\u001b[49m\n\u001b[1;32m    108\u001b[0m \u001b[43m               \u001b[49m\u001b[43mAnalyzeROI_SG\u001b[49m\u001b[43m,\u001b[49m\n\u001b[1;32m    109\u001b[0m \u001b[43m               \u001b[49m\u001b[43mttype\u001b[49m\u001b[38;5;241;43m=\u001b[39;49m\u001b[43mttype\u001b[49m\u001b[43m,\u001b[49m\n\u001b[1;32m    110\u001b[0m \u001b[43m               \u001b[49m\u001b[43mtargetlist\u001b[49m\u001b[38;5;241;43m=\u001b[39;49m\u001b[43mtargetlist\u001b[49m\u001b[43m,\u001b[49m\n\u001b[1;32m    111\u001b[0m \u001b[43m               \u001b[49m\u001b[43mconfig\u001b[49m\u001b[38;5;241;43m=\u001b[39;49m\u001b[43mconfig_localpath\u001b[49m\u001b[43m)\u001b[49m\n\u001b[1;32m    112\u001b[0m \u001b[38;5;28mself\u001b[39m\u001b[38;5;241m.\u001b[39m_set_link(\u001b[38;5;124m'\u001b[39m\u001b[38;5;124manalyze-sed\u001b[39m\u001b[38;5;124m'\u001b[39m,\n\u001b[1;32m    113\u001b[0m                AnalyzeSED_SG,\n\u001b[1;32m    114\u001b[0m                ttype\u001b[38;5;241m=\u001b[39mttype,\n\u001b[1;32m    115\u001b[0m                targetlist\u001b[38;5;241m=\u001b[39mtargetlist,\n\u001b[1;32m    116\u001b[0m                config\u001b[38;5;241m=\u001b[39mconfig_localpath)\n\u001b[1;32m    117\u001b[0m \u001b[38;5;28mself\u001b[39m\u001b[38;5;241m.\u001b[39m_set_link(\u001b[38;5;124m'\u001b[39m\u001b[38;5;124mconvert-castro\u001b[39m\u001b[38;5;124m'\u001b[39m,\n\u001b[1;32m    118\u001b[0m                ConvertCastro_SG,\n\u001b[1;32m    119\u001b[0m                ttype\u001b[38;5;241m=\u001b[39mttype,\n\u001b[0;32m   (...)\u001b[0m\n\u001b[1;32m    122\u001b[0m                config\u001b[38;5;241m=\u001b[39mconfig_localpath,\n\u001b[1;32m    123\u001b[0m                specfile\u001b[38;5;241m=\u001b[39mspecfile)\n",
      "File \u001b[0;32m~/miniforge3/envs/fermipy/lib/python3.9/site-packages/fermipy/jobs/chain.py:128\u001b[0m, in \u001b[0;36mChain._set_link\u001b[0;34m(self, linkname, cls, **kwargs)\u001b[0m\n\u001b[1;32m    126\u001b[0m     logfile_default \u001b[38;5;241m=\u001b[39m os\u001b[38;5;241m.\u001b[39mpath\u001b[38;5;241m.\u001b[39mjoin(\u001b[38;5;124m'\u001b[39m\u001b[38;5;124mlogs\u001b[39m\u001b[38;5;124m'\u001b[39m, \u001b[38;5;124m'\u001b[39m\u001b[38;5;132;01m%s\u001b[39;00m\u001b[38;5;124m.log\u001b[39m\u001b[38;5;124m'\u001b[39m \u001b[38;5;241m%\u001b[39m link\u001b[38;5;241m.\u001b[39mfull_linkname)\n\u001b[1;32m    127\u001b[0m     logfile \u001b[38;5;241m=\u001b[39m kwargs\u001b[38;5;241m.\u001b[39msetdefault(\u001b[38;5;124m'\u001b[39m\u001b[38;5;124mlogfile\u001b[39m\u001b[38;5;124m'\u001b[39m, logfile_default)\n\u001b[0;32m--> 128\u001b[0m     \u001b[43mlink\u001b[49m\u001b[38;5;241;43m.\u001b[39;49m\u001b[43m_register_job\u001b[49m\u001b[43m(\u001b[49m\u001b[43mJobDetails\u001b[49m\u001b[38;5;241;43m.\u001b[39;49m\u001b[43mtopkey\u001b[49m\u001b[43m,\u001b[49m\u001b[43m \u001b[49m\u001b[43mjob_args\u001b[49m\u001b[43m,\u001b[49m\n\u001b[1;32m    129\u001b[0m \u001b[43m                       \u001b[49m\u001b[43mlogfile\u001b[49m\u001b[43m,\u001b[49m\u001b[43m \u001b[49m\u001b[43mstatus\u001b[49m\u001b[38;5;241;43m=\u001b[39;49m\u001b[43mJobStatus\u001b[49m\u001b[38;5;241;43m.\u001b[39;49m\u001b[43munknown\u001b[49m\u001b[43m)\u001b[49m\n\u001b[1;32m    130\u001b[0m     link\u001b[38;5;241m.\u001b[39mupdate_args(job_args)\n\u001b[1;32m    131\u001b[0m \u001b[38;5;28;01mreturn\u001b[39;00m link\n",
      "File \u001b[0;32m~/miniforge3/envs/fermipy/lib/python3.9/site-packages/fermipy/jobs/link.py:574\u001b[0m, in \u001b[0;36mLink._register_job\u001b[0;34m(self, key, job_config, logfile, status)\u001b[0m\n\u001b[1;32m    549\u001b[0m \u001b[38;5;28;01mdef\u001b[39;00m \u001b[38;5;21m_register_job\u001b[39m(\u001b[38;5;28mself\u001b[39m, key, job_config, logfile, status):\n\u001b[1;32m    550\u001b[0m \u001b[38;5;250m    \u001b[39m\u001b[38;5;124;03m\"\"\"Create a `JobDetails` for this link\u001b[39;00m\n\u001b[1;32m    551\u001b[0m \u001b[38;5;124;03m    and add it to the self.jobs dictionary.\u001b[39;00m\n\u001b[1;32m    552\u001b[0m \n\u001b[0;32m   (...)\u001b[0m\n\u001b[1;32m    572\u001b[0m \n\u001b[1;32m    573\u001b[0m \u001b[38;5;124;03m    \"\"\"\u001b[39;00m\n\u001b[0;32m--> 574\u001b[0m     job_details \u001b[38;5;241m=\u001b[39m \u001b[38;5;28;43mself\u001b[39;49m\u001b[38;5;241;43m.\u001b[39;49m\u001b[43m_create_job_details\u001b[49m\u001b[43m(\u001b[49m\n\u001b[1;32m    575\u001b[0m \u001b[43m        \u001b[49m\u001b[43mkey\u001b[49m\u001b[43m,\u001b[49m\u001b[43m \u001b[49m\u001b[43mjob_config\u001b[49m\u001b[43m,\u001b[49m\u001b[43m \u001b[49m\u001b[43mlogfile\u001b[49m\u001b[43m,\u001b[49m\u001b[43m \u001b[49m\u001b[43mstatus\u001b[49m\u001b[43m)\u001b[49m\n\u001b[1;32m    576\u001b[0m     \u001b[38;5;28mself\u001b[39m\u001b[38;5;241m.\u001b[39mjobs[job_details\u001b[38;5;241m.\u001b[39mfullkey] \u001b[38;5;241m=\u001b[39m job_details\n\u001b[1;32m    577\u001b[0m     \u001b[38;5;28;01mreturn\u001b[39;00m job_details\n",
      "File \u001b[0;32m~/miniforge3/envs/fermipy/lib/python3.9/site-packages/fermipy/jobs/link.py:451\u001b[0m, in \u001b[0;36mLink._create_job_details\u001b[0;34m(self, key, job_config, logfile, status)\u001b[0m\n\u001b[1;32m    427\u001b[0m \u001b[38;5;28;01mdef\u001b[39;00m \u001b[38;5;21m_create_job_details\u001b[39m(\u001b[38;5;28mself\u001b[39m, key, job_config, logfile, status):\n\u001b[1;32m    428\u001b[0m \u001b[38;5;250m    \u001b[39m\u001b[38;5;124;03m\"\"\"Create a `JobDetails` for a single job\u001b[39;00m\n\u001b[1;32m    429\u001b[0m \n\u001b[1;32m    430\u001b[0m \u001b[38;5;124;03m    Parameters\u001b[39;00m\n\u001b[0;32m   (...)\u001b[0m\n\u001b[1;32m    449\u001b[0m \n\u001b[1;32m    450\u001b[0m \u001b[38;5;124;03m    \"\"\"\u001b[39;00m\n\u001b[0;32m--> 451\u001b[0m     \u001b[38;5;28;43mself\u001b[39;49m\u001b[38;5;241;43m.\u001b[39;49m\u001b[43mupdate_args\u001b[49m\u001b[43m(\u001b[49m\u001b[43mjob_config\u001b[49m\u001b[43m)\u001b[49m\n\u001b[1;32m    452\u001b[0m     job_details \u001b[38;5;241m=\u001b[39m JobDetails(jobname\u001b[38;5;241m=\u001b[39m\u001b[38;5;28mself\u001b[39m\u001b[38;5;241m.\u001b[39mfull_linkname,\n\u001b[1;32m    453\u001b[0m                              jobkey\u001b[38;5;241m=\u001b[39mkey,\n\u001b[1;32m    454\u001b[0m                              appname\u001b[38;5;241m=\u001b[39m\u001b[38;5;28mself\u001b[39m\u001b[38;5;241m.\u001b[39mappname,\n\u001b[0;32m   (...)\u001b[0m\n\u001b[1;32m    459\u001b[0m                              sub_file_dict\u001b[38;5;241m=\u001b[39mcopy\u001b[38;5;241m.\u001b[39mdeepcopy(\u001b[38;5;28mself\u001b[39m\u001b[38;5;241m.\u001b[39msub_files),\n\u001b[1;32m    460\u001b[0m                              status\u001b[38;5;241m=\u001b[39mstatus)\n\u001b[1;32m    461\u001b[0m     \u001b[38;5;28;01mreturn\u001b[39;00m job_details\n",
      "File \u001b[0;32m~/miniforge3/envs/fermipy/lib/python3.9/site-packages/fermipy/jobs/scatter_gather.py:291\u001b[0m, in \u001b[0;36mScatterGather.update_args\u001b[0;34m(self, override_args)\u001b[0m\n\u001b[1;32m    280\u001b[0m \u001b[38;5;250m\u001b[39m\u001b[38;5;124;03m\"\"\"Update the arguments used to invoke the application\u001b[39;00m\n\u001b[1;32m    281\u001b[0m \n\u001b[1;32m    282\u001b[0m \u001b[38;5;124;03mNote that this will also update the dictionary of input and output files\u001b[39;00m\n\u001b[0;32m   (...)\u001b[0m\n\u001b[1;32m    288\u001b[0m \u001b[38;5;124;03m    dictionary of arguments to override the current values\u001b[39;00m\n\u001b[1;32m    289\u001b[0m \u001b[38;5;124;03m\"\"\"\u001b[39;00m\n\u001b[1;32m    290\u001b[0m \u001b[38;5;28mself\u001b[39m\u001b[38;5;241m.\u001b[39margs \u001b[38;5;241m=\u001b[39m extract_arguments(override_args, \u001b[38;5;28mself\u001b[39m\u001b[38;5;241m.\u001b[39margs)\n\u001b[0;32m--> 291\u001b[0m \u001b[38;5;28mself\u001b[39m\u001b[38;5;241m.\u001b[39m_job_configs \u001b[38;5;241m=\u001b[39m \u001b[38;5;28;43mself\u001b[39;49m\u001b[38;5;241;43m.\u001b[39;49m\u001b[43mbuild_job_configs\u001b[49m\u001b[43m(\u001b[49m\u001b[38;5;28;43mself\u001b[39;49m\u001b[38;5;241;43m.\u001b[39;49m\u001b[43margs\u001b[49m\u001b[43m)\u001b[49m\n\u001b[1;32m    292\u001b[0m \u001b[38;5;28;01mif\u001b[39;00m \u001b[38;5;129;01mnot\u001b[39;00m \u001b[38;5;28mself\u001b[39m\u001b[38;5;241m.\u001b[39m_scatter_link\u001b[38;5;241m.\u001b[39mjobs:\n\u001b[1;32m    293\u001b[0m     \u001b[38;5;28mself\u001b[39m\u001b[38;5;241m.\u001b[39m_build_job_dict()\n",
      "File \u001b[0;32m~/miniforge3/envs/fermipy/lib/python3.9/site-packages/fermipy/jobs/target_analysis.py:212\u001b[0m, in \u001b[0;36mAnalyzeROI_SG.build_job_configs\u001b[0;34m(self, args)\u001b[0m\n\u001b[1;32m    209\u001b[0m \u001b[38;5;28;01mif\u001b[39;00m is_not_null(config_override):\n\u001b[1;32m    210\u001b[0m     config_yaml \u001b[38;5;241m=\u001b[39m config_override\n\u001b[0;32m--> 212\u001b[0m targets \u001b[38;5;241m=\u001b[39m \u001b[43mload_yaml\u001b[49m\u001b[43m(\u001b[49m\u001b[43mtargets_yaml\u001b[49m\u001b[43m)\u001b[49m\n\u001b[1;32m    213\u001b[0m base_config \u001b[38;5;241m=\u001b[39m \u001b[38;5;28mdict\u001b[39m(roi_baseline\u001b[38;5;241m=\u001b[39margs[\u001b[38;5;124m'\u001b[39m\u001b[38;5;124mroi_baseline\u001b[39m\u001b[38;5;124m'\u001b[39m],\n\u001b[1;32m    214\u001b[0m                    make_plots\u001b[38;5;241m=\u001b[39margs[\u001b[38;5;124m'\u001b[39m\u001b[38;5;124mmake_plots\u001b[39m\u001b[38;5;124m'\u001b[39m])\n\u001b[1;32m    216\u001b[0m \u001b[38;5;28;01mfor\u001b[39;00m target_name \u001b[38;5;129;01min\u001b[39;00m targets\u001b[38;5;241m.\u001b[39mkeys():\n",
      "File \u001b[0;32m~/miniforge3/envs/fermipy/lib/python3.9/site-packages/fermipy/utils.py:54\u001b[0m, in \u001b[0;36mload_yaml\u001b[0;34m(infile, **kwargs)\u001b[0m\n\u001b[1;32m     53\u001b[0m \u001b[38;5;28;01mdef\u001b[39;00m \u001b[38;5;21mload_yaml\u001b[39m(infile, \u001b[38;5;241m*\u001b[39m\u001b[38;5;241m*\u001b[39mkwargs):\n\u001b[0;32m---> 54\u001b[0m     \u001b[38;5;28;01mreturn\u001b[39;00m yaml\u001b[38;5;241m.\u001b[39msafe_load(\u001b[38;5;28;43mopen\u001b[39;49m\u001b[43m(\u001b[49m\u001b[43minfile\u001b[49m\u001b[43m)\u001b[49m, \u001b[38;5;241m*\u001b[39m\u001b[38;5;241m*\u001b[39mkwargs)\n",
      "\u001b[0;31mFileNotFoundError\u001b[0m: [Errno 2] No such file or directory: './dSphs/target_list.yaml'"
     ]
    }
   ],
   "source": [
    "pipe.update_args(dict(config=configfile))"
   ]
  },
  {
   "cell_type": "markdown",
   "metadata": {},
   "source": [
    "Now we look around a bit, we can drill down into the links that make up the pipeline.\n",
    "In this case we have a pipeline that consists of a couple of preparation jobs,\n",
    "then 5 sub-pipelines ('data', 'sim_xxx', 'random').\n",
    "The sub-pipeline analyze the real data, and some different simulation cases.\n",
    "The 'random' sub-pipeline analyzes random sky directions."
   ]
  },
  {
   "cell_type": "markdown",
   "metadata": {},
   "source": [
    "At this point the pipeline is fully configured, let's look around."
   ]
  },
  {
   "cell_type": "code",
   "execution_count": null,
   "metadata": {},
   "outputs": [],
   "source": [
    "pipe.linknames"
   ]
  },
  {
   "cell_type": "code",
   "execution_count": null,
   "metadata": {},
   "outputs": [],
   "source": [
    "pipe['data']"
   ]
  },
  {
   "cell_type": "code",
   "execution_count": null,
   "metadata": {},
   "outputs": [],
   "source": [
    "pipe['data'].linknames"
   ]
  },
  {
   "cell_type": "markdown",
   "metadata": {},
   "source": [
    "We can print the status for the various links.\n",
    "Using recurse=True will also drill down to the status of the links in the sub pipelines."
   ]
  },
  {
   "cell_type": "code",
   "execution_count": null,
   "metadata": {},
   "outputs": [],
   "source": [
    "pipe.print_status()"
   ]
  },
  {
   "cell_type": "code",
   "execution_count": null,
   "metadata": {},
   "outputs": [],
   "source": [
    "pipe.print_status(recurse=True)"
   ]
  },
  {
   "cell_type": "markdown",
   "metadata": {},
   "source": [
    "We can access a particular Link in the pipeline.  \n",
    "We can ask:\n",
    "  what the default options for the link are ('\\_options')\n",
    "  what the current set of options are ('args')"
   ]
  },
  {
   "cell_type": "code",
   "execution_count": null,
   "metadata": {},
   "outputs": [],
   "source": [
    "pipe['data']['analyze-roi']"
   ]
  },
  {
   "cell_type": "code",
   "execution_count": null,
   "metadata": {},
   "outputs": [],
   "source": [
    "pipe['data']['analyze-roi']._options"
   ]
  },
  {
   "cell_type": "code",
   "execution_count": null,
   "metadata": {},
   "outputs": [],
   "source": [
    "pipe['data']['analyze-roi'].args"
   ]
  },
  {
   "cell_type": "markdown",
   "metadata": {},
   "source": [
    "We can ask what jobs get run by this link.   In this paritcular case the link\n",
    "runs 1 job that in turn dispatches several other jobs to the batch farm."
   ]
  },
  {
   "cell_type": "code",
   "execution_count": null,
   "metadata": {},
   "outputs": [],
   "source": [
    "pipe['data']['analyze-roi'].jobs"
   ]
  },
  {
   "cell_type": "markdown",
   "metadata": {},
   "source": [
    "Here we are talking to the link that represents any one of the disptached jobs.\n",
    "The command_template() function tells us how we would run this job from the UNIX command line."
   ]
  },
  {
   "cell_type": "code",
   "execution_count": null,
   "metadata": {},
   "outputs": [],
   "source": [
    "pipe['data']['analyze-roi'].scatter_link"
   ]
  },
  {
   "cell_type": "code",
   "execution_count": null,
   "metadata": {},
   "outputs": [],
   "source": [
    "pipe['data']['analyze-roi'].scatter_link.command_template()"
   ]
  },
  {
   "cell_type": "markdown",
   "metadata": {},
   "source": [
    "Here are ask what jobs will be dispatched.  Note that there are two jobs with slightly different names."
   ]
  },
  {
   "cell_type": "code",
   "execution_count": null,
   "metadata": {},
   "outputs": [],
   "source": [
    "pipe['data']['analyze-roi'].scatter_link.jobs"
   ]
  },
  {
   "cell_type": "markdown",
   "metadata": {},
   "source": [
    "Here are are asking for information about the first of those two jobs.  In particular, the specific options used for this instance of the job.  You can merge the job_config with the command_template to get the exact syntax for the instance of this command."
   ]
  },
  {
   "cell_type": "code",
   "execution_count": null,
   "metadata": {},
   "outputs": [],
   "source": [
    "pipe['data']['analyze-roi'].scatter_link.jobs['draco@dSphs.data.analyze-roi']"
   ]
  },
  {
   "cell_type": "code",
   "execution_count": null,
   "metadata": {},
   "outputs": [],
   "source": [
    "pipe['data']['analyze-roi'].scatter_link.jobs['draco@dSphs.data.analyze-roi'].job_config"
   ]
  },
  {
   "cell_type": "markdown",
   "metadata": {},
   "source": [
    "Here we run a single link.  \n",
    "We use 'run_with_log()' so that the log file will be in the correct place and the pipeline will know the job\n",
    "has completed.             "
   ]
  },
  {
   "cell_type": "code",
   "execution_count": null,
   "metadata": {},
   "outputs": [],
   "source": [
    "pipe['spec-table'].run_with_log()"
   ]
  },
  {
   "cell_type": "code",
   "execution_count": null,
   "metadata": {},
   "outputs": [],
   "source": [
    "pipe.print_status()"
   ]
  },
  {
   "cell_type": "markdown",
   "metadata": {},
   "source": [
    "Here we run the 'data' sub-pipeline."
   ]
  },
  {
   "cell_type": "code",
   "execution_count": null,
   "metadata": {
    "scrolled": true
   },
   "outputs": [],
   "source": [
    "pipe['data'].run(resubmit_failed=True)"
   ]
  },
  {
   "cell_type": "code",
   "execution_count": null,
   "metadata": {},
   "outputs": [],
   "source": [
    "pipe.print_status(recurse=True)"
   ]
  },
  {
   "cell_type": "code",
   "execution_count": null,
   "metadata": {},
   "outputs": [],
   "source": [
    "pipe['data']['convert-castro'].scatter_link.jobs['draco:ack2016_point:lgauss@dSphs.data.convert-castro'].job_config"
   ]
  },
  {
   "cell_type": "code",
   "execution_count": null,
   "metadata": {},
   "outputs": [],
   "source": [
    "pipe.run(resubmit_failed=True)"
   ]
  },
  {
   "cell_type": "code",
   "execution_count": null,
   "metadata": {},
   "outputs": [],
   "source": []
  }
 ],
 "metadata": {
  "kernelspec": {
   "display_name": "Python 3 (ipykernel)",
   "language": "python",
   "name": "python3"
  },
  "language_info": {
   "codemirror_mode": {
    "name": "ipython",
    "version": 3
   },
   "file_extension": ".py",
   "mimetype": "text/x-python",
   "name": "python",
   "nbconvert_exporter": "python",
   "pygments_lexer": "ipython3",
   "version": "3.9.19"
  }
 },
 "nbformat": 4,
 "nbformat_minor": 4
}
