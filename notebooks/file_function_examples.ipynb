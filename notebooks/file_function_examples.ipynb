{
 "cells": [
  {
   "cell_type": "markdown",
   "metadata": {},
   "source": [
    "# Manipulating FileFunction Spectra"
   ]
  },
  {
   "cell_type": "markdown",
   "metadata": {},
   "source": [
    "This tutorial demonstrates some of the methods that can be used to manipulate FileFunction sources in fermipy.  For this example we'll use the draco analysis."
   ]
  },
  {
   "cell_type": "code",
   "execution_count": 1,
   "metadata": {
    "collapsed": false,
    "scrolled": false
   },
   "outputs": [],
   "source": [
    "import os\n",
    "if os.path.isfile('../data/draco.tar.gz'):\n",
    "    !tar xzf ../data/draco.tar.gz\n",
    "else:\n",
    "    !curl -OL --output-dir ./../data/ https://raw.githubusercontent.com/fermiPy/fermipy-extras/master/data/draco.tar.gz\n",
    "    !tar xzf ./../data/draco.tar.gz\n"
   ]
  },
  {
   "cell_type": "code",
   "execution_count": 2,
   "metadata": {
    "collapsed": false,
    "scrolled": false
   },
   "outputs": [
    {
     "name": "stderr",
     "output_type": "stream",
     "text": [
      "2024-08-17 15:31:19 INFO    GTAnalysis.__init__(): \n",
      "--------------------------------------------------------------------------------\n",
      "fermipy version 1.2.2 \n",
      "ScienceTools version 2.2.0\n",
      "2024-08-17 15:31:20 INFO    GTAnalysis.setup(): Running setup.\n",
      "2024-08-17 15:31:20 INFO    GTBinnedAnalysis.setup(): Running setup for component 00\n",
      "2024-08-17 15:31:20 INFO    GTBinnedAnalysis._select_data(): Skipping data selection.\n",
      "2024-08-17 15:31:20 INFO    GTBinnedAnalysis.setup(): Using external LT cube.\n"
     ]
    },
    {
     "name": "stdout",
     "output_type": "stream",
     "text": [
      "{'Prefactor': 0, 'Index1': 1, 'Scale': 2, 'Cutoff': 3, 'Index2': 4}\n"
     ]
    },
    {
     "name": "stderr",
     "output_type": "stream",
     "text": [
      "2024-08-17 15:31:21 INFO    GTBinnedAnalysis._create_expcube(): Skipping gtexpcube.\n",
      "WARNING: FITSFixedWarning: 'datfix' made the change 'Set DATEREF to '2001-01-01T00:01:04.184' from MJDREF.\n",
      "Set MJD-OBS to 54682.655283 from DATE-OBS.\n",
      "Set MJD-END to 56874.155007 from DATE-END'. [astropy.wcs.wcs]\n",
      "2024-08-17 15:31:21 INFO    GTBinnedAnalysis._create_srcmaps(): Skipping gtsrcmaps.\n",
      "2024-08-17 15:31:21 INFO    GTBinnedAnalysis.setup(): Finished setup for component 00\n",
      "2024-08-17 15:31:21 INFO    GTBinnedAnalysis._create_binned_analysis(): Creating BinnedAnalysis for component 00.\n",
      "2024-08-17 15:31:34 INFO    GTAnalysis.setup(): Initializing source properties\n",
      "2024-08-17 15:31:40 INFO    GTAnalysis.setup(): Finished setup.\n"
     ]
    }
   ],
   "source": [
    "import matplotlib.pyplot as plt\n",
    "import numpy as np\n",
    "\n",
    "from fermipy.gtanalysis import GTAnalysis\n",
    "gta = GTAnalysis('draco/config.yaml')\n",
    "gta.setup()"
   ]
  },
  {
   "cell_type": "markdown",
   "metadata": {},
   "source": [
    "By default all sources are initialized with parametric spectral models (PowerLaw, etc.).  The spectral model of a source an be updated by calling ``set_source_spectrum()``."
   ]
  },
  {
   "cell_type": "code",
   "execution_count": 3,
   "metadata": {
    "collapsed": false
   },
   "outputs": [
    {
     "name": "stdout",
     "output_type": "stream",
     "text": [
      "Name           : 3FGL J1725.3+5853\n",
      "Associations   : ['3FGL J1725.3+5853', '7C 1724+5854', '2FGL J1725.2+5853']\n",
      "RA/DEC         :    261.332/    58.887\n",
      "GLON/GLAT      :     87.497/    33.997\n",
      "TS             : nan\n",
      "Npred          : 278.21\n",
      "Flux           : 9.942e-10 +/-      nan\n",
      "EnergyFlux     : 2.323e-06 +/-      nan\n",
      "SpatialModel   : PointSource\n",
      "SpectrumType   : PowerLaw\n",
      "Spectral Parameters\n",
      "b'Prefactor'   :  1.627e-13 +/-        nan\n",
      "b'Index'       :     -2.179 +/-        nan\n",
      "b'Scale'       :       1701 +/-        nan\n"
     ]
    }
   ],
   "source": [
    "print(gta.roi['3FGL J1725.3+5853'])"
   ]
  },
  {
   "cell_type": "markdown",
   "metadata": {},
   "source": [
    "Running ``set_source_spectrum()`` with no additional arguments will substitute the source spectrum with a FileFunction with the same distribution in differential flux.  The normalization parameter is defined such that 1.0 corresponds to the normalization of the original source spectrum.  "
   ]
  },
  {
   "cell_type": "code",
   "execution_count": 4,
   "metadata": {
    "collapsed": false
   },
   "outputs": [
    {
     "name": "stdout",
     "output_type": "stream",
     "text": [
      "Name           : 3FGL J1725.3+5853\n",
      "Associations   : ['3FGL J1725.3+5853', '7C 1724+5854', '2FGL J1725.2+5853']\n",
      "RA/DEC         :    261.332/    58.887\n",
      "GLON/GLAT      :     87.497/    33.997\n",
      "TS             : 286.20\n",
      "Npred          : 278.21\n",
      "Flux           : 9.942e-10 +/-      nan\n",
      "EnergyFlux     : 2.323e-06 +/-      nan\n",
      "SpatialModel   : PointSource\n",
      "SpectrumType   : FileFunction\n",
      "Spectral Parameters\n",
      "b'Normalization':          1 +/-          0\n"
     ]
    }
   ],
   "source": [
    "gta.set_source_spectrum('3FGL J1725.3+5853','FileFunction')\n",
    "print(gta.roi['3FGL J1725.3+5853'])"
   ]
  },
  {
   "cell_type": "markdown",
   "metadata": {},
   "source": [
    "The differential flux of a FileFunction source can be accessed or modified at runtime by calling the ``get_source_dfde()`` and ``set_source_dfde()`` methods:"
   ]
  },
  {
   "cell_type": "code",
   "execution_count": 5,
   "metadata": {
    "collapsed": false
   },
   "outputs": [
    {
     "name": "stdout",
     "output_type": "stream",
     "text": [
      "60946.41175392648\n",
      "61037.23412266739\n"
     ]
    },
    {
     "data": {
      "text/plain": [
       "<Figure size 640x480 with 0 Axes>"
      ]
     },
     "metadata": {},
     "output_type": "display_data"
    },
    {
     "data": {
      "image/png": "[encoded data removed]",
      "text/plain": [
       "<Figure size 640x480 with 1 Axes>"
      ]
     },
     "metadata": {},
     "output_type": "display_data"
    }
   ],
   "source": [
    "x, y = gta.get_source_dnde('3FGL J1725.3+5853')\n",
    "y1 = 1E-12*10**(-2.0*(x-3.0))*np.exp(-10**(x-3.0))\n",
    "\n",
    "plt.clf()\n",
    "plt.figure()\n",
    "plt.plot(x,y)\n",
    "plt.plot(x,y1)\n",
    "plt.gca().set_yscale('log')\n",
    "plt.gca().set_ylim(1E-17,1E-5)\n",
    "print(gta.like())\n",
    "gta.set_source_dnde('3FGL J1725.3+5853',y1)\n",
    "print(gta.like())\n",
    "plt.show()"
   ]
  },
  {
   "cell_type": "markdown",
   "metadata": {},
   "source": [
    "Calling ``set_source_spectrum()`` with the optional dictionary argument can be used to explicitly set the parameters of the new spectral model.  "
   ]
  },
  {
   "cell_type": "code",
   "execution_count": 6,
   "metadata": {
    "collapsed": false
   },
   "outputs": [
    {
     "data": {
      "text/plain": [
       "60946.40599616774"
      ]
     },
     "execution_count": 6,
     "metadata": {},
     "output_type": "execute_result"
    }
   ],
   "source": [
    "gta.set_source_spectrum('3FGL J1725.3+5853','PowerLaw',{'Index' : {'value' : -2.179}, 'Scale' : {'value' : 1701}, 'Prefactor' : {'value' : 1.627e-13}})\n",
    "gta.like()"
   ]
  }
 ],
 "metadata": {
  "kernelspec": {
   "display_name": "fermipy",
   "language": "python",
   "name": "python3"
  },
  "language_info": {
   "codemirror_mode": {
    "name": "ipython",
    "version": 3
   },
   "file_extension": ".py",
   "mimetype": "text/x-python",
   "name": "python",
   "nbconvert_exporter": "python",
   "pygments_lexer": "ipython3",
   "version": "3.9.19"
  }
 },
 "nbformat": 4,
 "nbformat_minor": 0
}
